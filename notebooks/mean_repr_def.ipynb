{
 "cells": [
  {
   "cell_type": "code",
   "execution_count": 1,
   "metadata": {},
   "outputs": [],
   "source": [
    "INTERACTIVE_MODE = False  # Set to True to run the notebook interactively\n",
    "DEBUG = False\n",
    "import sys\n",
    "\n",
    "if INTERACTIVE_MODE:\n",
    "    sys.path.append(\"../src\")\n",
    "    %load_ext autoreload\n",
    "    %autoreload 2\n",
    "    from tqdm.notebook import tqdm, trange\n",
    "else:\n",
    "    sys.path.append(\"./src\")\n",
    "    from tqdm import tqdm, trange"
   ]
  },
  {
   "cell_type": "code",
   "execution_count": 2,
   "metadata": {},
   "outputs": [],
   "source": [
    "import torch as th\n",
    "import numpy as np\n",
    "import pandas as pd\n",
    "import json\n",
    "import matplotlib.pyplot as plt\n",
    "from pathlib import Path\n",
    "from time import time\n",
    "import itertools\n",
    "from random import shuffle\n",
    "\n",
    "_ = th.set_grad_enabled(False)"
   ]
  },
  {
   "cell_type": "code",
   "execution_count": 3,
   "metadata": {},
   "outputs": [],
   "source": [
    "exp_name = \"mean_repr_def\""
   ]
  },
  {
   "cell_type": "code",
   "execution_count": 4,
   "metadata": {
    "tags": [
     "parameters"
    ]
   },
   "outputs": [],
   "source": [
    "# papermill parameters\n",
    "batch_size = 8\n",
    "# model = \"meta-llama/Llama-2-7b-hf\"\n",
    "model = \"google/gemma-2-2b\"\n",
    "model_path = None\n",
    "trust_remote_code = False\n",
    "# device = \"auto\"\n",
    "device = \"cuda:1\"\n",
    "remote = False\n",
    "num_few_shot = 5\n",
    "exp_id = \"test\" + str(int(time()))\n",
    "extra_args = []\n",
    "use_tl = False"
   ]
  },
  {
   "cell_type": "code",
   "execution_count": 5,
   "metadata": {},
   "outputs": [
    {
     "name": "stderr",
     "output_type": "stream",
     "text": [
      "/dlabscratch1/cdumas/thinking-lang/.conda/lib/python3.11/site-packages/transformers/tokenization_utils_base.py:1601: FutureWarning: `clean_up_tokenization_spaces` was not set. It will be set to `True` by default. This behavior will be deprecated in transformers v4.45, and will be then set to `False` by default. For more details check this issue: https://github.com/huggingface/transformers/issues/31884\n",
      "  warnings.warn(\n"
     ]
    }
   ],
   "source": [
    "from nnterp import load_model\n",
    "from dlabutils import model_path as dlab_model_path\n",
    "from argparse import ArgumentParser\n",
    "from sentence_transformers import SentenceTransformer\n",
    "\n",
    "parser = ArgumentParser()\n",
    "parser.add_argument(\"--gen-batch-size\", type=int, default=batch_size)\n",
    "parser.add_argument(\n",
    "    \"--embeddings-model\",\n",
    "    type=str,\n",
    "    default=\"sentence-transformers/paraphrase-multilingual-mpnet-base-v2\",\n",
    ")\n",
    "parser.add_argument(\"--emb-batch-size\", type=int, default=256)\n",
    "pargs = parser.parse_args(extra_args)\n",
    "gen_batch_size = pargs.gen_batch_size\n",
    "emb_batch_size = pargs.emb_batch_size\n",
    "embeddings_model = SentenceTransformer(dlab_model_path(pargs.embeddings_model), device=device)\n",
    "\n",
    "if model_path is None:\n",
    "    model_path = dlab_model_path(model)\n",
    "nn_model = load_model(\n",
    "    model_path,\n",
    "    trust_remote_code=trust_remote_code,\n",
    "    device_map=device,\n",
    "    use_tl=use_tl,\n",
    "    no_space_on_bos=True,\n",
    ")\n",
    "tokenizer = nn_model.tokenizer\n",
    "model_name = model.split(\"/\")[-1]"
   ]
  },
  {
   "cell_type": "code",
   "execution_count": 20,
   "metadata": {},
   "outputs": [],
   "source": [
    "from nnterp.nnsight_utils import (\n",
    "    collect_activations_batched,\n",
    "    get_num_layers,\n",
    "    get_layer_output,\n",
    ")\n",
    "from random import sample\n",
    "from load_dataset import get_word_translation_dataset, get_cloze_dataset, load_synset\n",
    "from utils import ulist\n",
    "from prompt_tools import translation_prompts, def_prompt, get_obj_id\n",
    "from torch.utils.data import DataLoader\n",
    "import ast\n",
    "import itertools\n",
    "import warnings\n",
    "from copy import deepcopy\n",
    "from collections import defaultdict\n",
    "import plotly.express as px\n",
    "from plotly.subplots import make_subplots\n",
    "import plotly.graph_objects as go\n",
    "\n",
    "\n",
    "def extract_def(generation):\n",
    "    match generation[-2], generation[-1]:\n",
    "        case '\"', \"\\n\":\n",
    "            pass\n",
    "        case _, \"\\n\":\n",
    "            end = generation.split(\"\\n\")[-2]\n",
    "            warnings.warn(f\"Last line does not end with a quote: {end}\")\n",
    "            generation = generation[:-1] + '\"\\n'\n",
    "        case _, '\"':\n",
    "            generation += \"\\n\"\n",
    "        case _:\n",
    "            end = generation.split(\"\\n\")[-1]\n",
    "            warnings.warn(f\"Last line does not end with a quote and newline: {end}\")\n",
    "            generation += '\"\\n'\n",
    "\n",
    "    last_line = generation.split(\"\\n\")[-2]\n",
    "    split = last_line.split('\"')\n",
    "    return '\"'.join(split[3:-1])\n",
    "\n",
    "\n",
    "def patched_generation(prompts, reprs, gen_batch_size):\n",
    "    pos = get_obj_id(prompts[0], tokenizer)\n",
    "    out = []\n",
    "    for i in trange(0, len(prompts), gen_batch_size):\n",
    "        end = min(i + gen_batch_size, len(prompts))\n",
    "        with nn_model.generate(\n",
    "            prompts[i:end],\n",
    "            max_new_tokens=50,\n",
    "            stop_strings=[\"\\n\"],\n",
    "            tokenizer=nn_model.tokenizer,\n",
    "        ):\n",
    "            for layer in range(get_num_layers(nn_model)):\n",
    "                get_layer_output(nn_model, layer)[:, pos] = reprs[i:end, layer]\n",
    "            out_model = nn_model.generator.output.tolist().save()\n",
    "        out.extend(out_model.value)\n",
    "    return out\n",
    "\n",
    "\n",
    "def patched_repr_defs(lang_pairs, target_lang, path=None):\n",
    "    global def_source_prompts, trans_source_prompts, trans_mean_reprs, def_mean_reprs, target_prompts, full_def_dataset, def_dataset, trans_dataset\n",
    "    lang_pairs = np.array(lang_pairs)\n",
    "    input_langs = ulist(lang_pairs[:, 0])\n",
    "    output_langs = ulist(lang_pairs[:, 1])\n",
    "    trans_dataset = get_word_translation_dataset(\n",
    "        target_lang, ulist(lang_pairs.flatten()), v2=True\n",
    "    )\n",
    "    full_def_dataset = get_cloze_dataset(\n",
    "        output_langs + [target_lang], drop_no_defs=True\n",
    "    )\n",
    "    # compute intersection between trans_dataset and def_dataset\n",
    "    common_words = set(trans_dataset[\"word_original\"]).intersection(\n",
    "        set(full_def_dataset[\"word_original\"])\n",
    "    )\n",
    "    if DEBUG:\n",
    "        common_words = list(common_words)[:8]\n",
    "        print(\"Debug mode: using only 8 common words\")\n",
    "    trans_dataset = trans_dataset[trans_dataset[\"word_original\"].isin(common_words)]\n",
    "    def_dataset = full_def_dataset[full_def_dataset[\"word_original\"].isin(common_words)]\n",
    "    assert len(trans_dataset) == len(def_dataset)\n",
    "    print(f\"Found {len(common_words)} common words\")\n",
    "    trans_source_prompts = np.array(\n",
    "        [\n",
    "            translation_prompts(\n",
    "                trans_dataset,\n",
    "                tokenizer,\n",
    "                input_lang,\n",
    "                output_lang,\n",
    "                n=num_few_shot,\n",
    "                cut_at_obj=True,\n",
    "            )\n",
    "            for input_lang, output_lang in lang_pairs\n",
    "        ]\n",
    "    )\n",
    "    trans_source_prompts_str = np.array(\n",
    "        [[p.prompt for p in prompts] for prompts in trans_source_prompts]\n",
    "    )\n",
    "    def_source_prompts = [\n",
    "        def_prompt(\n",
    "            def_dataset,\n",
    "            tokenizer,\n",
    "            output_lang,\n",
    "            n=num_few_shot,\n",
    "            use_word_to_def=True,\n",
    "            cut_at_obj=True,\n",
    "        )\n",
    "        for output_lang in output_langs\n",
    "    ]\n",
    "    def_source_prompts_str = np.array(\n",
    "        [[p.prompt for p in prompts] for prompts in def_source_prompts]\n",
    "    )\n",
    "    trans_activations = (\n",
    "        collect_activations_batched(\n",
    "            nn_model,\n",
    "            list(trans_source_prompts_str.flatten()),\n",
    "            batch_size=batch_size,\n",
    "            tqdm=tqdm,\n",
    "        )\n",
    "        .transpose(0, 1)\n",
    "        .reshape(len(lang_pairs), len(trans_dataset), get_num_layers(nn_model), -1)\n",
    "    )  # num_langs, num_words, num_layers, model_dim\n",
    "    trans_mean_reprs = trans_activations.mean(dim=0)  # num_words, num_layers, model_dim\n",
    "    trans_single_reprs = trans_activations[0]  # num_words, num_layers, model_dim\n",
    "    def_activations = (\n",
    "        collect_activations_batched(\n",
    "            nn_model,\n",
    "            list(def_source_prompts_str.flatten()),\n",
    "            batch_size=batch_size,\n",
    "            tqdm=tqdm,\n",
    "        )\n",
    "        .transpose(0, 1)\n",
    "        .reshape(len(output_langs), len(def_dataset), get_num_layers(nn_model), -1)\n",
    "    )  # num_langs, num_words, num_layers, model_dim\n",
    "    def_mean_reprs = def_activations.mean(dim=0)  # num_words, num_layers, model_dim\n",
    "    def_single_reprs = def_activations[0]  # num_words, num_layers, model_dim\n",
    "    target_prompts = []\n",
    "    for word_original in def_dataset[\"word_original\"]:\n",
    "        safe_df = full_def_dataset[full_def_dataset[\"word_original\"] != word_original]\n",
    "        safe_prompt = sample(\n",
    "            def_prompt(\n",
    "                safe_df,\n",
    "                tokenizer,\n",
    "                target_lang,\n",
    "                n=num_few_shot,\n",
    "                use_word_to_def=True,\n",
    "                cut_at_obj=False,\n",
    "            ),\n",
    "            1,\n",
    "        )[0]\n",
    "        target_prompts.append(safe_prompt)\n",
    "    target_prompts_str = [p.prompt for p in target_prompts]\n",
    "    generations = {}\n",
    "    for repr_type, reprs in [\n",
    "        (\"from def\", def_mean_reprs),\n",
    "        (\"from single def\", def_single_reprs),\n",
    "        (\"from trans\", trans_mean_reprs),\n",
    "        (\"from single trans\", trans_single_reprs),\n",
    "    ]:\n",
    "        output = patched_generation(target_prompts_str, reprs, gen_batch_size)\n",
    "        generations[repr_type] = tokenizer.batch_decode(\n",
    "            output, skip_special_tokens=True\n",
    "        )\n",
    "\n",
    "    json_file = path / (exp_id + \"_patched_generations.json\")\n",
    "    defs = defaultdict(dict)\n",
    "    generations_dict = defaultdict(dict)\n",
    "    for repr_type in [\"from def\", \"from single def\", \"from trans\", \"from single trans\"]:\n",
    "        for i, word_original in enumerate(def_dataset[\"word_original\"]):\n",
    "            gen = generations[repr_type][i]\n",
    "            defs[word_original][repr_type] = extract_def(gen)\n",
    "            generations_dict[word_original][repr_type] = gen\n",
    "    json_dic = {\n",
    "        \"defs\": defs,\n",
    "        \"generations\": generations_dict,\n",
    "    }\n",
    "    with open(json_file, \"w\") as f:\n",
    "        json.dump(json_dic, f, indent=4)\n",
    "    return defs\n",
    "\n",
    "\n",
    "def gen_baseline_defs(lang, words, exp_path):\n",
    "    df = get_cloze_dataset(lang, drop_no_defs=True)\n",
    "    prompts = def_prompt(\n",
    "        df, tokenizer, lang, n=num_few_shot, use_word_to_def=True, words=words\n",
    "    )\n",
    "    str_prompts = [p.prompt for p in prompts]\n",
    "    dataloader = DataLoader(str_prompts, batch_size=batch_size)\n",
    "    generations = []\n",
    "    for batch in dataloader:\n",
    "        with nn_model.generate(\n",
    "            batch, max_new_tokens=50, stop_strings=[\"\\n\"], tokenizer=nn_model.tokenizer\n",
    "        ):\n",
    "            out = nn_model.generator.output.tolist().save()\n",
    "        generations.extend(out.value)\n",
    "    generations = tokenizer.batch_decode(generations, skip_special_tokens=True)\n",
    "    generations = {\n",
    "        word: generation.split(\"\\n\")[-2] for word, generation in zip(words, generations)\n",
    "    }\n",
    "    defs = {word: extract_def(generation) for word, generation in generations.items()}\n",
    "    json_dic = {\"defs\": defs, \"generations\": generations}\n",
    "    json_file = exp_path / (exp_id + \"baseline_defs.json\")\n",
    "    with open(json_file, \"w\") as f:\n",
    "        json.dump(json_dic, f, indent=4)\n",
    "    return defs\n",
    "\n",
    "\n",
    "def ground_truth_defs(lang, words):\n",
    "    df = load_synset(lang)\n",
    "    return {\n",
    "        word: ulist(\n",
    "            ast.literal_eval(df[df[\"word_original\"] == word][\"definitions\"].tolist()[0])\n",
    "        )\n",
    "        for word in words\n",
    "    }\n",
    "\n",
    "\n",
    "def generate_embeddings(prompts):\n",
    "    if isinstance(prompts, dict):\n",
    "        prompts = list(itertools.chain.from_iterable(prompts.values()))\n",
    "    embeddings = embeddings_model.encode(\n",
    "        prompts, batch_size=emb_batch_size, convert_to_tensor=True\n",
    "    )\n",
    "    return embeddings\n",
    "\n",
    "\n",
    "def compare_defs(defs, gt_defs_embeddings):\n",
    "    \"\"\"\n",
    "    Compare the definitions generated by the model to the ground truth definitions.\n",
    "\n",
    "    Args:\n",
    "        defs: a dictionary of word -> list of definitions\n",
    "        gt_defs_embeddings: a tensor of shape (num_words, num_defs, embedding_dim) containing the embeddings of the ground truth definitions\n",
    "\n",
    "    Returns:\n",
    "    \"\"\"\n",
    "    all_defs = list(itertools.chain.from_iterable(defs.values()))\n",
    "    all_defs_embeddings = generate_embeddings(all_defs)\n",
    "    similarities = embeddings_model.similarity(all_defs_embeddings, gt_defs_embeddings)\n",
    "    return similarities\n",
    "\n",
    "\n",
    "def plot_defs_comparison(result_dict, from_what, title=None, path=None):\n",
    "    titles = {\n",
    "        \"mean sim\": \"Mean Similarity with GT Defs\",\n",
    "        \"sim w mean\": \"Similarity with Mean Embedding of GT Defs\",\n",
    "        \"max sim\": \"Max Similarity with GT Defs\",\n",
    "        \"mean sim with others\": \"Mean Similarity with Other Words\",\n",
    "        \"max sim with others\": \"Max Similarity with Other Words\",\n",
    "    }\n",
    "    metrics = list(titles.keys())\n",
    "    values = {\n",
    "        titles[m]: [result_dict[word][from_what][m] for word in result_dict]\n",
    "        for m in metrics\n",
    "    }\n",
    "    fig = make_subplots(\n",
    "        rows=2,\n",
    "        cols=3,\n",
    "        subplot_titles=[titles[m] for m in metrics],\n",
    "    )\n",
    "    for i, (name, vals) in enumerate(values.items()):\n",
    "        fig.add_trace(\n",
    "            go.Histogram(x=vals, name=name, bingroup=\"a\"),\n",
    "            row=(i // 3) + 1,\n",
    "            col=(i % 3) + 1,\n",
    "        )\n",
    "    fig.update_layout(\n",
    "        title_text=f\"Definition Embedding Comparison Metrics - {title or from_what}\",\n",
    "        showlegend=False,\n",
    "        autosize=True,\n",
    "        height=800,\n",
    "        width=1000,\n",
    "    )\n",
    "\n",
    "    for i in range(1, 6):\n",
    "        fig.update_xaxes(\n",
    "            title_text=\"Similarity Score\",\n",
    "            row=(i - 1) // 3 + 1,\n",
    "            col=(i - 1) % 3 + 1,\n",
    "            range=[0, 1],\n",
    "        )\n",
    "        fig.update_yaxes(title_text=\"Count\", row=(i - 1) // 3 + 1, col=(i - 1) % 3 + 1)\n",
    "    fig.show()\n",
    "    if path is not None:\n",
    "        fig.write_image(path / f\"{exp_id}_{from_what}_defs_comparison.png\", scale=3)\n",
    "    return fig\n",
    "\n",
    "\n",
    "def plot_compare_setup(result_dict, path=None):\n",
    "    titles = {\n",
    "        \"mean sim\": \"Mean Similarity with GT Defs\",\n",
    "        \"sim w mean\": \"Similarity with Mean Embedding of GT Defs\",\n",
    "        \"max sim\": \"Max Similarity with GT Defs\",\n",
    "        \"mean sim with others\": \"Mean Similarity with Other Words\",\n",
    "        \"max sim with others\": \"Max Similarity with Other Words\",\n",
    "    }\n",
    "    metrics = list(titles.keys())\n",
    "\n",
    "    # Calculate means for each metric and source\n",
    "    means = {}\n",
    "    for source in [\"from trans\", \"from def\", \"baseline\", \"rnd gt\"]:\n",
    "        means[source] = {\n",
    "            metric: np.mean([result_dict[word][source][metric] for word in result_dict])\n",
    "            for metric in metrics\n",
    "        }\n",
    "\n",
    "    # Create subplots\n",
    "    fig = make_subplots(\n",
    "        rows=2,\n",
    "        cols=3,\n",
    "        subplot_titles=[titles[m] for m in metrics],\n",
    "    )\n",
    "\n",
    "    # Add bars for each metric\n",
    "    colors = {\n",
    "        \"from trans\": \"blue\",\n",
    "        \"from def\": \"red\",\n",
    "        \"baseline\": \"green\",\n",
    "        \"rnd gt\": \"purple\",\n",
    "    }\n",
    "    for i, metric in enumerate(metrics):\n",
    "        row = (i // 3) + 1\n",
    "        col = (i % 3) + 1\n",
    "\n",
    "        fig.add_trace(\n",
    "            go.Bar(\n",
    "                x=list(means.keys()),\n",
    "                y=[means[source][metric] for source in means.keys()],\n",
    "                name=titles[metric],\n",
    "                marker_color=[colors[source] for source in means.keys()],\n",
    "            ),\n",
    "            row=row,\n",
    "            col=col,\n",
    "        )\n",
    "\n",
    "        # Update axes\n",
    "        if col == 1:\n",
    "            fig.update_yaxes(title_text=\"Mean Score\", row=row, col=col, range=[0, 1])\n",
    "        if row == 2:\n",
    "            fig.update_xaxes(title_text=\"Source\", row=row, col=col)\n",
    "\n",
    "    fig.update_layout(\n",
    "        title_text=\"Mean Metrics Across Definition Sources\",\n",
    "        showlegend=False,\n",
    "        autosize=True,\n",
    "        title_font_size=24,\n",
    "        margin=dict(t=80, b=30, l=30, r=30, pad=0),\n",
    "        height=800,\n",
    "        width=1200,\n",
    "    )\n",
    "\n",
    "    fig.show()\n",
    "    if path is not None:\n",
    "        fig.write_image(path / f\"{exp_id}_defs_comparison.png\", scale=3)\n",
    "    # Create histogram plots\n",
    "    fig2 = make_subplots(\n",
    "        rows=2,\n",
    "        cols=3,\n",
    "        subplot_titles=[titles[m] for m in metrics],\n",
    "    )\n",
    "\n",
    "    # Add histograms for each metric\n",
    "    colors = {\n",
    "        \"from trans\": \"blue\",\n",
    "        \"from def\": \"red\",\n",
    "        \"baseline\": \"green\",\n",
    "        \"rnd gt\": \"purple\",\n",
    "    }\n",
    "    for i, metric in enumerate(metrics):\n",
    "        row = (i // 3) + 1\n",
    "        col = (i % 3) + 1\n",
    "\n",
    "        for source in means.keys():\n",
    "            values = [result_dict[word][source][metric] for word in result_dict]\n",
    "            fig2.add_trace(\n",
    "                go.Histogram(\n",
    "                    x=values,\n",
    "                    name=source,\n",
    "                    showlegend=i == 0,\n",
    "                    marker_color=colors[source],\n",
    "                    opacity=0.75,\n",
    "                    nbinsx=20,\n",
    "                ),\n",
    "                row=row,\n",
    "                col=col,\n",
    "            )\n",
    "\n",
    "        # Update axes\n",
    "        if col == 1:\n",
    "            fig2.update_yaxes(title_text=\"Count\", row=row, col=col)\n",
    "        if row == 2:\n",
    "            fig2.update_xaxes(title_text=\"Score\", row=row, col=col, range=[0, 1])\n",
    "\n",
    "    fig2.update_layout(\n",
    "        title_text=\"Distribution of Metrics Across Definition Sources\",\n",
    "        showlegend=True,\n",
    "        barmode=\"group\",\n",
    "        autosize=True,\n",
    "        title_font_size=24,\n",
    "        margin=dict(t=80, b=30, l=60, r=60, pad=0),\n",
    "        height=800,\n",
    "        width=1200,\n",
    "    )\n",
    "\n",
    "    fig2.show()\n",
    "    if path is not None:\n",
    "        fig2.write_image(path / f\"{exp_id}_defs_histogram.png\", scale=3)\n",
    "    return fig, fig2\n",
    "\n",
    "\n",
    "def experiment(lang_pairs, target_lang):\n",
    "    global defs, baseline_defs, gt_defs, gt_defs_embeddings, mean_embeddings, gt_embeddings_dict, result_dict\n",
    "    pref = \"_\".join(\"-\".join(ls) for ls in lang_pairs)\n",
    "    path = Path(\"results\") / model_name / exp_name / f\"{pref}-{target_lang}\"\n",
    "    path.mkdir(parents=True, exist_ok=True)\n",
    "\n",
    "    # === Generate Definitions ===\n",
    "    defs = patched_repr_defs(lang_pairs, target_lang, path)\n",
    "    baseline_defs = gen_baseline_defs(target_lang, defs.keys(), path)\n",
    "    gt_defs = ground_truth_defs(target_lang, defs.keys())\n",
    "    print(\n",
    "        f\"len gt_defs: {len(gt_defs)}, len defs: {len(defs)}, len baseline_defs: {len(baseline_defs)}\"\n",
    "    )\n",
    "    for w_defs in gt_defs.values():\n",
    "        shuffle(w_defs)\n",
    "    all_defs = {\n",
    "        word: [\n",
    "            defs[word][\"from trans\"],\n",
    "            defs[word][\"from def\"],\n",
    "            defs[word][\"from single trans\"],\n",
    "            defs[word][\"from single def\"],\n",
    "            baseline_defs[word],\n",
    "            gt_defs[word][0],\n",
    "        ]\n",
    "        for word in defs\n",
    "    }\n",
    "    print(f\"len all_defs: {len(all_defs)}\")\n",
    "\n",
    "    # === Generate Embeddings ===\n",
    "    gt_defs_embeddings = generate_embeddings(gt_defs)\n",
    "    all_idx = []\n",
    "    gt_embeddings_dict = {}\n",
    "    prev_idx = 0\n",
    "    for word, defs_list in gt_defs.items():\n",
    "        gt_embeddings_dict[word] = gt_defs_embeddings[\n",
    "            prev_idx : prev_idx + len(defs_list)\n",
    "        ]\n",
    "        prev_idx += len(defs_list)\n",
    "        all_idx.append(prev_idx)\n",
    "    all_idx.append(0)  # for the first word\n",
    "\n",
    "    mean_embeddings = th.stack([emb.mean(dim=0) for emb in gt_embeddings_dict.values()])\n",
    "    assert (\n",
    "        mean_embeddings.shape[0] == len(defs)\n",
    "        and mean_embeddings.shape[1] == gt_defs_embeddings.shape[1]\n",
    "    ), f\"Shape mismatch: mean_embeddings.shape={mean_embeddings.shape} != gt_defs_embeddings.shape={gt_defs_embeddings.shape}, len(defs)={len(defs)}\"\n",
    "    similarities = compare_defs(all_defs, gt_defs_embeddings)\n",
    "    similarities_mean = compare_defs(all_defs, mean_embeddings)\n",
    "    methods = [\n",
    "        \"from trans\",\n",
    "        \"from def\",\n",
    "        \"from single trans\",\n",
    "        \"from single def\",\n",
    "        \"baseline\",\n",
    "        \"rnd gt\",\n",
    "    ]\n",
    "    dict_factory = lambda: {m: {} for m in methods}\n",
    "\n",
    "    result_dict = defaultdict(dict_factory)\n",
    "    for i, word in enumerate(defs):\n",
    "        for j, method in enumerate(methods):\n",
    "            sim_w_mean = similarities_mean[len(methods) * i + j][i]\n",
    "            start_idx = all_idx[i - 1]\n",
    "            if method == \"rnd gt\":\n",
    "                start_idx += 1  # skip self\n",
    "            sims = similarities[len(methods) * i + j][start_idx : all_idx[i]]\n",
    "            other_sims = th.cat(\n",
    "                [\n",
    "                    similarities[len(methods) * i + j][0 : all_idx[i - 1]],\n",
    "                    similarities[len(methods) * i + j][all_idx[i] :],\n",
    "                ]\n",
    "            )\n",
    "            result_dict[word][method][\"mean sim with others\"] = other_sims.mean().item()\n",
    "            result_dict[word][method][\"max sim with others\"] = other_sims.max().item()\n",
    "            if method == \"rnd gt\" and len(gt_defs[word]) == 1:\n",
    "                # doesn't make sense to compare to itself\n",
    "                result_dict[word][method][\"sim w mean\"] = None\n",
    "                result_dict[word][method][\"mean sim\"] = None\n",
    "                result_dict[word][method][\"max sim\"] = None\n",
    "            else:\n",
    "                result_dict[word][method][\"sim w mean\"] = sim_w_mean.item()\n",
    "                result_dict[word][method][\"mean sim\"] = sims.mean().item()\n",
    "                result_dict[word][method][\"max sim\"] = sims.max().item()\n",
    "\n",
    "    json_file = path / (exp_id + \"_defs_comparison.json\")\n",
    "    with open(json_file, \"w\") as f:\n",
    "        json.dump(result_dict, f, indent=4)\n",
    "\n",
    "    # === Plotting ===\n",
    "    fig_trans = plot_defs_comparison(\n",
    "        result_dict,\n",
    "        \"from trans\",\n",
    "        \"Patching mean representation from translations\",\n",
    "        path,\n",
    "    )\n",
    "    fig_def = plot_defs_comparison(\n",
    "        result_dict, \"from def\", \"Patching mean representation from definitions\", path\n",
    "    )\n",
    "    fig_baseline = plot_defs_comparison(\n",
    "        result_dict, \"baseline\", \"Vanilla prompting\", path\n",
    "    )\n",
    "    fig_rnd_gt = plot_defs_comparison(\n",
    "        result_dict, \"rnd gt\", \"Random GT definition\", path\n",
    "    )\n",
    "    fig_compare = plot_compare_setup(result_dict, path)\n",
    "    return fig_trans, fig_def, fig_baseline, fig_rnd_gt, fig_compare"
   ]
  },
  {
   "cell_type": "code",
   "execution_count": 12,
   "metadata": {},
   "outputs": [
    {
     "data": {
      "application/vnd.plotly.v1+json": {
       "config": {
        "plotlyServerURL": "https://plot.ly"
       },
       "data": [
        {
         "bingroup": "a",
         "name": "Mean Similarity with GT Defs",
         "type": "histogram",
         "x": [
          0.6136608123779297,
          0.5787585377693176,
          0.5963180065155029,
          0.8293416500091553,
          0.23778793215751648,
          0.7380659580230713,
          0.7218431234359741,
          0.29244327545166016,
          0.6478307843208313,
          0.6981834769248962,
          0.45102542638778687,
          0.14721564948558807,
          0.6237591505050659,
          0.6894472241401672,
          0.41447317600250244,
          0.5899977684020996,
          0.8231884241104126,
          0.7671962380409241,
          0.09795600175857544,
          0.702044665813446,
          0.23221635818481445,
          0.6292054057121277,
          0.38818442821502686,
          0.6958925127983093,
          0.15821519494056702,
          0.7208179831504822,
          0.6457549333572388,
          0.23131303489208221,
          0.7485280632972717,
          0.8062547445297241,
          0.6544002294540405,
          0.42825135588645935,
          0.7753275632858276,
          0.6088230609893799,
          0.7493786811828613,
          0.8864445686340332,
          0.27773064374923706,
          0.7345046401023865,
          0.7889726161956787,
          0.7339214086532593,
          0.5485712289810181,
          0.594129741191864,
          0.6677848696708679,
          0.6736953854560852,
          0.6744967699050903,
          0.6715679168701172,
          0.3563566207885742,
          0.7265461683273315,
          0.34088853001594543,
          0.36898183822631836,
          0.7048542499542236,
          0.20482420921325684,
          0.785768449306488,
          0.10093121975660324,
          0.1714649349451065,
          0.666432797908783,
          0.3073973059654236,
          0.32027241587638855,
          0.6616528034210205,
          0.6529699563980103,
          0.7109525203704834,
          0.15917439758777618,
          0.1558084636926651,
          0.5130722522735596,
          0.5409062504768372,
          0.7592193484306335,
          0.8543885350227356,
          0.7173854112625122,
          0.4942733943462372,
          0.6584513187408447,
          0.409237265586853,
          0.227676123380661,
          0.15331041812896729,
          0.6802783012390137,
          0.7765560150146484,
          0.28802597522735596,
          0.7481388449668884,
          0.7473257184028625,
          0.1283201426267624,
          0.7711688876152039,
          0.6322230100631714,
          0.7260373830795288,
          0.7490000128746033,
          0.8398438096046448,
          0.7900360822677612,
          0.21328690648078918,
          0.7126948833465576,
          0.6637645959854126,
          0.766726016998291,
          0.25325310230255127,
          0.22316980361938477,
          0.19050627946853638,
          0.7291518449783325,
          0.38362011313438416,
          0.40848737955093384,
          0.7401421070098877,
          0.20920512080192566,
          0.3538157045841217,
          0.3480115532875061,
          0.7334019541740417,
          0.08796766400337219,
          0.6946887969970703,
          0.6061429977416992,
          0.5295705199241638,
          0.7369697093963623,
          0.6760260462760925,
          0.5400600433349609,
          0.838576078414917,
          0.7356262803077698,
          0.6287242770195007,
          0.7645364999771118,
          0.6632975339889526,
          0.4112350046634674,
          0.7420322895050049,
          0.6546947360038757,
          0.8120300769805908,
          0.18199963867664337,
          0.2879558205604553,
          0.6561786532402039,
          0.5059884786605835,
          0.5530903339385986,
          0.7463564276695251,
          0.6610661745071411,
          0.8189590573310852,
          0.6585637927055359,
          0.7480437159538269,
          0.7147722244262695,
          0.4080801010131836,
          0.7399027347564697,
          0.7176617383956909,
          0.3022112250328064,
          0.5762758255004883,
          0.6424822807312012,
          0.7447237968444824,
          0.8396800756454468,
          0.16385112702846527,
          0.8093526363372803,
          0.25877538323402405,
          0.7503661513328552,
          0.7272427678108215,
          0.35242968797683716,
          0.7393672466278076,
          0.7721184492111206,
          0.6677958965301514,
          0.7689990997314453,
          0.5273928642272949,
          0.7185639142990112,
          0.8353318572044373,
          0.5471996665000916,
          0.5926138758659363,
          0.6827965974807739,
          0.7782049179077148,
          0.21240559220314026,
          0.7453075051307678,
          0.5529717803001404,
          0.270616739988327
         ],
         "xaxis": "x",
         "yaxis": "y"
        },
        {
         "bingroup": "a",
         "name": "Similarity with Mean Embedding of GT Defs",
         "type": "histogram",
         "x": [
          0.741587221622467,
          0.6644700169563293,
          0.7338557243347168,
          0.9342027902603149,
          0.3141545355319977,
          0.8413882255554199,
          0.8458125591278076,
          0.3403880000114441,
          0.7022327780723572,
          0.8214749097824097,
          0.5083044767379761,
          0.16510307788848877,
          0.7379932403564453,
          0.8070037364959717,
          0.5013035535812378,
          0.7240673899650574,
          0.9365724921226501,
          0.9043723344802856,
          0.10453853756189346,
          0.8883613348007202,
          0.266126424074173,
          0.8045612573623657,
          0.4520352780818939,
          0.7434320449829102,
          0.18900184333324432,
          0.8650776147842407,
          0.733370304107666,
          0.2656950056552887,
          0.8397953510284424,
          0.8831315040588379,
          0.7412815093994141,
          0.5063321590423584,
          0.8736773729324341,
          0.8195433616638184,
          0.8744536638259888,
          0.9468860030174255,
          0.3327280879020691,
          0.8049633502960205,
          0.8975450992584229,
          0.8546724319458008,
          0.608659565448761,
          0.8043843507766724,
          0.8023553490638733,
          0.8273533582687378,
          0.8200114965438843,
          0.8233769536018372,
          0.4665182828903198,
          0.836687445640564,
          0.4331861436367035,
          0.44350212812423706,
          0.8402973413467407,
          0.24748943746089935,
          0.8704034090042114,
          0.12370600551366806,
          0.20585623383522034,
          0.7801016569137573,
          0.3701208233833313,
          0.3853178322315216,
          0.7794204950332642,
          0.7316826581954956,
          0.8856551647186279,
          0.2030678540468216,
          0.18080273270606995,
          0.6246744990348816,
          0.678385853767395,
          0.8551934957504272,
          0.9568986892700195,
          0.8174991011619568,
          0.6213244199752808,
          0.7326668500900269,
          0.48271507024765015,
          0.25398463010787964,
          0.19186362624168396,
          0.8205704689025879,
          0.9057334065437317,
          0.3305608928203583,
          0.8371365070343018,
          0.8476951122283936,
          0.14361748099327087,
          0.873135507106781,
          0.7106897234916687,
          0.7746142148971558,
          0.9120274782180786,
          0.9286202192306519,
          0.890116274356842,
          0.2987770438194275,
          0.798698365688324,
          0.7837815284729004,
          0.9052431583404541,
          0.30161023139953613,
          0.31547224521636963,
          0.21390827000141144,
          0.7700996398925781,
          0.5138598680496216,
          0.47141382098197937,
          0.879421591758728,
          0.24434663355350494,
          0.4471423029899597,
          0.4465863108634949,
          0.8124467730522156,
          0.09891301393508911,
          0.8461089134216309,
          0.7712288498878479,
          0.6669689416885376,
          0.9203731417655945,
          0.7790796756744385,
          0.631855845451355,
          0.9459763765335083,
          0.8721300959587097,
          0.7820775508880615,
          0.8804437518119812,
          0.8065180778503418,
          0.5106745958328247,
          0.7988132238388062,
          0.7025979161262512,
          0.9088049530982971,
          0.2040824592113495,
          0.3162405490875244,
          0.8111484050750732,
          0.6463046073913574,
          0.6875046491622925,
          0.8775984048843384,
          0.7259539365768433,
          0.8898341655731201,
          0.8388468027114868,
          0.8595412373542786,
          0.822705864906311,
          0.4488068222999573,
          0.8438299894332886,
          0.8271591663360596,
          0.33742380142211914,
          0.6316748857498169,
          0.7355443239212036,
          0.8386001586914062,
          0.8941986560821533,
          0.18241748213768005,
          0.9208329916000366,
          0.31761205196380615,
          0.8156716823577881,
          0.8455226421356201,
          0.399471640586853,
          0.9083839654922485,
          0.8358447551727295,
          0.8644256591796875,
          0.8649887442588806,
          0.5894536375999451,
          0.8082392811775208,
          0.9104441404342651,
          0.6337676048278809,
          0.7975547313690186,
          0.7938809990882874,
          0.8774420022964478,
          0.2527163624763489,
          0.848162055015564,
          0.6896152496337891,
          0.3298072814941406
         ],
         "xaxis": "x2",
         "yaxis": "y2"
        },
        {
         "bingroup": "a",
         "name": "Max Similarity with GT Defs",
         "type": "histogram",
         "x": [
          0.8003093004226685,
          0.6790727972984314,
          0.7064064741134644,
          0.8889508247375488,
          0.3613155484199524,
          0.9458310604095459,
          0.8338885307312012,
          0.4738573133945465,
          0.8320682048797607,
          0.7598929405212402,
          0.6160247921943665,
          0.20369663834571838,
          0.8723654747009277,
          0.8060790300369263,
          0.4763011038303375,
          0.7695729732513428,
          0.9292334318161011,
          0.8996597528457642,
          0.14405319094657898,
          0.8664949536323547,
          0.2959577143192291,
          0.8680113554000854,
          0.5442466735839844,
          0.7495449185371399,
          0.2112685590982437,
          0.9002730250358582,
          0.7504175901412964,
          0.33031386137008667,
          0.8585513830184937,
          0.8457239866256714,
          0.8140311241149902,
          0.544285774230957,
          0.8918533325195312,
          0.9404234886169434,
          0.7936502695083618,
          0.9674053192138672,
          0.3574792444705963,
          0.7927796840667725,
          0.8961568474769592,
          0.7924429178237915,
          0.6511093378067017,
          0.8691292405128479,
          0.8228596448898315,
          0.8687938451766968,
          0.7980415225028992,
          0.794144868850708,
          0.5619398951530457,
          0.8601739406585693,
          0.6780586242675781,
          0.510432779788971,
          0.800869345664978,
          0.3839762806892395,
          0.8323888778686523,
          0.1347094625234604,
          0.27950453758239746,
          0.8197895288467407,
          0.4256001114845276,
          0.4195229411125183,
          0.8208553194999695,
          0.8490692377090454,
          0.8115245699882507,
          0.19600385427474976,
          0.24417060613632202,
          0.7795484662055969,
          0.6769495606422424,
          0.7952556610107422,
          0.9940186738967896,
          0.837766170501709,
          0.6580668687820435,
          0.7155877351760864,
          0.5701202750205994,
          0.28183498978614807,
          0.23231929540634155,
          0.8035852313041687,
          0.8802119493484497,
          0.38193488121032715,
          0.8483471870422363,
          0.8598586916923523,
          0.21492548286914825,
          0.8441945314407349,
          0.6973745822906494,
          0.7979968786239624,
          0.8804735541343689,
          0.9192218780517578,
          0.8547174334526062,
          0.4105823040008545,
          0.7662923336029053,
          0.8258036375045776,
          0.8536692261695862,
          0.3643350899219513,
          0.3218488395214081,
          0.3340573012828827,
          0.7296772003173828,
          0.561192512512207,
          0.5789006948471069,
          0.8708041906356812,
          0.286490797996521,
          0.5330619215965271,
          0.7444924116134644,
          0.7635173797607422,
          0.14034762978553772,
          0.8169910907745361,
          0.7268381118774414,
          0.6856181025505066,
          0.8816076517105103,
          0.7625478506088257,
          0.7432911992073059,
          0.9465630054473877,
          0.938927173614502,
          0.8872076272964478,
          0.940550684928894,
          0.8751620054244995,
          0.5083029270172119,
          0.7737441062927246,
          0.7402796745300293,
          0.8923361897468567,
          0.22720569372177124,
          0.3322383761405945,
          0.7343411445617676,
          0.7502971291542053,
          0.6795392632484436,
          0.9236117601394653,
          0.7963655591011047,
          0.8931134939193726,
          0.8320695161819458,
          0.8646447658538818,
          0.8854888081550598,
          0.4644499719142914,
          0.8484762907028198,
          0.8385938405990601,
          0.3474273979663849,
          0.6517799496650696,
          0.8231523036956787,
          0.842280387878418,
          0.8823165893554688,
          0.23781561851501465,
          0.9818882942199707,
          0.3844907879829407,
          0.7907834053039551,
          0.8588871955871582,
          0.4395155906677246,
          0.8781547546386719,
          0.7897852659225464,
          0.8745739459991455,
          0.925723671913147,
          0.7203434705734253,
          0.8199410438537598,
          0.8645218014717102,
          0.7085532546043396,
          0.830122709274292,
          0.7654247283935547,
          0.8469547033309937,
          0.26679226756095886,
          0.8084779977798462,
          0.6594650745391846,
          0.35118693113327026
         ],
         "xaxis": "x3",
         "yaxis": "y3"
        },
        {
         "bingroup": "a",
         "name": "Mean Similarity with Other Words",
         "type": "histogram",
         "x": [
          0.192417174577713,
          0.22321218252182007,
          0.2863490581512451,
          0.2385002225637436,
          0.20864243805408478,
          0.14804314076900482,
          0.2098303884267807,
          0.20246216654777527,
          0.14464735984802246,
          0.202938973903656,
          0.2301759123802185,
          0.15781784057617188,
          0.11048555374145508,
          0.21049144864082336,
          0.2365744560956955,
          0.17665885388851166,
          0.27379629015922546,
          0.26147958636283875,
          0.12597176432609558,
          0.13918308913707733,
          0.2265329211950302,
          0.15123173594474792,
          0.16522274911403656,
          0.22354580461978912,
          0.19277426600456238,
          0.26623061299324036,
          0.2580304741859436,
          0.16418017446994781,
          0.1026739850640297,
          0.1894434690475464,
          0.22900933027267456,
          0.16579945385456085,
          0.09935951977968216,
          0.23641662299633026,
          0.19642268121242523,
          0.1721070259809494,
          0.26407501101493835,
          0.20241844654083252,
          0.21368606388568878,
          0.24824003875255585,
          0.1858549565076828,
          0.21353895962238312,
          0.1679164618253708,
          0.23425759375095367,
          0.2365061640739441,
          0.23147186636924744,
          0.104255311191082,
          0.22007019817829132,
          0.24585285782814026,
          0.15949177742004395,
          0.22709491848945618,
          0.1632639765739441,
          0.20829346776008606,
          0.12876226007938385,
          0.3000856339931488,
          0.20345893502235413,
          0.26105281710624695,
          0.29656437039375305,
          0.1837131828069687,
          0.19122734665870667,
          0.21062150597572327,
          0.18402861058712006,
          0.18249383568763733,
          0.16595008969306946,
          0.22032539546489716,
          0.1665763407945633,
          0.10179775953292847,
          0.21903850138187408,
          0.17996326088905334,
          0.1689041256904602,
          0.18953581154346466,
          0.1367887705564499,
          0.17751862108707428,
          0.2387169450521469,
          0.18979640305042267,
          0.2463928461074829,
          0.18684615194797516,
          0.1860102117061615,
          0.17532120645046234,
          0.20660914480686188,
          0.25138577818870544,
          0.20086358487606049,
          0.2167639285326004,
          0.22483155131340027,
          0.2628958821296692,
          0.2808203399181366,
          0.22251661121845245,
          0.19866687059402466,
          0.20200225710868835,
          0.22572682797908783,
          0.21514351665973663,
          0.14343225955963135,
          0.1857086718082428,
          0.31805872917175293,
          0.20340217649936676,
          0.2510291635990143,
          0.23351642489433289,
          0.13144515454769135,
          0.14247463643550873,
          0.2733806073665619,
          0.07114607095718384,
          0.2546265423297882,
          0.1786167323589325,
          0.1577235460281372,
          0.2806989848613739,
          0.182785302400589,
          0.2651751637458801,
          0.27723661065101624,
          0.1858435571193695,
          0.1585371196269989,
          0.17669503390789032,
          0.2102246731519699,
          0.15421435236930847,
          0.15317302942276,
          0.21919900178909302,
          0.16764172911643982,
          0.16762244701385498,
          0.1988179087638855,
          0.2224520742893219,
          0.20435434579849243,
          0.2699214220046997,
          0.21970100700855255,
          0.21222393214702606,
          0.23010587692260742,
          0.2847844362258911,
          0.2669025659561157,
          0.21302516758441925,
          0.28325068950653076,
          0.2431643009185791,
          0.21463768184185028,
          0.19035249948501587,
          0.29585596919059753,
          0.1635337918996811,
          0.2194799929857254,
          0.23147106170654297,
          0.16948924958705902,
          0.17579856514930725,
          0.10759807378053665,
          0.23034065961837769,
          0.10180108994245529,
          0.3152170777320862,
          0.2587357461452484,
          0.22312994301319122,
          0.18215423822402954,
          0.21025323867797852,
          0.2066524773836136,
          0.20888075232505798,
          0.1872272789478302,
          0.18572549521923065,
          0.23601941764354706,
          0.21567095816135406,
          0.21881651878356934,
          0.17032308876514435,
          0.23092840611934662,
          0.21275261044502258,
          0.19720709323883057
         ],
         "xaxis": "x4",
         "yaxis": "y4"
        },
        {
         "bingroup": "a",
         "name": "Max Similarity with Other Words",
         "type": "histogram",
         "x": [
          0.714002788066864,
          0.7703399658203125,
          0.7668705582618713,
          0.7448745965957642,
          0.6059809923171997,
          0.86112380027771,
          0.657338559627533,
          0.8033291101455688,
          0.676440417766571,
          0.6694517135620117,
          0.782554566860199,
          0.48293137550354004,
          0.5379946231842041,
          0.6333188414573669,
          0.6262669563293457,
          0.4564092755317688,
          0.8615801334381104,
          0.8344773054122925,
          0.419921875,
          0.47538384795188904,
          0.8258492350578308,
          0.4880850315093994,
          0.804791271686554,
          0.6322423815727234,
          0.7374516725540161,
          0.8769378662109375,
          0.6890854835510254,
          0.4755944609642029,
          0.7811932563781738,
          0.8505345582962036,
          0.8043538331985474,
          0.6704584360122681,
          0.5209648609161377,
          0.8237510919570923,
          0.7672315835952759,
          0.7388864755630493,
          0.8387986421585083,
          0.6497333645820618,
          0.7256442308425903,
          0.8185678124427795,
          0.7355238199234009,
          0.7641439437866211,
          0.7075057625770569,
          0.7554993629455566,
          0.6412869095802307,
          0.6499900221824646,
          0.6708626747131348,
          0.6765239238739014,
          0.8035999536514282,
          0.6997275948524475,
          0.8145326375961304,
          0.682293176651001,
          0.6310280561447144,
          0.5756002068519592,
          0.7987908720970154,
          0.7463712096214294,
          0.7932058572769165,
          0.7747815847396851,
          0.6586822271347046,
          0.47633981704711914,
          0.5834841728210449,
          0.7653948664665222,
          0.7131432294845581,
          0.8173037767410278,
          0.5766921043395996,
          0.7301679849624634,
          0.7618368864059448,
          0.6487718820571899,
          0.720337986946106,
          0.7701461315155029,
          0.6647603511810303,
          0.4716125726699829,
          0.7791311144828796,
          0.6582303047180176,
          0.7159866094589233,
          0.6850907206535339,
          0.6303625702857971,
          0.6805590391159058,
          0.916601836681366,
          0.8297922611236572,
          0.7325969338417053,
          0.6112446784973145,
          0.8692331314086914,
          0.9398056268692017,
          0.8038959503173828,
          0.8099440336227417,
          0.9101269245147705,
          0.8739430904388428,
          0.7949804067611694,
          0.8114653825759888,
          0.6195721626281738,
          0.507918119430542,
          0.8240444660186768,
          0.7894643545150757,
          0.6834295988082886,
          0.6300436854362488,
          0.6638256311416626,
          0.6525296568870544,
          0.7326047420501709,
          0.8511488437652588,
          0.344138503074646,
          0.7896329164505005,
          0.5832075476646423,
          0.6443420648574829,
          0.7482724189758301,
          0.7076855897903442,
          0.9264286756515503,
          0.7373505234718323,
          0.5920045375823975,
          0.5363313555717468,
          0.5783534049987793,
          0.6918291449546814,
          0.6836185455322266,
          0.7068926095962524,
          0.6492511034011841,
          0.7485729455947876,
          0.8132836818695068,
          0.6477048397064209,
          0.683346152305603,
          0.6703853607177734,
          0.7515963315963745,
          0.8584545850753784,
          0.7984439134597778,
          0.7889969348907471,
          0.6834204196929932,
          0.7862575650215149,
          0.6617403030395508,
          0.6818822622299194,
          0.772820234298706,
          0.6505048871040344,
          0.7402622699737549,
          0.7301175594329834,
          0.5594418048858643,
          0.839881956577301,
          0.6207681894302368,
          0.9212819337844849,
          0.6818137168884277,
          0.6456418037414551,
          0.6049648523330688,
          0.5024630427360535,
          0.8151294589042664,
          0.7153747081756592,
          0.8365421295166016,
          0.8826309442520142,
          0.8668491840362549,
          0.6166649460792542,
          0.841894268989563,
          0.8111324906349182,
          0.6603102087974548,
          0.7499889135360718,
          0.6798986792564392,
          0.7459217309951782,
          0.817758321762085,
          0.7730793356895447,
          0.8290423154830933,
          0.6108110547065735
         ],
         "xaxis": "x5",
         "yaxis": "y5"
        }
       ],
       "layout": {
        "annotations": [
         {
          "font": {
           "size": 16
          },
          "showarrow": false,
          "text": "Mean Similarity with GT Defs",
          "x": 0.14444444444444446,
          "xanchor": "center",
          "xref": "paper",
          "y": 1,
          "yanchor": "bottom",
          "yref": "paper"
         },
         {
          "font": {
           "size": 16
          },
          "showarrow": false,
          "text": "Similarity with Mean Embedding of GT Defs",
          "x": 0.5,
          "xanchor": "center",
          "xref": "paper",
          "y": 1,
          "yanchor": "bottom",
          "yref": "paper"
         },
         {
          "font": {
           "size": 16
          },
          "showarrow": false,
          "text": "Max Similarity with GT Defs",
          "x": 0.8555555555555556,
          "xanchor": "center",
          "xref": "paper",
          "y": 1,
          "yanchor": "bottom",
          "yref": "paper"
         },
         {
          "font": {
           "size": 16
          },
          "showarrow": false,
          "text": "Mean Similarity with Other Words",
          "x": 0.14444444444444446,
          "xanchor": "center",
          "xref": "paper",
          "y": 0.375,
          "yanchor": "bottom",
          "yref": "paper"
         },
         {
          "font": {
           "size": 16
          },
          "showarrow": false,
          "text": "Max Similarity with Other Words",
          "x": 0.5,
          "xanchor": "center",
          "xref": "paper",
          "y": 0.375,
          "yanchor": "bottom",
          "yref": "paper"
         }
        ],
        "height": 800,
        "showlegend": false,
        "template": {
         "data": {
          "bar": [
           {
            "error_x": {
             "color": "#2a3f5f"
            },
            "error_y": {
             "color": "#2a3f5f"
            },
            "marker": {
             "line": {
              "color": "#E5ECF6",
              "width": 0.5
             },
             "pattern": {
              "fillmode": "overlay",
              "size": 10,
              "solidity": 0.2
             }
            },
            "type": "bar"
           }
          ],
          "barpolar": [
           {
            "marker": {
             "line": {
              "color": "#E5ECF6",
              "width": 0.5
             },
             "pattern": {
              "fillmode": "overlay",
              "size": 10,
              "solidity": 0.2
             }
            },
            "type": "barpolar"
           }
          ],
          "carpet": [
           {
            "aaxis": {
             "endlinecolor": "#2a3f5f",
             "gridcolor": "white",
             "linecolor": "white",
             "minorgridcolor": "white",
             "startlinecolor": "#2a3f5f"
            },
            "baxis": {
             "endlinecolor": "#2a3f5f",
             "gridcolor": "white",
             "linecolor": "white",
             "minorgridcolor": "white",
             "startlinecolor": "#2a3f5f"
            },
            "type": "carpet"
           }
          ],
          "choropleth": [
           {
            "colorbar": {
             "outlinewidth": 0,
             "ticks": ""
            },
            "type": "choropleth"
           }
          ],
          "contour": [
           {
            "colorbar": {
             "outlinewidth": 0,
             "ticks": ""
            },
            "colorscale": [
             [
              0,
              "#0d0887"
             ],
             [
              0.1111111111111111,
              "#46039f"
             ],
             [
              0.2222222222222222,
              "#7201a8"
             ],
             [
              0.3333333333333333,
              "#9c179e"
             ],
             [
              0.4444444444444444,
              "#bd3786"
             ],
             [
              0.5555555555555556,
              "#d8576b"
             ],
             [
              0.6666666666666666,
              "#ed7953"
             ],
             [
              0.7777777777777778,
              "#fb9f3a"
             ],
             [
              0.8888888888888888,
              "#fdca26"
             ],
             [
              1,
              "#f0f921"
             ]
            ],
            "type": "contour"
           }
          ],
          "contourcarpet": [
           {
            "colorbar": {
             "outlinewidth": 0,
             "ticks": ""
            },
            "type": "contourcarpet"
           }
          ],
          "heatmap": [
           {
            "colorbar": {
             "outlinewidth": 0,
             "ticks": ""
            },
            "colorscale": [
             [
              0,
              "#0d0887"
             ],
             [
              0.1111111111111111,
              "#46039f"
             ],
             [
              0.2222222222222222,
              "#7201a8"
             ],
             [
              0.3333333333333333,
              "#9c179e"
             ],
             [
              0.4444444444444444,
              "#bd3786"
             ],
             [
              0.5555555555555556,
              "#d8576b"
             ],
             [
              0.6666666666666666,
              "#ed7953"
             ],
             [
              0.7777777777777778,
              "#fb9f3a"
             ],
             [
              0.8888888888888888,
              "#fdca26"
             ],
             [
              1,
              "#f0f921"
             ]
            ],
            "type": "heatmap"
           }
          ],
          "heatmapgl": [
           {
            "colorbar": {
             "outlinewidth": 0,
             "ticks": ""
            },
            "colorscale": [
             [
              0,
              "#0d0887"
             ],
             [
              0.1111111111111111,
              "#46039f"
             ],
             [
              0.2222222222222222,
              "#7201a8"
             ],
             [
              0.3333333333333333,
              "#9c179e"
             ],
             [
              0.4444444444444444,
              "#bd3786"
             ],
             [
              0.5555555555555556,
              "#d8576b"
             ],
             [
              0.6666666666666666,
              "#ed7953"
             ],
             [
              0.7777777777777778,
              "#fb9f3a"
             ],
             [
              0.8888888888888888,
              "#fdca26"
             ],
             [
              1,
              "#f0f921"
             ]
            ],
            "type": "heatmapgl"
           }
          ],
          "histogram": [
           {
            "marker": {
             "pattern": {
              "fillmode": "overlay",
              "size": 10,
              "solidity": 0.2
             }
            },
            "type": "histogram"
           }
          ],
          "histogram2d": [
           {
            "colorbar": {
             "outlinewidth": 0,
             "ticks": ""
            },
            "colorscale": [
             [
              0,
              "#0d0887"
             ],
             [
              0.1111111111111111,
              "#46039f"
             ],
             [
              0.2222222222222222,
              "#7201a8"
             ],
             [
              0.3333333333333333,
              "#9c179e"
             ],
             [
              0.4444444444444444,
              "#bd3786"
             ],
             [
              0.5555555555555556,
              "#d8576b"
             ],
             [
              0.6666666666666666,
              "#ed7953"
             ],
             [
              0.7777777777777778,
              "#fb9f3a"
             ],
             [
              0.8888888888888888,
              "#fdca26"
             ],
             [
              1,
              "#f0f921"
             ]
            ],
            "type": "histogram2d"
           }
          ],
          "histogram2dcontour": [
           {
            "colorbar": {
             "outlinewidth": 0,
             "ticks": ""
            },
            "colorscale": [
             [
              0,
              "#0d0887"
             ],
             [
              0.1111111111111111,
              "#46039f"
             ],
             [
              0.2222222222222222,
              "#7201a8"
             ],
             [
              0.3333333333333333,
              "#9c179e"
             ],
             [
              0.4444444444444444,
              "#bd3786"
             ],
             [
              0.5555555555555556,
              "#d8576b"
             ],
             [
              0.6666666666666666,
              "#ed7953"
             ],
             [
              0.7777777777777778,
              "#fb9f3a"
             ],
             [
              0.8888888888888888,
              "#fdca26"
             ],
             [
              1,
              "#f0f921"
             ]
            ],
            "type": "histogram2dcontour"
           }
          ],
          "mesh3d": [
           {
            "colorbar": {
             "outlinewidth": 0,
             "ticks": ""
            },
            "type": "mesh3d"
           }
          ],
          "parcoords": [
           {
            "line": {
             "colorbar": {
              "outlinewidth": 0,
              "ticks": ""
             }
            },
            "type": "parcoords"
           }
          ],
          "pie": [
           {
            "automargin": true,
            "type": "pie"
           }
          ],
          "scatter": [
           {
            "fillpattern": {
             "fillmode": "overlay",
             "size": 10,
             "solidity": 0.2
            },
            "type": "scatter"
           }
          ],
          "scatter3d": [
           {
            "line": {
             "colorbar": {
              "outlinewidth": 0,
              "ticks": ""
             }
            },
            "marker": {
             "colorbar": {
              "outlinewidth": 0,
              "ticks": ""
             }
            },
            "type": "scatter3d"
           }
          ],
          "scattercarpet": [
           {
            "marker": {
             "colorbar": {
              "outlinewidth": 0,
              "ticks": ""
             }
            },
            "type": "scattercarpet"
           }
          ],
          "scattergeo": [
           {
            "marker": {
             "colorbar": {
              "outlinewidth": 0,
              "ticks": ""
             }
            },
            "type": "scattergeo"
           }
          ],
          "scattergl": [
           {
            "marker": {
             "colorbar": {
              "outlinewidth": 0,
              "ticks": ""
             }
            },
            "type": "scattergl"
           }
          ],
          "scattermapbox": [
           {
            "marker": {
             "colorbar": {
              "outlinewidth": 0,
              "ticks": ""
             }
            },
            "type": "scattermapbox"
           }
          ],
          "scatterpolar": [
           {
            "marker": {
             "colorbar": {
              "outlinewidth": 0,
              "ticks": ""
             }
            },
            "type": "scatterpolar"
           }
          ],
          "scatterpolargl": [
           {
            "marker": {
             "colorbar": {
              "outlinewidth": 0,
              "ticks": ""
             }
            },
            "type": "scatterpolargl"
           }
          ],
          "scatterternary": [
           {
            "marker": {
             "colorbar": {
              "outlinewidth": 0,
              "ticks": ""
             }
            },
            "type": "scatterternary"
           }
          ],
          "surface": [
           {
            "colorbar": {
             "outlinewidth": 0,
             "ticks": ""
            },
            "colorscale": [
             [
              0,
              "#0d0887"
             ],
             [
              0.1111111111111111,
              "#46039f"
             ],
             [
              0.2222222222222222,
              "#7201a8"
             ],
             [
              0.3333333333333333,
              "#9c179e"
             ],
             [
              0.4444444444444444,
              "#bd3786"
             ],
             [
              0.5555555555555556,
              "#d8576b"
             ],
             [
              0.6666666666666666,
              "#ed7953"
             ],
             [
              0.7777777777777778,
              "#fb9f3a"
             ],
             [
              0.8888888888888888,
              "#fdca26"
             ],
             [
              1,
              "#f0f921"
             ]
            ],
            "type": "surface"
           }
          ],
          "table": [
           {
            "cells": {
             "fill": {
              "color": "#EBF0F8"
             },
             "line": {
              "color": "white"
             }
            },
            "header": {
             "fill": {
              "color": "#C8D4E3"
             },
             "line": {
              "color": "white"
             }
            },
            "type": "table"
           }
          ]
         },
         "layout": {
          "annotationdefaults": {
           "arrowcolor": "#2a3f5f",
           "arrowhead": 0,
           "arrowwidth": 1
          },
          "autotypenumbers": "strict",
          "coloraxis": {
           "colorbar": {
            "outlinewidth": 0,
            "ticks": ""
           }
          },
          "colorscale": {
           "diverging": [
            [
             0,
             "#8e0152"
            ],
            [
             0.1,
             "#c51b7d"
            ],
            [
             0.2,
             "#de77ae"
            ],
            [
             0.3,
             "#f1b6da"
            ],
            [
             0.4,
             "#fde0ef"
            ],
            [
             0.5,
             "#f7f7f7"
            ],
            [
             0.6,
             "#e6f5d0"
            ],
            [
             0.7,
             "#b8e186"
            ],
            [
             0.8,
             "#7fbc41"
            ],
            [
             0.9,
             "#4d9221"
            ],
            [
             1,
             "#276419"
            ]
           ],
           "sequential": [
            [
             0,
             "#0d0887"
            ],
            [
             0.1111111111111111,
             "#46039f"
            ],
            [
             0.2222222222222222,
             "#7201a8"
            ],
            [
             0.3333333333333333,
             "#9c179e"
            ],
            [
             0.4444444444444444,
             "#bd3786"
            ],
            [
             0.5555555555555556,
             "#d8576b"
            ],
            [
             0.6666666666666666,
             "#ed7953"
            ],
            [
             0.7777777777777778,
             "#fb9f3a"
            ],
            [
             0.8888888888888888,
             "#fdca26"
            ],
            [
             1,
             "#f0f921"
            ]
           ],
           "sequentialminus": [
            [
             0,
             "#0d0887"
            ],
            [
             0.1111111111111111,
             "#46039f"
            ],
            [
             0.2222222222222222,
             "#7201a8"
            ],
            [
             0.3333333333333333,
             "#9c179e"
            ],
            [
             0.4444444444444444,
             "#bd3786"
            ],
            [
             0.5555555555555556,
             "#d8576b"
            ],
            [
             0.6666666666666666,
             "#ed7953"
            ],
            [
             0.7777777777777778,
             "#fb9f3a"
            ],
            [
             0.8888888888888888,
             "#fdca26"
            ],
            [
             1,
             "#f0f921"
            ]
           ]
          },
          "colorway": [
           "#636efa",
           "#EF553B",
           "#00cc96",
           "#ab63fa",
           "#FFA15A",
           "#19d3f3",
           "#FF6692",
           "#B6E880",
           "#FF97FF",
           "#FECB52"
          ],
          "font": {
           "color": "#2a3f5f"
          },
          "geo": {
           "bgcolor": "white",
           "lakecolor": "white",
           "landcolor": "#E5ECF6",
           "showlakes": true,
           "showland": true,
           "subunitcolor": "white"
          },
          "hoverlabel": {
           "align": "left"
          },
          "hovermode": "closest",
          "mapbox": {
           "style": "light"
          },
          "paper_bgcolor": "white",
          "plot_bgcolor": "#E5ECF6",
          "polar": {
           "angularaxis": {
            "gridcolor": "white",
            "linecolor": "white",
            "ticks": ""
           },
           "bgcolor": "#E5ECF6",
           "radialaxis": {
            "gridcolor": "white",
            "linecolor": "white",
            "ticks": ""
           }
          },
          "scene": {
           "xaxis": {
            "backgroundcolor": "#E5ECF6",
            "gridcolor": "white",
            "gridwidth": 2,
            "linecolor": "white",
            "showbackground": true,
            "ticks": "",
            "zerolinecolor": "white"
           },
           "yaxis": {
            "backgroundcolor": "#E5ECF6",
            "gridcolor": "white",
            "gridwidth": 2,
            "linecolor": "white",
            "showbackground": true,
            "ticks": "",
            "zerolinecolor": "white"
           },
           "zaxis": {
            "backgroundcolor": "#E5ECF6",
            "gridcolor": "white",
            "gridwidth": 2,
            "linecolor": "white",
            "showbackground": true,
            "ticks": "",
            "zerolinecolor": "white"
           }
          },
          "shapedefaults": {
           "line": {
            "color": "#2a3f5f"
           }
          },
          "ternary": {
           "aaxis": {
            "gridcolor": "white",
            "linecolor": "white",
            "ticks": ""
           },
           "baxis": {
            "gridcolor": "white",
            "linecolor": "white",
            "ticks": ""
           },
           "bgcolor": "#E5ECF6",
           "caxis": {
            "gridcolor": "white",
            "linecolor": "white",
            "ticks": ""
           }
          },
          "title": {
           "x": 0.05
          },
          "xaxis": {
           "automargin": true,
           "gridcolor": "white",
           "linecolor": "white",
           "ticks": "",
           "title": {
            "standoff": 15
           },
           "zerolinecolor": "white",
           "zerolinewidth": 2
          },
          "yaxis": {
           "automargin": true,
           "gridcolor": "white",
           "linecolor": "white",
           "ticks": "",
           "title": {
            "standoff": 15
           },
           "zerolinecolor": "white",
           "zerolinewidth": 2
          }
         }
        },
        "title": {
         "text": "Definition Embedding Comparison Metrics - Patching mean representation from translations"
        },
        "width": 1200,
        "xaxis": {
         "anchor": "y",
         "domain": [
          0,
          0.2888888888888889
         ],
         "range": [
          0,
          1
         ],
         "title": {
          "text": "Similarity Score"
         }
        },
        "xaxis2": {
         "anchor": "y2",
         "domain": [
          0.35555555555555557,
          0.6444444444444445
         ],
         "range": [
          0,
          1
         ],
         "title": {
          "text": "Similarity Score"
         }
        },
        "xaxis3": {
         "anchor": "y3",
         "domain": [
          0.7111111111111111,
          1
         ],
         "range": [
          0,
          1
         ],
         "title": {
          "text": "Similarity Score"
         }
        },
        "xaxis4": {
         "anchor": "y4",
         "domain": [
          0,
          0.2888888888888889
         ],
         "range": [
          0,
          1
         ],
         "title": {
          "text": "Similarity Score"
         }
        },
        "xaxis5": {
         "anchor": "y5",
         "domain": [
          0.35555555555555557,
          0.6444444444444445
         ],
         "range": [
          0,
          1
         ],
         "title": {
          "text": "Similarity Score"
         }
        },
        "xaxis6": {
         "anchor": "y6",
         "domain": [
          0.7111111111111111,
          1
         ]
        },
        "yaxis": {
         "anchor": "x",
         "domain": [
          0.625,
          1
         ],
         "title": {
          "text": "Count"
         }
        },
        "yaxis2": {
         "anchor": "x2",
         "domain": [
          0.625,
          1
         ],
         "title": {
          "text": "Count"
         }
        },
        "yaxis3": {
         "anchor": "x3",
         "domain": [
          0.625,
          1
         ],
         "title": {
          "text": "Count"
         }
        },
        "yaxis4": {
         "anchor": "x4",
         "domain": [
          0,
          0.375
         ],
         "title": {
          "text": "Count"
         }
        },
        "yaxis5": {
         "anchor": "x5",
         "domain": [
          0,
          0.375
         ],
         "title": {
          "text": "Count"
         }
        },
        "yaxis6": {
         "anchor": "x6",
         "domain": [
          0,
          0.375
         ]
        }
       }
      },
      "text/html": [
       "<div>                            <div id=\"478f5cc4-d671-41cf-b1df-b6894550cf65\" class=\"plotly-graph-div\" style=\"height:800px; width:1200px;\"></div>            <script type=\"text/javascript\">                require([\"plotly\"], function(Plotly) {                    window.PLOTLYENV=window.PLOTLYENV || {};                                    if (document.getElementById(\"478f5cc4-d671-41cf-b1df-b6894550cf65\")) {                    Plotly.newPlot(                        \"478f5cc4-d671-41cf-b1df-b6894550cf65\",                        [{\"bingroup\":\"a\",\"name\":\"Mean Similarity with GT Defs\",\"x\":[0.6136608123779297,0.5787585377693176,0.5963180065155029,0.8293416500091553,0.23778793215751648,0.7380659580230713,0.7218431234359741,0.29244327545166016,0.6478307843208313,0.6981834769248962,0.45102542638778687,0.14721564948558807,0.6237591505050659,0.6894472241401672,0.41447317600250244,0.5899977684020996,0.8231884241104126,0.7671962380409241,0.09795600175857544,0.702044665813446,0.23221635818481445,0.6292054057121277,0.38818442821502686,0.6958925127983093,0.15821519494056702,0.7208179831504822,0.6457549333572388,0.23131303489208221,0.7485280632972717,0.8062547445297241,0.6544002294540405,0.42825135588645935,0.7753275632858276,0.6088230609893799,0.7493786811828613,0.8864445686340332,0.27773064374923706,0.7345046401023865,0.7889726161956787,0.7339214086532593,0.5485712289810181,0.594129741191864,0.6677848696708679,0.6736953854560852,0.6744967699050903,0.6715679168701172,0.3563566207885742,0.7265461683273315,0.34088853001594543,0.36898183822631836,0.7048542499542236,0.20482420921325684,0.785768449306488,0.10093121975660324,0.1714649349451065,0.666432797908783,0.3073973059654236,0.32027241587638855,0.6616528034210205,0.6529699563980103,0.7109525203704834,0.15917439758777618,0.1558084636926651,0.5130722522735596,0.5409062504768372,0.7592193484306335,0.8543885350227356,0.7173854112625122,0.4942733943462372,0.6584513187408447,0.409237265586853,0.227676123380661,0.15331041812896729,0.6802783012390137,0.7765560150146484,0.28802597522735596,0.7481388449668884,0.7473257184028625,0.1283201426267624,0.7711688876152039,0.6322230100631714,0.7260373830795288,0.7490000128746033,0.8398438096046448,0.7900360822677612,0.21328690648078918,0.7126948833465576,0.6637645959854126,0.766726016998291,0.25325310230255127,0.22316980361938477,0.19050627946853638,0.7291518449783325,0.38362011313438416,0.40848737955093384,0.7401421070098877,0.20920512080192566,0.3538157045841217,0.3480115532875061,0.7334019541740417,0.08796766400337219,0.6946887969970703,0.6061429977416992,0.5295705199241638,0.7369697093963623,0.6760260462760925,0.5400600433349609,0.838576078414917,0.7356262803077698,0.6287242770195007,0.7645364999771118,0.6632975339889526,0.4112350046634674,0.7420322895050049,0.6546947360038757,0.8120300769805908,0.18199963867664337,0.2879558205604553,0.6561786532402039,0.5059884786605835,0.5530903339385986,0.7463564276695251,0.6610661745071411,0.8189590573310852,0.6585637927055359,0.7480437159538269,0.7147722244262695,0.4080801010131836,0.7399027347564697,0.7176617383956909,0.3022112250328064,0.5762758255004883,0.6424822807312012,0.7447237968444824,0.8396800756454468,0.16385112702846527,0.8093526363372803,0.25877538323402405,0.7503661513328552,0.7272427678108215,0.35242968797683716,0.7393672466278076,0.7721184492111206,0.6677958965301514,0.7689990997314453,0.5273928642272949,0.7185639142990112,0.8353318572044373,0.5471996665000916,0.5926138758659363,0.6827965974807739,0.7782049179077148,0.21240559220314026,0.7453075051307678,0.5529717803001404,0.270616739988327],\"type\":\"histogram\",\"xaxis\":\"x\",\"yaxis\":\"y\"},{\"bingroup\":\"a\",\"name\":\"Similarity with Mean Embedding of GT Defs\",\"x\":[0.741587221622467,0.6644700169563293,0.7338557243347168,0.9342027902603149,0.3141545355319977,0.8413882255554199,0.8458125591278076,0.3403880000114441,0.7022327780723572,0.8214749097824097,0.5083044767379761,0.16510307788848877,0.7379932403564453,0.8070037364959717,0.5013035535812378,0.7240673899650574,0.9365724921226501,0.9043723344802856,0.10453853756189346,0.8883613348007202,0.266126424074173,0.8045612573623657,0.4520352780818939,0.7434320449829102,0.18900184333324432,0.8650776147842407,0.733370304107666,0.2656950056552887,0.8397953510284424,0.8831315040588379,0.7412815093994141,0.5063321590423584,0.8736773729324341,0.8195433616638184,0.8744536638259888,0.9468860030174255,0.3327280879020691,0.8049633502960205,0.8975450992584229,0.8546724319458008,0.608659565448761,0.8043843507766724,0.8023553490638733,0.8273533582687378,0.8200114965438843,0.8233769536018372,0.4665182828903198,0.836687445640564,0.4331861436367035,0.44350212812423706,0.8402973413467407,0.24748943746089935,0.8704034090042114,0.12370600551366806,0.20585623383522034,0.7801016569137573,0.3701208233833313,0.3853178322315216,0.7794204950332642,0.7316826581954956,0.8856551647186279,0.2030678540468216,0.18080273270606995,0.6246744990348816,0.678385853767395,0.8551934957504272,0.9568986892700195,0.8174991011619568,0.6213244199752808,0.7326668500900269,0.48271507024765015,0.25398463010787964,0.19186362624168396,0.8205704689025879,0.9057334065437317,0.3305608928203583,0.8371365070343018,0.8476951122283936,0.14361748099327087,0.873135507106781,0.7106897234916687,0.7746142148971558,0.9120274782180786,0.9286202192306519,0.890116274356842,0.2987770438194275,0.798698365688324,0.7837815284729004,0.9052431583404541,0.30161023139953613,0.31547224521636963,0.21390827000141144,0.7700996398925781,0.5138598680496216,0.47141382098197937,0.879421591758728,0.24434663355350494,0.4471423029899597,0.4465863108634949,0.8124467730522156,0.09891301393508911,0.8461089134216309,0.7712288498878479,0.6669689416885376,0.9203731417655945,0.7790796756744385,0.631855845451355,0.9459763765335083,0.8721300959587097,0.7820775508880615,0.8804437518119812,0.8065180778503418,0.5106745958328247,0.7988132238388062,0.7025979161262512,0.9088049530982971,0.2040824592113495,0.3162405490875244,0.8111484050750732,0.6463046073913574,0.6875046491622925,0.8775984048843384,0.7259539365768433,0.8898341655731201,0.8388468027114868,0.8595412373542786,0.822705864906311,0.4488068222999573,0.8438299894332886,0.8271591663360596,0.33742380142211914,0.6316748857498169,0.7355443239212036,0.8386001586914062,0.8941986560821533,0.18241748213768005,0.9208329916000366,0.31761205196380615,0.8156716823577881,0.8455226421356201,0.399471640586853,0.9083839654922485,0.8358447551727295,0.8644256591796875,0.8649887442588806,0.5894536375999451,0.8082392811775208,0.9104441404342651,0.6337676048278809,0.7975547313690186,0.7938809990882874,0.8774420022964478,0.2527163624763489,0.848162055015564,0.6896152496337891,0.3298072814941406],\"type\":\"histogram\",\"xaxis\":\"x2\",\"yaxis\":\"y2\"},{\"bingroup\":\"a\",\"name\":\"Max Similarity with GT Defs\",\"x\":[0.8003093004226685,0.6790727972984314,0.7064064741134644,0.8889508247375488,0.3613155484199524,0.9458310604095459,0.8338885307312012,0.4738573133945465,0.8320682048797607,0.7598929405212402,0.6160247921943665,0.20369663834571838,0.8723654747009277,0.8060790300369263,0.4763011038303375,0.7695729732513428,0.9292334318161011,0.8996597528457642,0.14405319094657898,0.8664949536323547,0.2959577143192291,0.8680113554000854,0.5442466735839844,0.7495449185371399,0.2112685590982437,0.9002730250358582,0.7504175901412964,0.33031386137008667,0.8585513830184937,0.8457239866256714,0.8140311241149902,0.544285774230957,0.8918533325195312,0.9404234886169434,0.7936502695083618,0.9674053192138672,0.3574792444705963,0.7927796840667725,0.8961568474769592,0.7924429178237915,0.6511093378067017,0.8691292405128479,0.8228596448898315,0.8687938451766968,0.7980415225028992,0.794144868850708,0.5619398951530457,0.8601739406585693,0.6780586242675781,0.510432779788971,0.800869345664978,0.3839762806892395,0.8323888778686523,0.1347094625234604,0.27950453758239746,0.8197895288467407,0.4256001114845276,0.4195229411125183,0.8208553194999695,0.8490692377090454,0.8115245699882507,0.19600385427474976,0.24417060613632202,0.7795484662055969,0.6769495606422424,0.7952556610107422,0.9940186738967896,0.837766170501709,0.6580668687820435,0.7155877351760864,0.5701202750205994,0.28183498978614807,0.23231929540634155,0.8035852313041687,0.8802119493484497,0.38193488121032715,0.8483471870422363,0.8598586916923523,0.21492548286914825,0.8441945314407349,0.6973745822906494,0.7979968786239624,0.8804735541343689,0.9192218780517578,0.8547174334526062,0.4105823040008545,0.7662923336029053,0.8258036375045776,0.8536692261695862,0.3643350899219513,0.3218488395214081,0.3340573012828827,0.7296772003173828,0.561192512512207,0.5789006948471069,0.8708041906356812,0.286490797996521,0.5330619215965271,0.7444924116134644,0.7635173797607422,0.14034762978553772,0.8169910907745361,0.7268381118774414,0.6856181025505066,0.8816076517105103,0.7625478506088257,0.7432911992073059,0.9465630054473877,0.938927173614502,0.8872076272964478,0.940550684928894,0.8751620054244995,0.5083029270172119,0.7737441062927246,0.7402796745300293,0.8923361897468567,0.22720569372177124,0.3322383761405945,0.7343411445617676,0.7502971291542053,0.6795392632484436,0.9236117601394653,0.7963655591011047,0.8931134939193726,0.8320695161819458,0.8646447658538818,0.8854888081550598,0.4644499719142914,0.8484762907028198,0.8385938405990601,0.3474273979663849,0.6517799496650696,0.8231523036956787,0.842280387878418,0.8823165893554688,0.23781561851501465,0.9818882942199707,0.3844907879829407,0.7907834053039551,0.8588871955871582,0.4395155906677246,0.8781547546386719,0.7897852659225464,0.8745739459991455,0.925723671913147,0.7203434705734253,0.8199410438537598,0.8645218014717102,0.7085532546043396,0.830122709274292,0.7654247283935547,0.8469547033309937,0.26679226756095886,0.8084779977798462,0.6594650745391846,0.35118693113327026],\"type\":\"histogram\",\"xaxis\":\"x3\",\"yaxis\":\"y3\"},{\"bingroup\":\"a\",\"name\":\"Mean Similarity with Other Words\",\"x\":[0.192417174577713,0.22321218252182007,0.2863490581512451,0.2385002225637436,0.20864243805408478,0.14804314076900482,0.2098303884267807,0.20246216654777527,0.14464735984802246,0.202938973903656,0.2301759123802185,0.15781784057617188,0.11048555374145508,0.21049144864082336,0.2365744560956955,0.17665885388851166,0.27379629015922546,0.26147958636283875,0.12597176432609558,0.13918308913707733,0.2265329211950302,0.15123173594474792,0.16522274911403656,0.22354580461978912,0.19277426600456238,0.26623061299324036,0.2580304741859436,0.16418017446994781,0.1026739850640297,0.1894434690475464,0.22900933027267456,0.16579945385456085,0.09935951977968216,0.23641662299633026,0.19642268121242523,0.1721070259809494,0.26407501101493835,0.20241844654083252,0.21368606388568878,0.24824003875255585,0.1858549565076828,0.21353895962238312,0.1679164618253708,0.23425759375095367,0.2365061640739441,0.23147186636924744,0.104255311191082,0.22007019817829132,0.24585285782814026,0.15949177742004395,0.22709491848945618,0.1632639765739441,0.20829346776008606,0.12876226007938385,0.3000856339931488,0.20345893502235413,0.26105281710624695,0.29656437039375305,0.1837131828069687,0.19122734665870667,0.21062150597572327,0.18402861058712006,0.18249383568763733,0.16595008969306946,0.22032539546489716,0.1665763407945633,0.10179775953292847,0.21903850138187408,0.17996326088905334,0.1689041256904602,0.18953581154346466,0.1367887705564499,0.17751862108707428,0.2387169450521469,0.18979640305042267,0.2463928461074829,0.18684615194797516,0.1860102117061615,0.17532120645046234,0.20660914480686188,0.25138577818870544,0.20086358487606049,0.2167639285326004,0.22483155131340027,0.2628958821296692,0.2808203399181366,0.22251661121845245,0.19866687059402466,0.20200225710868835,0.22572682797908783,0.21514351665973663,0.14343225955963135,0.1857086718082428,0.31805872917175293,0.20340217649936676,0.2510291635990143,0.23351642489433289,0.13144515454769135,0.14247463643550873,0.2733806073665619,0.07114607095718384,0.2546265423297882,0.1786167323589325,0.1577235460281372,0.2806989848613739,0.182785302400589,0.2651751637458801,0.27723661065101624,0.1858435571193695,0.1585371196269989,0.17669503390789032,0.2102246731519699,0.15421435236930847,0.15317302942276,0.21919900178909302,0.16764172911643982,0.16762244701385498,0.1988179087638855,0.2224520742893219,0.20435434579849243,0.2699214220046997,0.21970100700855255,0.21222393214702606,0.23010587692260742,0.2847844362258911,0.2669025659561157,0.21302516758441925,0.28325068950653076,0.2431643009185791,0.21463768184185028,0.19035249948501587,0.29585596919059753,0.1635337918996811,0.2194799929857254,0.23147106170654297,0.16948924958705902,0.17579856514930725,0.10759807378053665,0.23034065961837769,0.10180108994245529,0.3152170777320862,0.2587357461452484,0.22312994301319122,0.18215423822402954,0.21025323867797852,0.2066524773836136,0.20888075232505798,0.1872272789478302,0.18572549521923065,0.23601941764354706,0.21567095816135406,0.21881651878356934,0.17032308876514435,0.23092840611934662,0.21275261044502258,0.19720709323883057],\"type\":\"histogram\",\"xaxis\":\"x4\",\"yaxis\":\"y4\"},{\"bingroup\":\"a\",\"name\":\"Max Similarity with Other Words\",\"x\":[0.714002788066864,0.7703399658203125,0.7668705582618713,0.7448745965957642,0.6059809923171997,0.86112380027771,0.657338559627533,0.8033291101455688,0.676440417766571,0.6694517135620117,0.782554566860199,0.48293137550354004,0.5379946231842041,0.6333188414573669,0.6262669563293457,0.4564092755317688,0.8615801334381104,0.8344773054122925,0.419921875,0.47538384795188904,0.8258492350578308,0.4880850315093994,0.804791271686554,0.6322423815727234,0.7374516725540161,0.8769378662109375,0.6890854835510254,0.4755944609642029,0.7811932563781738,0.8505345582962036,0.8043538331985474,0.6704584360122681,0.5209648609161377,0.8237510919570923,0.7672315835952759,0.7388864755630493,0.8387986421585083,0.6497333645820618,0.7256442308425903,0.8185678124427795,0.7355238199234009,0.7641439437866211,0.7075057625770569,0.7554993629455566,0.6412869095802307,0.6499900221824646,0.6708626747131348,0.6765239238739014,0.8035999536514282,0.6997275948524475,0.8145326375961304,0.682293176651001,0.6310280561447144,0.5756002068519592,0.7987908720970154,0.7463712096214294,0.7932058572769165,0.7747815847396851,0.6586822271347046,0.47633981704711914,0.5834841728210449,0.7653948664665222,0.7131432294845581,0.8173037767410278,0.5766921043395996,0.7301679849624634,0.7618368864059448,0.6487718820571899,0.720337986946106,0.7701461315155029,0.6647603511810303,0.4716125726699829,0.7791311144828796,0.6582303047180176,0.7159866094589233,0.6850907206535339,0.6303625702857971,0.6805590391159058,0.916601836681366,0.8297922611236572,0.7325969338417053,0.6112446784973145,0.8692331314086914,0.9398056268692017,0.8038959503173828,0.8099440336227417,0.9101269245147705,0.8739430904388428,0.7949804067611694,0.8114653825759888,0.6195721626281738,0.507918119430542,0.8240444660186768,0.7894643545150757,0.6834295988082886,0.6300436854362488,0.6638256311416626,0.6525296568870544,0.7326047420501709,0.8511488437652588,0.344138503074646,0.7896329164505005,0.5832075476646423,0.6443420648574829,0.7482724189758301,0.7076855897903442,0.9264286756515503,0.7373505234718323,0.5920045375823975,0.5363313555717468,0.5783534049987793,0.6918291449546814,0.6836185455322266,0.7068926095962524,0.6492511034011841,0.7485729455947876,0.8132836818695068,0.6477048397064209,0.683346152305603,0.6703853607177734,0.7515963315963745,0.8584545850753784,0.7984439134597778,0.7889969348907471,0.6834204196929932,0.7862575650215149,0.6617403030395508,0.6818822622299194,0.772820234298706,0.6505048871040344,0.7402622699737549,0.7301175594329834,0.5594418048858643,0.839881956577301,0.6207681894302368,0.9212819337844849,0.6818137168884277,0.6456418037414551,0.6049648523330688,0.5024630427360535,0.8151294589042664,0.7153747081756592,0.8365421295166016,0.8826309442520142,0.8668491840362549,0.6166649460792542,0.841894268989563,0.8111324906349182,0.6603102087974548,0.7499889135360718,0.6798986792564392,0.7459217309951782,0.817758321762085,0.7730793356895447,0.8290423154830933,0.6108110547065735],\"type\":\"histogram\",\"xaxis\":\"x5\",\"yaxis\":\"y5\"}],                        {\"template\":{\"data\":{\"histogram2dcontour\":[{\"type\":\"histogram2dcontour\",\"colorbar\":{\"outlinewidth\":0,\"ticks\":\"\"},\"colorscale\":[[0.0,\"#0d0887\"],[0.1111111111111111,\"#46039f\"],[0.2222222222222222,\"#7201a8\"],[0.3333333333333333,\"#9c179e\"],[0.4444444444444444,\"#bd3786\"],[0.5555555555555556,\"#d8576b\"],[0.6666666666666666,\"#ed7953\"],[0.7777777777777778,\"#fb9f3a\"],[0.8888888888888888,\"#fdca26\"],[1.0,\"#f0f921\"]]}],\"choropleth\":[{\"type\":\"choropleth\",\"colorbar\":{\"outlinewidth\":0,\"ticks\":\"\"}}],\"histogram2d\":[{\"type\":\"histogram2d\",\"colorbar\":{\"outlinewidth\":0,\"ticks\":\"\"},\"colorscale\":[[0.0,\"#0d0887\"],[0.1111111111111111,\"#46039f\"],[0.2222222222222222,\"#7201a8\"],[0.3333333333333333,\"#9c179e\"],[0.4444444444444444,\"#bd3786\"],[0.5555555555555556,\"#d8576b\"],[0.6666666666666666,\"#ed7953\"],[0.7777777777777778,\"#fb9f3a\"],[0.8888888888888888,\"#fdca26\"],[1.0,\"#f0f921\"]]}],\"heatmap\":[{\"type\":\"heatmap\",\"colorbar\":{\"outlinewidth\":0,\"ticks\":\"\"},\"colorscale\":[[0.0,\"#0d0887\"],[0.1111111111111111,\"#46039f\"],[0.2222222222222222,\"#7201a8\"],[0.3333333333333333,\"#9c179e\"],[0.4444444444444444,\"#bd3786\"],[0.5555555555555556,\"#d8576b\"],[0.6666666666666666,\"#ed7953\"],[0.7777777777777778,\"#fb9f3a\"],[0.8888888888888888,\"#fdca26\"],[1.0,\"#f0f921\"]]}],\"heatmapgl\":[{\"type\":\"heatmapgl\",\"colorbar\":{\"outlinewidth\":0,\"ticks\":\"\"},\"colorscale\":[[0.0,\"#0d0887\"],[0.1111111111111111,\"#46039f\"],[0.2222222222222222,\"#7201a8\"],[0.3333333333333333,\"#9c179e\"],[0.4444444444444444,\"#bd3786\"],[0.5555555555555556,\"#d8576b\"],[0.6666666666666666,\"#ed7953\"],[0.7777777777777778,\"#fb9f3a\"],[0.8888888888888888,\"#fdca26\"],[1.0,\"#f0f921\"]]}],\"contourcarpet\":[{\"type\":\"contourcarpet\",\"colorbar\":{\"outlinewidth\":0,\"ticks\":\"\"}}],\"contour\":[{\"type\":\"contour\",\"colorbar\":{\"outlinewidth\":0,\"ticks\":\"\"},\"colorscale\":[[0.0,\"#0d0887\"],[0.1111111111111111,\"#46039f\"],[0.2222222222222222,\"#7201a8\"],[0.3333333333333333,\"#9c179e\"],[0.4444444444444444,\"#bd3786\"],[0.5555555555555556,\"#d8576b\"],[0.6666666666666666,\"#ed7953\"],[0.7777777777777778,\"#fb9f3a\"],[0.8888888888888888,\"#fdca26\"],[1.0,\"#f0f921\"]]}],\"surface\":[{\"type\":\"surface\",\"colorbar\":{\"outlinewidth\":0,\"ticks\":\"\"},\"colorscale\":[[0.0,\"#0d0887\"],[0.1111111111111111,\"#46039f\"],[0.2222222222222222,\"#7201a8\"],[0.3333333333333333,\"#9c179e\"],[0.4444444444444444,\"#bd3786\"],[0.5555555555555556,\"#d8576b\"],[0.6666666666666666,\"#ed7953\"],[0.7777777777777778,\"#fb9f3a\"],[0.8888888888888888,\"#fdca26\"],[1.0,\"#f0f921\"]]}],\"mesh3d\":[{\"type\":\"mesh3d\",\"colorbar\":{\"outlinewidth\":0,\"ticks\":\"\"}}],\"scatter\":[{\"fillpattern\":{\"fillmode\":\"overlay\",\"size\":10,\"solidity\":0.2},\"type\":\"scatter\"}],\"parcoords\":[{\"type\":\"parcoords\",\"line\":{\"colorbar\":{\"outlinewidth\":0,\"ticks\":\"\"}}}],\"scatterpolargl\":[{\"type\":\"scatterpolargl\",\"marker\":{\"colorbar\":{\"outlinewidth\":0,\"ticks\":\"\"}}}],\"bar\":[{\"error_x\":{\"color\":\"#2a3f5f\"},\"error_y\":{\"color\":\"#2a3f5f\"},\"marker\":{\"line\":{\"color\":\"#E5ECF6\",\"width\":0.5},\"pattern\":{\"fillmode\":\"overlay\",\"size\":10,\"solidity\":0.2}},\"type\":\"bar\"}],\"scattergeo\":[{\"type\":\"scattergeo\",\"marker\":{\"colorbar\":{\"outlinewidth\":0,\"ticks\":\"\"}}}],\"scatterpolar\":[{\"type\":\"scatterpolar\",\"marker\":{\"colorbar\":{\"outlinewidth\":0,\"ticks\":\"\"}}}],\"histogram\":[{\"marker\":{\"pattern\":{\"fillmode\":\"overlay\",\"size\":10,\"solidity\":0.2}},\"type\":\"histogram\"}],\"scattergl\":[{\"type\":\"scattergl\",\"marker\":{\"colorbar\":{\"outlinewidth\":0,\"ticks\":\"\"}}}],\"scatter3d\":[{\"type\":\"scatter3d\",\"line\":{\"colorbar\":{\"outlinewidth\":0,\"ticks\":\"\"}},\"marker\":{\"colorbar\":{\"outlinewidth\":0,\"ticks\":\"\"}}}],\"scattermapbox\":[{\"type\":\"scattermapbox\",\"marker\":{\"colorbar\":{\"outlinewidth\":0,\"ticks\":\"\"}}}],\"scatterternary\":[{\"type\":\"scatterternary\",\"marker\":{\"colorbar\":{\"outlinewidth\":0,\"ticks\":\"\"}}}],\"scattercarpet\":[{\"type\":\"scattercarpet\",\"marker\":{\"colorbar\":{\"outlinewidth\":0,\"ticks\":\"\"}}}],\"carpet\":[{\"aaxis\":{\"endlinecolor\":\"#2a3f5f\",\"gridcolor\":\"white\",\"linecolor\":\"white\",\"minorgridcolor\":\"white\",\"startlinecolor\":\"#2a3f5f\"},\"baxis\":{\"endlinecolor\":\"#2a3f5f\",\"gridcolor\":\"white\",\"linecolor\":\"white\",\"minorgridcolor\":\"white\",\"startlinecolor\":\"#2a3f5f\"},\"type\":\"carpet\"}],\"table\":[{\"cells\":{\"fill\":{\"color\":\"#EBF0F8\"},\"line\":{\"color\":\"white\"}},\"header\":{\"fill\":{\"color\":\"#C8D4E3\"},\"line\":{\"color\":\"white\"}},\"type\":\"table\"}],\"barpolar\":[{\"marker\":{\"line\":{\"color\":\"#E5ECF6\",\"width\":0.5},\"pattern\":{\"fillmode\":\"overlay\",\"size\":10,\"solidity\":0.2}},\"type\":\"barpolar\"}],\"pie\":[{\"automargin\":true,\"type\":\"pie\"}]},\"layout\":{\"autotypenumbers\":\"strict\",\"colorway\":[\"#636efa\",\"#EF553B\",\"#00cc96\",\"#ab63fa\",\"#FFA15A\",\"#19d3f3\",\"#FF6692\",\"#B6E880\",\"#FF97FF\",\"#FECB52\"],\"font\":{\"color\":\"#2a3f5f\"},\"hovermode\":\"closest\",\"hoverlabel\":{\"align\":\"left\"},\"paper_bgcolor\":\"white\",\"plot_bgcolor\":\"#E5ECF6\",\"polar\":{\"bgcolor\":\"#E5ECF6\",\"angularaxis\":{\"gridcolor\":\"white\",\"linecolor\":\"white\",\"ticks\":\"\"},\"radialaxis\":{\"gridcolor\":\"white\",\"linecolor\":\"white\",\"ticks\":\"\"}},\"ternary\":{\"bgcolor\":\"#E5ECF6\",\"aaxis\":{\"gridcolor\":\"white\",\"linecolor\":\"white\",\"ticks\":\"\"},\"baxis\":{\"gridcolor\":\"white\",\"linecolor\":\"white\",\"ticks\":\"\"},\"caxis\":{\"gridcolor\":\"white\",\"linecolor\":\"white\",\"ticks\":\"\"}},\"coloraxis\":{\"colorbar\":{\"outlinewidth\":0,\"ticks\":\"\"}},\"colorscale\":{\"sequential\":[[0.0,\"#0d0887\"],[0.1111111111111111,\"#46039f\"],[0.2222222222222222,\"#7201a8\"],[0.3333333333333333,\"#9c179e\"],[0.4444444444444444,\"#bd3786\"],[0.5555555555555556,\"#d8576b\"],[0.6666666666666666,\"#ed7953\"],[0.7777777777777778,\"#fb9f3a\"],[0.8888888888888888,\"#fdca26\"],[1.0,\"#f0f921\"]],\"sequentialminus\":[[0.0,\"#0d0887\"],[0.1111111111111111,\"#46039f\"],[0.2222222222222222,\"#7201a8\"],[0.3333333333333333,\"#9c179e\"],[0.4444444444444444,\"#bd3786\"],[0.5555555555555556,\"#d8576b\"],[0.6666666666666666,\"#ed7953\"],[0.7777777777777778,\"#fb9f3a\"],[0.8888888888888888,\"#fdca26\"],[1.0,\"#f0f921\"]],\"diverging\":[[0,\"#8e0152\"],[0.1,\"#c51b7d\"],[0.2,\"#de77ae\"],[0.3,\"#f1b6da\"],[0.4,\"#fde0ef\"],[0.5,\"#f7f7f7\"],[0.6,\"#e6f5d0\"],[0.7,\"#b8e186\"],[0.8,\"#7fbc41\"],[0.9,\"#4d9221\"],[1,\"#276419\"]]},\"xaxis\":{\"gridcolor\":\"white\",\"linecolor\":\"white\",\"ticks\":\"\",\"title\":{\"standoff\":15},\"zerolinecolor\":\"white\",\"automargin\":true,\"zerolinewidth\":2},\"yaxis\":{\"gridcolor\":\"white\",\"linecolor\":\"white\",\"ticks\":\"\",\"title\":{\"standoff\":15},\"zerolinecolor\":\"white\",\"automargin\":true,\"zerolinewidth\":2},\"scene\":{\"xaxis\":{\"backgroundcolor\":\"#E5ECF6\",\"gridcolor\":\"white\",\"linecolor\":\"white\",\"showbackground\":true,\"ticks\":\"\",\"zerolinecolor\":\"white\",\"gridwidth\":2},\"yaxis\":{\"backgroundcolor\":\"#E5ECF6\",\"gridcolor\":\"white\",\"linecolor\":\"white\",\"showbackground\":true,\"ticks\":\"\",\"zerolinecolor\":\"white\",\"gridwidth\":2},\"zaxis\":{\"backgroundcolor\":\"#E5ECF6\",\"gridcolor\":\"white\",\"linecolor\":\"white\",\"showbackground\":true,\"ticks\":\"\",\"zerolinecolor\":\"white\",\"gridwidth\":2}},\"shapedefaults\":{\"line\":{\"color\":\"#2a3f5f\"}},\"annotationdefaults\":{\"arrowcolor\":\"#2a3f5f\",\"arrowhead\":0,\"arrowwidth\":1},\"geo\":{\"bgcolor\":\"white\",\"landcolor\":\"#E5ECF6\",\"subunitcolor\":\"white\",\"showland\":true,\"showlakes\":true,\"lakecolor\":\"white\"},\"title\":{\"x\":0.05},\"mapbox\":{\"style\":\"light\"}}},\"xaxis\":{\"anchor\":\"y\",\"domain\":[0.0,0.2888888888888889],\"title\":{\"text\":\"Similarity Score\"},\"range\":[0,1]},\"yaxis\":{\"anchor\":\"x\",\"domain\":[0.625,1.0],\"title\":{\"text\":\"Count\"}},\"xaxis2\":{\"anchor\":\"y2\",\"domain\":[0.35555555555555557,0.6444444444444445],\"title\":{\"text\":\"Similarity Score\"},\"range\":[0,1]},\"yaxis2\":{\"anchor\":\"x2\",\"domain\":[0.625,1.0],\"title\":{\"text\":\"Count\"}},\"xaxis3\":{\"anchor\":\"y3\",\"domain\":[0.7111111111111111,1.0],\"title\":{\"text\":\"Similarity Score\"},\"range\":[0,1]},\"yaxis3\":{\"anchor\":\"x3\",\"domain\":[0.625,1.0],\"title\":{\"text\":\"Count\"}},\"xaxis4\":{\"anchor\":\"y4\",\"domain\":[0.0,0.2888888888888889],\"title\":{\"text\":\"Similarity Score\"},\"range\":[0,1]},\"yaxis4\":{\"anchor\":\"x4\",\"domain\":[0.0,0.375],\"title\":{\"text\":\"Count\"}},\"xaxis5\":{\"anchor\":\"y5\",\"domain\":[0.35555555555555557,0.6444444444444445],\"title\":{\"text\":\"Similarity Score\"},\"range\":[0,1]},\"yaxis5\":{\"anchor\":\"x5\",\"domain\":[0.0,0.375],\"title\":{\"text\":\"Count\"}},\"xaxis6\":{\"anchor\":\"y6\",\"domain\":[0.7111111111111111,1.0]},\"yaxis6\":{\"anchor\":\"x6\",\"domain\":[0.0,0.375]},\"annotations\":[{\"font\":{\"size\":16},\"showarrow\":false,\"text\":\"Mean Similarity with GT Defs\",\"x\":0.14444444444444446,\"xanchor\":\"center\",\"xref\":\"paper\",\"y\":1.0,\"yanchor\":\"bottom\",\"yref\":\"paper\"},{\"font\":{\"size\":16},\"showarrow\":false,\"text\":\"Similarity with Mean Embedding of GT Defs\",\"x\":0.5,\"xanchor\":\"center\",\"xref\":\"paper\",\"y\":1.0,\"yanchor\":\"bottom\",\"yref\":\"paper\"},{\"font\":{\"size\":16},\"showarrow\":false,\"text\":\"Max Similarity with GT Defs\",\"x\":0.8555555555555556,\"xanchor\":\"center\",\"xref\":\"paper\",\"y\":1.0,\"yanchor\":\"bottom\",\"yref\":\"paper\"},{\"font\":{\"size\":16},\"showarrow\":false,\"text\":\"Mean Similarity with Other Words\",\"x\":0.14444444444444446,\"xanchor\":\"center\",\"xref\":\"paper\",\"y\":0.375,\"yanchor\":\"bottom\",\"yref\":\"paper\"},{\"font\":{\"size\":16},\"showarrow\":false,\"text\":\"Max Similarity with Other Words\",\"x\":0.5,\"xanchor\":\"center\",\"xref\":\"paper\",\"y\":0.375,\"yanchor\":\"bottom\",\"yref\":\"paper\"}],\"title\":{\"text\":\"Definition Embedding Comparison Metrics - Patching mean representation from translations\"},\"showlegend\":false,\"height\":800,\"width\":1200},                        {\"responsive\": true}                    ).then(function(){\n",
       "                            \n",
       "var gd = document.getElementById('478f5cc4-d671-41cf-b1df-b6894550cf65');\n",
       "var x = new MutationObserver(function (mutations, observer) {{\n",
       "        var display = window.getComputedStyle(gd).display;\n",
       "        if (!display || display === 'none') {{\n",
       "            console.log([gd, 'removed!']);\n",
       "            Plotly.purge(gd);\n",
       "            observer.disconnect();\n",
       "        }}\n",
       "}});\n",
       "\n",
       "// Listen for the removal of the full notebook cells\n",
       "var notebookContainer = gd.closest('#notebook-container');\n",
       "if (notebookContainer) {{\n",
       "    x.observe(notebookContainer, {childList: true});\n",
       "}}\n",
       "\n",
       "// Listen for the clearing of the current output cell\n",
       "var outputEl = gd.closest('.output');\n",
       "if (outputEl) {{\n",
       "    x.observe(outputEl, {childList: true});\n",
       "}}\n",
       "\n",
       "                        })                };                });            </script>        </div>"
      ]
     },
     "metadata": {},
     "output_type": "display_data"
    },
    {
     "data": {
      "application/vnd.plotly.v1+json": {
       "config": {
        "plotlyServerURL": "https://plot.ly"
       },
       "data": [
        {
         "bingroup": "a",
         "name": "Mean Similarity with GT Defs",
         "type": "histogram",
         "x": [
          0.501509964466095,
          0.6231528520584106,
          0.3630637526512146,
          0.7664955854415894,
          0.6622872948646545,
          0.7110140323638916,
          0.7787911891937256,
          0.6645972728729248,
          0.6478307843208313,
          0.5599945783615112,
          0.7660789489746094,
          0.6243757009506226,
          0.6594515442848206,
          0.7375971078872681,
          0.6672834753990173,
          0.6520532965660095,
          0.5923583507537842,
          0.734306275844574,
          0.8628029227256775,
          0.6798449754714966,
          0.751814067363739,
          0.6277185082435608,
          0.6440690159797668,
          0.7597619891166687,
          0.641601026058197,
          0.721308708190918,
          0.7724003791809082,
          0.7492039203643799,
          0.7977396845817566,
          0.6524760723114014,
          0.5012131929397583,
          0.7141803503036499,
          0.7335180044174194,
          0.6229174137115479,
          0.7392139434814453,
          0.9046645164489746,
          0.6029212474822998,
          0.7977153062820435,
          0.7952426075935364,
          0.7514691352844238,
          0.8500177264213562,
          0.5520898103713989,
          0.5110116600990295,
          0.6696049571037292,
          0.6813094019889832,
          0.6899029016494751,
          0.5880645513534546,
          0.6732186675071716,
          0.26551613211631775,
          0.7241243720054626,
          0.6369464993476868,
          0.57429039478302,
          0.7838678956031799,
          0.10093121975660324,
          0.6837435364723206,
          0.6135719418525696,
          0.594201385974884,
          0.6311806440353394,
          0.6894617080688477,
          0.709272563457489,
          0.6918312311172485,
          0.4663316607475281,
          0.6689391136169434,
          0.703585684299469,
          0.6683861613273621,
          0.7836172580718994,
          0.7588983178138733,
          0.6081528663635254,
          0.5396766662597656,
          0.8164252042770386,
          0.4143159091472626,
          0.7599663138389587,
          0.5570870637893677,
          0.6765293478965759,
          0.7765560150146484,
          0.3017091453075409,
          0.7481388449668884,
          0.7218832969665527,
          0.7887780070304871,
          0.7595518827438354,
          0.5996209979057312,
          0.7489392757415771,
          0.7421483993530273,
          0.858950138092041,
          0.6969506144523621,
          0.5797176361083984,
          0.7059311270713806,
          0.6382826566696167,
          0.6591526865959167,
          0.45109719038009644,
          0.2854865491390228,
          0.7965679168701172,
          0.7619971632957458,
          0.5548180341720581,
          0.6207809448242188,
          0.6212044954299927,
          0.7166869044303894,
          0.5856786966323853,
          0.32814672589302063,
          0.7461152076721191,
          0.37689346075057983,
          0.7323910593986511,
          0.5716235041618347,
          0.5388408303260803,
          0.7294079661369324,
          0.776006817817688,
          0.6479715704917908,
          0.8107436895370483,
          0.6554591059684753,
          0.6250643134117126,
          0.7360226511955261,
          0.6624233722686768,
          0.5131902694702148,
          0.7445291876792908,
          0.8158151507377625,
          0.805761992931366,
          0.2186570167541504,
          0.8517014980316162,
          0.6870547533035278,
          0.6219484210014343,
          0.624198853969574,
          0.7503734827041626,
          0.7932935357093811,
          0.8808999061584473,
          0.6291243433952332,
          0.7266607284545898,
          0.7569882273674011,
          0.8318840265274048,
          0.776046633720398,
          0.7260159254074097,
          0.6883294582366943,
          0.7305233478546143,
          0.6424822807312012,
          0.2934197187423706,
          0.7964681386947632,
          0.15365862846374512,
          0.6999468207359314,
          0.729276180267334,
          0.796191394329071,
          0.7128710150718689,
          0.6320247054100037,
          0.7412087321281433,
          0.7873216867446899,
          0.7047468423843384,
          0.7614904642105103,
          0.7372922897338867,
          0.7207147479057312,
          0.8529232740402222,
          0.5446187257766724,
          0.21908682584762573,
          0.7020094990730286,
          0.7782049179077148,
          0.6772218942642212,
          0.7410446405410767,
          0.731732189655304,
          0.6691082715988159
         ],
         "xaxis": "x",
         "yaxis": "y"
        },
        {
         "bingroup": "a",
         "name": "Similarity with Mean Embedding of GT Defs",
         "type": "histogram",
         "x": [
          0.6045522093772888,
          0.7145201563835144,
          0.44706958532333374,
          0.863341212272644,
          0.875374436378479,
          0.8095191717147827,
          0.912808358669281,
          0.8120808601379395,
          0.7022327780723572,
          0.6599899530410767,
          0.8638253211975098,
          0.7009721994400024,
          0.7785302400588989,
          0.8628309369087219,
          0.8181912899017334,
          0.7998224496841431,
          0.6726373434066772,
          0.8655999302864075,
          0.9197714328765869,
          0.8601477146148682,
          0.8612014055252075,
          0.8022444844245911,
          0.7505196928977966,
          0.8118896484375,
          0.7686208486557007,
          0.8656991124153137,
          0.8755783438682556,
          0.8638819456100464,
          0.8951132893562317,
          0.716511607170105,
          0.5680971145629883,
          0.8511066436767578,
          0.8260284662246704,
          0.8388497829437256,
          0.8626981377601624,
          0.9659148454666138,
          0.722104549407959,
          0.8744257688522339,
          0.9024269580841064,
          0.8711430430412292,
          0.9422823190689087,
          0.7479833364486694,
          0.6158104538917542,
          0.8223719000816345,
          0.8281519412994385,
          0.847250759601593,
          0.7623649835586548,
          0.7737013697624207,
          0.3381533622741699,
          0.8673793077468872,
          0.7592286467552185,
          0.6978190541267395,
          0.8678568601608276,
          0.12370600551366806,
          0.8213927745819092,
          0.7186206579208374,
          0.7157906293869019,
          0.7605213522911072,
          0.8135543465614319,
          0.7934883832931519,
          0.8600183725357056,
          0.5968679189682007,
          0.7760227918624878,
          0.8556151390075684,
          0.8374050855636597,
          0.8821321725845337,
          0.8507731556892395,
          0.6931660175323486,
          0.6876400709152222,
          0.9086528420448303,
          0.4882458448410034,
          0.8466874361038208,
          0.6973124742507935,
          0.8157798051834106,
          0.9057334065437317,
          0.346109539270401,
          0.8371365070343018,
          0.8189107775688171,
          0.8811747431755066,
          0.8595339059829712,
          0.6771245002746582,
          0.7990639209747314,
          0.9038017988204956,
          0.9499590396881104,
          0.7835186719894409,
          0.798776388168335,
          0.7910726070404053,
          0.7526894807815552,
          0.7787129878997803,
          0.5388122797012329,
          0.40548110008239746,
          0.8900545835494995,
          0.8034383058547974,
          0.746377170085907,
          0.7190309762954712,
          0.729546308517456,
          0.8377484083175659,
          0.739868700504303,
          0.4213031530380249,
          0.826654314994812,
          0.4228047728538513,
          0.8909454345703125,
          0.7285301685333252,
          0.6816592216491699,
          0.910507321357727,
          0.8943619728088379,
          0.7587687969207764,
          0.914825975894928,
          0.7752002477645874,
          0.7774184942245483,
          0.8503576517105103,
          0.8056901097297668,
          0.6431387662887573,
          0.8003300428390503,
          0.8755233287811279,
          0.9021952152252197,
          0.2452138215303421,
          0.9405301809310913,
          0.8488738536834717,
          0.8077239394187927,
          0.7758197784423828,
          0.8799335956573486,
          0.8714451789855957,
          0.9562331438064575,
          0.801382303237915,
          0.8350197076797485,
          0.8670488595962524,
          0.9161149263381958,
          0.8850945234298706,
          0.8349987268447876,
          0.7692694664001465,
          0.8019146919250488,
          0.7355443239212036,
          0.33011186122894287,
          0.8466630578041077,
          0.17134064435958862,
          0.7966499328613281,
          0.8930918574333191,
          0.8646233081817627,
          0.8287348747253418,
          0.7174361944198608,
          0.9104077219963074,
          0.8521311283111572,
          0.9058833718299866,
          0.8565005660057068,
          0.8227033615112305,
          0.8105202913284302,
          0.9295986890792847,
          0.6291719675064087,
          0.29051437973976135,
          0.8170967698097229,
          0.8774420022964478,
          0.8084269165992737,
          0.8451120853424072,
          0.9091572761535645,
          0.8161638975143433
         ],
         "xaxis": "x2",
         "yaxis": "y2"
        },
        {
         "bingroup": "a",
         "name": "Max Similarity with GT Defs",
         "type": "histogram",
         "x": [
          0.7307618856430054,
          0.7002841234207153,
          0.4893059730529785,
          0.8307116031646729,
          0.8433981537818909,
          0.9480631351470947,
          0.9001990556716919,
          0.7723321318626404,
          0.8320682048797607,
          0.716650128364563,
          0.8689985275268555,
          0.7355170249938965,
          0.8431831002235413,
          0.8886963129043579,
          0.8324536085128784,
          0.8920555114746094,
          0.7354381084442139,
          0.8541383743286133,
          0.904449462890625,
          0.8263224363327026,
          0.9384238719940186,
          0.8482662439346313,
          0.6890628933906555,
          0.83296799659729,
          0.8152359127998352,
          0.9052572250366211,
          0.9096747636795044,
          0.8453353047370911,
          0.8827869892120361,
          0.7203201651573181,
          0.7543981075286865,
          0.8603678941726685,
          0.8280035257339478,
          0.843360185623169,
          0.8349450826644897,
          0.9687278270721436,
          0.7040263414382935,
          0.8469347953796387,
          0.8931593894958496,
          0.8751641511917114,
          0.9111906886100769,
          0.8140854835510254,
          0.7128623723983765,
          0.8649308085441589,
          0.7958840131759644,
          0.8086407780647278,
          0.701438307762146,
          0.7932521104812622,
          0.6175416707992554,
          0.8216603398323059,
          0.7475529909133911,
          0.8552535772323608,
          0.8714540600776672,
          0.1347094625234604,
          0.7787784337997437,
          0.7536341547966003,
          0.6981992125511169,
          0.7960405945777893,
          0.8938713073730469,
          0.79685378074646,
          0.815653920173645,
          0.6995471715927124,
          0.7157500386238098,
          0.8629153370857239,
          0.8448904752731323,
          0.8957988023757935,
          0.8666048645973206,
          0.6762226819992065,
          0.7135927081108093,
          0.9308826327323914,
          0.5338241457939148,
          0.8239681720733643,
          0.7206633687019348,
          0.8346009254455566,
          0.8802119493484497,
          0.4216902256011963,
          0.8483471870422363,
          0.7969436645507812,
          0.8883073329925537,
          0.834174394607544,
          0.8319684863090515,
          0.8246791362762451,
          0.8806463479995728,
          0.9270151853561401,
          0.8355841040611267,
          0.9173318147659302,
          0.7747921943664551,
          0.8008878231048584,
          0.7783974409103394,
          0.6191613078117371,
          0.40106767416000366,
          0.8650694489479065,
          0.8052076101303101,
          0.7112237811088562,
          0.7317890524864197,
          0.7663019895553589,
          0.7676621079444885,
          0.767599880695343,
          0.706552267074585,
          0.7727832794189453,
          0.42971962690353394,
          0.8236017227172852,
          0.6986547708511353,
          0.7453324794769287,
          0.8663913011550903,
          0.8929874897003174,
          0.7348242998123169,
          0.8928662538528442,
          0.7756624221801758,
          0.876142144203186,
          0.8266386985778809,
          0.8806538581848145,
          0.6406686305999756,
          0.7801733016967773,
          0.852658748626709,
          0.8864140510559082,
          0.27766138315200806,
          0.9518276453018188,
          0.7481887936592102,
          0.8246423006057739,
          0.7800844311714172,
          0.8527194857597351,
          0.8784558773040771,
          0.9103425741195679,
          0.7994648218154907,
          0.8370989561080933,
          0.8418260812759399,
          0.8727279901504517,
          0.875942587852478,
          0.780909538269043,
          0.7619749307632446,
          0.7925046682357788,
          0.8231523036956787,
          0.47273847460746765,
          0.9503624439239502,
          0.22297362983226776,
          0.8441087007522583,
          0.845355212688446,
          0.8269262313842773,
          0.8395456671714783,
          0.7612178921699524,
          0.8819833993911743,
          0.8333221673965454,
          0.8997051119804382,
          0.921058177947998,
          0.894374430179596,
          0.7790733575820923,
          0.8889223337173462,
          0.5774703025817871,
          0.31397539377212524,
          0.830962061882019,
          0.8469547033309937,
          0.8040409684181213,
          0.8242489099502563,
          0.7600474953651428,
          0.7585494518280029
         ],
         "xaxis": "x3",
         "yaxis": "y3"
        },
        {
         "bingroup": "a",
         "name": "Mean Similarity with Other Words",
         "type": "histogram",
         "x": [
          0.19313806295394897,
          0.2068917155265808,
          0.25859785079956055,
          0.2075577676296234,
          0.17361889779567719,
          0.14545834064483643,
          0.2353600263595581,
          0.20719587802886963,
          0.14464735984802246,
          0.13782520592212677,
          0.2443798929452896,
          0.20495595037937164,
          0.15962523221969604,
          0.2172674536705017,
          0.26493754982948303,
          0.18428143858909607,
          0.23377181589603424,
          0.26849472522735596,
          0.1262950897216797,
          0.13867031037807465,
          0.15967229008674622,
          0.13404017686843872,
          0.2823680341243744,
          0.2511441707611084,
          0.21998856961727142,
          0.26562565565109253,
          0.19954074919223785,
          0.30857446789741516,
          0.1402425467967987,
          0.23629438877105713,
          0.16304728388786316,
          0.15994921326637268,
          0.11577604711055756,
          0.26064401865005493,
          0.2176593840122223,
          0.15549303591251373,
          0.1648043394088745,
          0.1672109216451645,
          0.19894984364509583,
          0.27931463718414307,
          0.13824054598808289,
          0.19385270774364471,
          0.10999567806720734,
          0.23265649378299713,
          0.2479572594165802,
          0.23005636036396027,
          0.20170600712299347,
          0.28974419832229614,
          0.223988339304924,
          0.25515320897102356,
          0.2510070204734802,
          0.21054776012897491,
          0.21192818880081177,
          0.12876226007938385,
          0.20092715322971344,
          0.13235077261924744,
          0.24542711675167084,
          0.21262024343013763,
          0.14120782911777496,
          0.2779764235019684,
          0.2073480486869812,
          0.20318730175495148,
          0.2403944581747055,
          0.1846085637807846,
          0.23724757134914398,
          0.16747929155826569,
          0.0969679206609726,
          0.20561470091342926,
          0.13266132771968842,
          0.17170779407024384,
          0.23387831449508667,
          0.26524531841278076,
          0.254545122385025,
          0.2292017936706543,
          0.18979640305042267,
          0.19839511811733246,
          0.18684615194797516,
          0.1974800080060959,
          0.2237134575843811,
          0.18434706330299377,
          0.2019517421722412,
          0.24747136235237122,
          0.22079187631607056,
          0.2334498018026352,
          0.20402365922927856,
          0.20671772956848145,
          0.24336594343185425,
          0.20402167737483978,
          0.22819875180721283,
          0.2917492687702179,
          0.25815466046333313,
          0.2514677047729492,
          0.20734179019927979,
          0.2128755748271942,
          0.2490614652633667,
          0.22400978207588196,
          0.25504326820373535,
          0.1374129354953766,
          0.1561373770236969,
          0.265851765871048,
          0.11741994321346283,
          0.250257283449173,
          0.24723446369171143,
          0.19257643818855286,
          0.2593176066875458,
          0.17826351523399353,
          0.2738587260246277,
          0.2702503204345703,
          0.15859366953372955,
          0.17016582190990448,
          0.18713507056236267,
          0.20694957673549652,
          0.12264509499073029,
          0.12951189279556274,
          0.20201466977596283,
          0.20338189601898193,
          0.12894710898399353,
          0.24042470753192902,
          0.2329210638999939,
          0.18993782997131348,
          0.25338295102119446,
          0.2151229828596115,
          0.26775896549224854,
          0.22538922727108002,
          0.31206628680229187,
          0.2042444795370102,
          0.22333210706710815,
          0.2437109649181366,
          0.22044534981250763,
          0.21792231500148773,
          0.2011004537343979,
          0.19303783774375916,
          0.1635337918996811,
          0.29001370072364807,
          0.18829874694347382,
          0.16577734053134918,
          0.2113243192434311,
          0.21400345861911774,
          0.18965932726860046,
          0.0958465188741684,
          0.24682234227657318,
          0.2727072834968567,
          0.24407413601875305,
          0.18993596732616425,
          0.21048155426979065,
          0.21426978707313538,
          0.17288123071193695,
          0.20362940430641174,
          0.2361835092306137,
          0.18473339080810547,
          0.26345062255859375,
          0.21881651878356934,
          0.25972145795822144,
          0.19909311830997467,
          0.31554341316223145,
          0.21475468575954437
         ],
         "xaxis": "x4",
         "yaxis": "y4"
        },
        {
         "bingroup": "a",
         "name": "Max Similarity with Other Words",
         "type": "histogram",
         "x": [
          0.6827907562255859,
          0.749430775642395,
          0.7149300575256348,
          0.7985588312149048,
          0.5977685451507568,
          0.6023421287536621,
          0.6542924642562866,
          0.5945145487785339,
          0.676440417766571,
          0.5455405712127686,
          0.6646326780319214,
          0.7530380487442017,
          0.572681188583374,
          0.8048844933509827,
          0.784799337387085,
          0.5025240778923035,
          0.7628088593482971,
          0.8283699750900269,
          0.6856623888015747,
          0.48683106899261475,
          0.5385235548019409,
          0.481258749961853,
          0.6892699599266052,
          0.7220881581306458,
          0.8143518567085266,
          0.9082905054092407,
          0.616765022277832,
          0.7345255017280579,
          0.6955376863479614,
          0.7909073829650879,
          0.7990719079971313,
          0.5992156863212585,
          0.5772745609283447,
          0.8011193871498108,
          0.8030633330345154,
          0.695884108543396,
          0.6312209367752075,
          0.5574573278427124,
          0.6317970752716064,
          0.9160743951797485,
          0.7072079181671143,
          0.722484290599823,
          0.5457473397254944,
          0.7537383437156677,
          0.6474021673202515,
          0.6890259981155396,
          0.7402312755584717,
          0.8007848262786865,
          0.8322094678878784,
          0.8188425898551941,
          0.7417757511138916,
          0.8432183265686035,
          0.688657283782959,
          0.5756002068519592,
          0.5591248869895935,
          0.7301891446113586,
          0.732642412185669,
          0.8263733386993408,
          0.6161069273948669,
          0.6144406795501709,
          0.6314064264297485,
          0.695975661277771,
          0.8421974182128906,
          0.7535801529884338,
          0.7756944298744202,
          0.7087185978889465,
          0.7660741209983826,
          0.6708353757858276,
          0.6186947226524353,
          0.6931295990943909,
          0.675285816192627,
          0.806452214717865,
          0.8432947397232056,
          0.741628110408783,
          0.7159866094589233,
          0.71004718542099,
          0.6303625702857971,
          0.6375224590301514,
          0.6787184476852417,
          0.7455410957336426,
          0.7280959486961365,
          0.7056453824043274,
          0.8617764115333557,
          0.9322676062583923,
          0.5768122673034668,
          0.8226863741874695,
          0.8095405697822571,
          0.6962413787841797,
          0.6224002242088318,
          0.8072865009307861,
          0.6860823631286621,
          0.6303898692131042,
          0.801987886428833,
          0.654891312122345,
          0.8555678725242615,
          0.7317666411399841,
          0.7954579591751099,
          0.5761463642120361,
          0.7861552238464355,
          0.7627904415130615,
          0.45387032628059387,
          0.8299002647399902,
          0.7075100541114807,
          0.7253648042678833,
          0.6984992027282715,
          0.6311563849449158,
          0.7885323762893677,
          0.7641202211380005,
          0.5410550832748413,
          0.5568056702613831,
          0.6567743420600891,
          0.701633870601654,
          0.6493602991104126,
          0.6667710542678833,
          0.6689958572387695,
          0.7000541090965271,
          0.7295974493026733,
          0.935255765914917,
          0.61688232421875,
          0.7503763437271118,
          0.8945550918579102,
          0.760456919670105,
          0.858840823173523,
          0.8770418167114258,
          0.7126820683479309,
          0.6864413022994995,
          0.6832934617996216,
          0.8560678958892822,
          0.7371683120727539,
          0.6267372369766235,
          0.6409667730331421,
          0.5707464218139648,
          0.5594418048858643,
          0.6800696849822998,
          0.485212504863739,
          0.9009640216827393,
          0.7091124653816223,
          0.612014651298523,
          0.6177396178245544,
          0.48921388387680054,
          0.8047045469284058,
          0.7736661434173584,
          0.7492349147796631,
          0.8303185701370239,
          0.8656166791915894,
          0.8149069547653198,
          0.672884464263916,
          0.8135001063346863,
          0.7469997406005859,
          0.7764149904251099,
          0.7509384155273438,
          0.7459217309951782,
          0.7513232231140137,
          0.7892364263534546,
          0.687109649181366,
          0.7308787107467651
         ],
         "xaxis": "x5",
         "yaxis": "y5"
        }
       ],
       "layout": {
        "annotations": [
         {
          "font": {
           "size": 16
          },
          "showarrow": false,
          "text": "Mean Similarity with GT Defs",
          "x": 0.14444444444444446,
          "xanchor": "center",
          "xref": "paper",
          "y": 1,
          "yanchor": "bottom",
          "yref": "paper"
         },
         {
          "font": {
           "size": 16
          },
          "showarrow": false,
          "text": "Similarity with Mean Embedding of GT Defs",
          "x": 0.5,
          "xanchor": "center",
          "xref": "paper",
          "y": 1,
          "yanchor": "bottom",
          "yref": "paper"
         },
         {
          "font": {
           "size": 16
          },
          "showarrow": false,
          "text": "Max Similarity with GT Defs",
          "x": 0.8555555555555556,
          "xanchor": "center",
          "xref": "paper",
          "y": 1,
          "yanchor": "bottom",
          "yref": "paper"
         },
         {
          "font": {
           "size": 16
          },
          "showarrow": false,
          "text": "Mean Similarity with Other Words",
          "x": 0.14444444444444446,
          "xanchor": "center",
          "xref": "paper",
          "y": 0.375,
          "yanchor": "bottom",
          "yref": "paper"
         },
         {
          "font": {
           "size": 16
          },
          "showarrow": false,
          "text": "Max Similarity with Other Words",
          "x": 0.5,
          "xanchor": "center",
          "xref": "paper",
          "y": 0.375,
          "yanchor": "bottom",
          "yref": "paper"
         }
        ],
        "height": 800,
        "showlegend": false,
        "template": {
         "data": {
          "bar": [
           {
            "error_x": {
             "color": "#2a3f5f"
            },
            "error_y": {
             "color": "#2a3f5f"
            },
            "marker": {
             "line": {
              "color": "#E5ECF6",
              "width": 0.5
             },
             "pattern": {
              "fillmode": "overlay",
              "size": 10,
              "solidity": 0.2
             }
            },
            "type": "bar"
           }
          ],
          "barpolar": [
           {
            "marker": {
             "line": {
              "color": "#E5ECF6",
              "width": 0.5
             },
             "pattern": {
              "fillmode": "overlay",
              "size": 10,
              "solidity": 0.2
             }
            },
            "type": "barpolar"
           }
          ],
          "carpet": [
           {
            "aaxis": {
             "endlinecolor": "#2a3f5f",
             "gridcolor": "white",
             "linecolor": "white",
             "minorgridcolor": "white",
             "startlinecolor": "#2a3f5f"
            },
            "baxis": {
             "endlinecolor": "#2a3f5f",
             "gridcolor": "white",
             "linecolor": "white",
             "minorgridcolor": "white",
             "startlinecolor": "#2a3f5f"
            },
            "type": "carpet"
           }
          ],
          "choropleth": [
           {
            "colorbar": {
             "outlinewidth": 0,
             "ticks": ""
            },
            "type": "choropleth"
           }
          ],
          "contour": [
           {
            "colorbar": {
             "outlinewidth": 0,
             "ticks": ""
            },
            "colorscale": [
             [
              0,
              "#0d0887"
             ],
             [
              0.1111111111111111,
              "#46039f"
             ],
             [
              0.2222222222222222,
              "#7201a8"
             ],
             [
              0.3333333333333333,
              "#9c179e"
             ],
             [
              0.4444444444444444,
              "#bd3786"
             ],
             [
              0.5555555555555556,
              "#d8576b"
             ],
             [
              0.6666666666666666,
              "#ed7953"
             ],
             [
              0.7777777777777778,
              "#fb9f3a"
             ],
             [
              0.8888888888888888,
              "#fdca26"
             ],
             [
              1,
              "#f0f921"
             ]
            ],
            "type": "contour"
           }
          ],
          "contourcarpet": [
           {
            "colorbar": {
             "outlinewidth": 0,
             "ticks": ""
            },
            "type": "contourcarpet"
           }
          ],
          "heatmap": [
           {
            "colorbar": {
             "outlinewidth": 0,
             "ticks": ""
            },
            "colorscale": [
             [
              0,
              "#0d0887"
             ],
             [
              0.1111111111111111,
              "#46039f"
             ],
             [
              0.2222222222222222,
              "#7201a8"
             ],
             [
              0.3333333333333333,
              "#9c179e"
             ],
             [
              0.4444444444444444,
              "#bd3786"
             ],
             [
              0.5555555555555556,
              "#d8576b"
             ],
             [
              0.6666666666666666,
              "#ed7953"
             ],
             [
              0.7777777777777778,
              "#fb9f3a"
             ],
             [
              0.8888888888888888,
              "#fdca26"
             ],
             [
              1,
              "#f0f921"
             ]
            ],
            "type": "heatmap"
           }
          ],
          "heatmapgl": [
           {
            "colorbar": {
             "outlinewidth": 0,
             "ticks": ""
            },
            "colorscale": [
             [
              0,
              "#0d0887"
             ],
             [
              0.1111111111111111,
              "#46039f"
             ],
             [
              0.2222222222222222,
              "#7201a8"
             ],
             [
              0.3333333333333333,
              "#9c179e"
             ],
             [
              0.4444444444444444,
              "#bd3786"
             ],
             [
              0.5555555555555556,
              "#d8576b"
             ],
             [
              0.6666666666666666,
              "#ed7953"
             ],
             [
              0.7777777777777778,
              "#fb9f3a"
             ],
             [
              0.8888888888888888,
              "#fdca26"
             ],
             [
              1,
              "#f0f921"
             ]
            ],
            "type": "heatmapgl"
           }
          ],
          "histogram": [
           {
            "marker": {
             "pattern": {
              "fillmode": "overlay",
              "size": 10,
              "solidity": 0.2
             }
            },
            "type": "histogram"
           }
          ],
          "histogram2d": [
           {
            "colorbar": {
             "outlinewidth": 0,
             "ticks": ""
            },
            "colorscale": [
             [
              0,
              "#0d0887"
             ],
             [
              0.1111111111111111,
              "#46039f"
             ],
             [
              0.2222222222222222,
              "#7201a8"
             ],
             [
              0.3333333333333333,
              "#9c179e"
             ],
             [
              0.4444444444444444,
              "#bd3786"
             ],
             [
              0.5555555555555556,
              "#d8576b"
             ],
             [
              0.6666666666666666,
              "#ed7953"
             ],
             [
              0.7777777777777778,
              "#fb9f3a"
             ],
             [
              0.8888888888888888,
              "#fdca26"
             ],
             [
              1,
              "#f0f921"
             ]
            ],
            "type": "histogram2d"
           }
          ],
          "histogram2dcontour": [
           {
            "colorbar": {
             "outlinewidth": 0,
             "ticks": ""
            },
            "colorscale": [
             [
              0,
              "#0d0887"
             ],
             [
              0.1111111111111111,
              "#46039f"
             ],
             [
              0.2222222222222222,
              "#7201a8"
             ],
             [
              0.3333333333333333,
              "#9c179e"
             ],
             [
              0.4444444444444444,
              "#bd3786"
             ],
             [
              0.5555555555555556,
              "#d8576b"
             ],
             [
              0.6666666666666666,
              "#ed7953"
             ],
             [
              0.7777777777777778,
              "#fb9f3a"
             ],
             [
              0.8888888888888888,
              "#fdca26"
             ],
             [
              1,
              "#f0f921"
             ]
            ],
            "type": "histogram2dcontour"
           }
          ],
          "mesh3d": [
           {
            "colorbar": {
             "outlinewidth": 0,
             "ticks": ""
            },
            "type": "mesh3d"
           }
          ],
          "parcoords": [
           {
            "line": {
             "colorbar": {
              "outlinewidth": 0,
              "ticks": ""
             }
            },
            "type": "parcoords"
           }
          ],
          "pie": [
           {
            "automargin": true,
            "type": "pie"
           }
          ],
          "scatter": [
           {
            "fillpattern": {
             "fillmode": "overlay",
             "size": 10,
             "solidity": 0.2
            },
            "type": "scatter"
           }
          ],
          "scatter3d": [
           {
            "line": {
             "colorbar": {
              "outlinewidth": 0,
              "ticks": ""
             }
            },
            "marker": {
             "colorbar": {
              "outlinewidth": 0,
              "ticks": ""
             }
            },
            "type": "scatter3d"
           }
          ],
          "scattercarpet": [
           {
            "marker": {
             "colorbar": {
              "outlinewidth": 0,
              "ticks": ""
             }
            },
            "type": "scattercarpet"
           }
          ],
          "scattergeo": [
           {
            "marker": {
             "colorbar": {
              "outlinewidth": 0,
              "ticks": ""
             }
            },
            "type": "scattergeo"
           }
          ],
          "scattergl": [
           {
            "marker": {
             "colorbar": {
              "outlinewidth": 0,
              "ticks": ""
             }
            },
            "type": "scattergl"
           }
          ],
          "scattermapbox": [
           {
            "marker": {
             "colorbar": {
              "outlinewidth": 0,
              "ticks": ""
             }
            },
            "type": "scattermapbox"
           }
          ],
          "scatterpolar": [
           {
            "marker": {
             "colorbar": {
              "outlinewidth": 0,
              "ticks": ""
             }
            },
            "type": "scatterpolar"
           }
          ],
          "scatterpolargl": [
           {
            "marker": {
             "colorbar": {
              "outlinewidth": 0,
              "ticks": ""
             }
            },
            "type": "scatterpolargl"
           }
          ],
          "scatterternary": [
           {
            "marker": {
             "colorbar": {
              "outlinewidth": 0,
              "ticks": ""
             }
            },
            "type": "scatterternary"
           }
          ],
          "surface": [
           {
            "colorbar": {
             "outlinewidth": 0,
             "ticks": ""
            },
            "colorscale": [
             [
              0,
              "#0d0887"
             ],
             [
              0.1111111111111111,
              "#46039f"
             ],
             [
              0.2222222222222222,
              "#7201a8"
             ],
             [
              0.3333333333333333,
              "#9c179e"
             ],
             [
              0.4444444444444444,
              "#bd3786"
             ],
             [
              0.5555555555555556,
              "#d8576b"
             ],
             [
              0.6666666666666666,
              "#ed7953"
             ],
             [
              0.7777777777777778,
              "#fb9f3a"
             ],
             [
              0.8888888888888888,
              "#fdca26"
             ],
             [
              1,
              "#f0f921"
             ]
            ],
            "type": "surface"
           }
          ],
          "table": [
           {
            "cells": {
             "fill": {
              "color": "#EBF0F8"
             },
             "line": {
              "color": "white"
             }
            },
            "header": {
             "fill": {
              "color": "#C8D4E3"
             },
             "line": {
              "color": "white"
             }
            },
            "type": "table"
           }
          ]
         },
         "layout": {
          "annotationdefaults": {
           "arrowcolor": "#2a3f5f",
           "arrowhead": 0,
           "arrowwidth": 1
          },
          "autotypenumbers": "strict",
          "coloraxis": {
           "colorbar": {
            "outlinewidth": 0,
            "ticks": ""
           }
          },
          "colorscale": {
           "diverging": [
            [
             0,
             "#8e0152"
            ],
            [
             0.1,
             "#c51b7d"
            ],
            [
             0.2,
             "#de77ae"
            ],
            [
             0.3,
             "#f1b6da"
            ],
            [
             0.4,
             "#fde0ef"
            ],
            [
             0.5,
             "#f7f7f7"
            ],
            [
             0.6,
             "#e6f5d0"
            ],
            [
             0.7,
             "#b8e186"
            ],
            [
             0.8,
             "#7fbc41"
            ],
            [
             0.9,
             "#4d9221"
            ],
            [
             1,
             "#276419"
            ]
           ],
           "sequential": [
            [
             0,
             "#0d0887"
            ],
            [
             0.1111111111111111,
             "#46039f"
            ],
            [
             0.2222222222222222,
             "#7201a8"
            ],
            [
             0.3333333333333333,
             "#9c179e"
            ],
            [
             0.4444444444444444,
             "#bd3786"
            ],
            [
             0.5555555555555556,
             "#d8576b"
            ],
            [
             0.6666666666666666,
             "#ed7953"
            ],
            [
             0.7777777777777778,
             "#fb9f3a"
            ],
            [
             0.8888888888888888,
             "#fdca26"
            ],
            [
             1,
             "#f0f921"
            ]
           ],
           "sequentialminus": [
            [
             0,
             "#0d0887"
            ],
            [
             0.1111111111111111,
             "#46039f"
            ],
            [
             0.2222222222222222,
             "#7201a8"
            ],
            [
             0.3333333333333333,
             "#9c179e"
            ],
            [
             0.4444444444444444,
             "#bd3786"
            ],
            [
             0.5555555555555556,
             "#d8576b"
            ],
            [
             0.6666666666666666,
             "#ed7953"
            ],
            [
             0.7777777777777778,
             "#fb9f3a"
            ],
            [
             0.8888888888888888,
             "#fdca26"
            ],
            [
             1,
             "#f0f921"
            ]
           ]
          },
          "colorway": [
           "#636efa",
           "#EF553B",
           "#00cc96",
           "#ab63fa",
           "#FFA15A",
           "#19d3f3",
           "#FF6692",
           "#B6E880",
           "#FF97FF",
           "#FECB52"
          ],
          "font": {
           "color": "#2a3f5f"
          },
          "geo": {
           "bgcolor": "white",
           "lakecolor": "white",
           "landcolor": "#E5ECF6",
           "showlakes": true,
           "showland": true,
           "subunitcolor": "white"
          },
          "hoverlabel": {
           "align": "left"
          },
          "hovermode": "closest",
          "mapbox": {
           "style": "light"
          },
          "paper_bgcolor": "white",
          "plot_bgcolor": "#E5ECF6",
          "polar": {
           "angularaxis": {
            "gridcolor": "white",
            "linecolor": "white",
            "ticks": ""
           },
           "bgcolor": "#E5ECF6",
           "radialaxis": {
            "gridcolor": "white",
            "linecolor": "white",
            "ticks": ""
           }
          },
          "scene": {
           "xaxis": {
            "backgroundcolor": "#E5ECF6",
            "gridcolor": "white",
            "gridwidth": 2,
            "linecolor": "white",
            "showbackground": true,
            "ticks": "",
            "zerolinecolor": "white"
           },
           "yaxis": {
            "backgroundcolor": "#E5ECF6",
            "gridcolor": "white",
            "gridwidth": 2,
            "linecolor": "white",
            "showbackground": true,
            "ticks": "",
            "zerolinecolor": "white"
           },
           "zaxis": {
            "backgroundcolor": "#E5ECF6",
            "gridcolor": "white",
            "gridwidth": 2,
            "linecolor": "white",
            "showbackground": true,
            "ticks": "",
            "zerolinecolor": "white"
           }
          },
          "shapedefaults": {
           "line": {
            "color": "#2a3f5f"
           }
          },
          "ternary": {
           "aaxis": {
            "gridcolor": "white",
            "linecolor": "white",
            "ticks": ""
           },
           "baxis": {
            "gridcolor": "white",
            "linecolor": "white",
            "ticks": ""
           },
           "bgcolor": "#E5ECF6",
           "caxis": {
            "gridcolor": "white",
            "linecolor": "white",
            "ticks": ""
           }
          },
          "title": {
           "x": 0.05
          },
          "xaxis": {
           "automargin": true,
           "gridcolor": "white",
           "linecolor": "white",
           "ticks": "",
           "title": {
            "standoff": 15
           },
           "zerolinecolor": "white",
           "zerolinewidth": 2
          },
          "yaxis": {
           "automargin": true,
           "gridcolor": "white",
           "linecolor": "white",
           "ticks": "",
           "title": {
            "standoff": 15
           },
           "zerolinecolor": "white",
           "zerolinewidth": 2
          }
         }
        },
        "title": {
         "text": "Definition Embedding Comparison Metrics - Patching mean representation from definitions"
        },
        "width": 1200,
        "xaxis": {
         "anchor": "y",
         "domain": [
          0,
          0.2888888888888889
         ],
         "range": [
          0,
          1
         ],
         "title": {
          "text": "Similarity Score"
         }
        },
        "xaxis2": {
         "anchor": "y2",
         "domain": [
          0.35555555555555557,
          0.6444444444444445
         ],
         "range": [
          0,
          1
         ],
         "title": {
          "text": "Similarity Score"
         }
        },
        "xaxis3": {
         "anchor": "y3",
         "domain": [
          0.7111111111111111,
          1
         ],
         "range": [
          0,
          1
         ],
         "title": {
          "text": "Similarity Score"
         }
        },
        "xaxis4": {
         "anchor": "y4",
         "domain": [
          0,
          0.2888888888888889
         ],
         "range": [
          0,
          1
         ],
         "title": {
          "text": "Similarity Score"
         }
        },
        "xaxis5": {
         "anchor": "y5",
         "domain": [
          0.35555555555555557,
          0.6444444444444445
         ],
         "range": [
          0,
          1
         ],
         "title": {
          "text": "Similarity Score"
         }
        },
        "xaxis6": {
         "anchor": "y6",
         "domain": [
          0.7111111111111111,
          1
         ]
        },
        "yaxis": {
         "anchor": "x",
         "domain": [
          0.625,
          1
         ],
         "title": {
          "text": "Count"
         }
        },
        "yaxis2": {
         "anchor": "x2",
         "domain": [
          0.625,
          1
         ],
         "title": {
          "text": "Count"
         }
        },
        "yaxis3": {
         "anchor": "x3",
         "domain": [
          0.625,
          1
         ],
         "title": {
          "text": "Count"
         }
        },
        "yaxis4": {
         "anchor": "x4",
         "domain": [
          0,
          0.375
         ],
         "title": {
          "text": "Count"
         }
        },
        "yaxis5": {
         "anchor": "x5",
         "domain": [
          0,
          0.375
         ],
         "title": {
          "text": "Count"
         }
        },
        "yaxis6": {
         "anchor": "x6",
         "domain": [
          0,
          0.375
         ]
        }
       }
      },
      "text/html": [
       "<div>                            <div id=\"76b1e184-8a2a-41b1-8cce-567def276f67\" class=\"plotly-graph-div\" style=\"height:800px; width:1200px;\"></div>            <script type=\"text/javascript\">                require([\"plotly\"], function(Plotly) {                    window.PLOTLYENV=window.PLOTLYENV || {};                                    if (document.getElementById(\"76b1e184-8a2a-41b1-8cce-567def276f67\")) {                    Plotly.newPlot(                        \"76b1e184-8a2a-41b1-8cce-567def276f67\",                        [{\"bingroup\":\"a\",\"name\":\"Mean Similarity with GT Defs\",\"x\":[0.501509964466095,0.6231528520584106,0.3630637526512146,0.7664955854415894,0.6622872948646545,0.7110140323638916,0.7787911891937256,0.6645972728729248,0.6478307843208313,0.5599945783615112,0.7660789489746094,0.6243757009506226,0.6594515442848206,0.7375971078872681,0.6672834753990173,0.6520532965660095,0.5923583507537842,0.734306275844574,0.8628029227256775,0.6798449754714966,0.751814067363739,0.6277185082435608,0.6440690159797668,0.7597619891166687,0.641601026058197,0.721308708190918,0.7724003791809082,0.7492039203643799,0.7977396845817566,0.6524760723114014,0.5012131929397583,0.7141803503036499,0.7335180044174194,0.6229174137115479,0.7392139434814453,0.9046645164489746,0.6029212474822998,0.7977153062820435,0.7952426075935364,0.7514691352844238,0.8500177264213562,0.5520898103713989,0.5110116600990295,0.6696049571037292,0.6813094019889832,0.6899029016494751,0.5880645513534546,0.6732186675071716,0.26551613211631775,0.7241243720054626,0.6369464993476868,0.57429039478302,0.7838678956031799,0.10093121975660324,0.6837435364723206,0.6135719418525696,0.594201385974884,0.6311806440353394,0.6894617080688477,0.709272563457489,0.6918312311172485,0.4663316607475281,0.6689391136169434,0.703585684299469,0.6683861613273621,0.7836172580718994,0.7588983178138733,0.6081528663635254,0.5396766662597656,0.8164252042770386,0.4143159091472626,0.7599663138389587,0.5570870637893677,0.6765293478965759,0.7765560150146484,0.3017091453075409,0.7481388449668884,0.7218832969665527,0.7887780070304871,0.7595518827438354,0.5996209979057312,0.7489392757415771,0.7421483993530273,0.858950138092041,0.6969506144523621,0.5797176361083984,0.7059311270713806,0.6382826566696167,0.6591526865959167,0.45109719038009644,0.2854865491390228,0.7965679168701172,0.7619971632957458,0.5548180341720581,0.6207809448242188,0.6212044954299927,0.7166869044303894,0.5856786966323853,0.32814672589302063,0.7461152076721191,0.37689346075057983,0.7323910593986511,0.5716235041618347,0.5388408303260803,0.7294079661369324,0.776006817817688,0.6479715704917908,0.8107436895370483,0.6554591059684753,0.6250643134117126,0.7360226511955261,0.6624233722686768,0.5131902694702148,0.7445291876792908,0.8158151507377625,0.805761992931366,0.2186570167541504,0.8517014980316162,0.6870547533035278,0.6219484210014343,0.624198853969574,0.7503734827041626,0.7932935357093811,0.8808999061584473,0.6291243433952332,0.7266607284545898,0.7569882273674011,0.8318840265274048,0.776046633720398,0.7260159254074097,0.6883294582366943,0.7305233478546143,0.6424822807312012,0.2934197187423706,0.7964681386947632,0.15365862846374512,0.6999468207359314,0.729276180267334,0.796191394329071,0.7128710150718689,0.6320247054100037,0.7412087321281433,0.7873216867446899,0.7047468423843384,0.7614904642105103,0.7372922897338867,0.7207147479057312,0.8529232740402222,0.5446187257766724,0.21908682584762573,0.7020094990730286,0.7782049179077148,0.6772218942642212,0.7410446405410767,0.731732189655304,0.6691082715988159],\"type\":\"histogram\",\"xaxis\":\"x\",\"yaxis\":\"y\"},{\"bingroup\":\"a\",\"name\":\"Similarity with Mean Embedding of GT Defs\",\"x\":[0.6045522093772888,0.7145201563835144,0.44706958532333374,0.863341212272644,0.875374436378479,0.8095191717147827,0.912808358669281,0.8120808601379395,0.7022327780723572,0.6599899530410767,0.8638253211975098,0.7009721994400024,0.7785302400588989,0.8628309369087219,0.8181912899017334,0.7998224496841431,0.6726373434066772,0.8655999302864075,0.9197714328765869,0.8601477146148682,0.8612014055252075,0.8022444844245911,0.7505196928977966,0.8118896484375,0.7686208486557007,0.8656991124153137,0.8755783438682556,0.8638819456100464,0.8951132893562317,0.716511607170105,0.5680971145629883,0.8511066436767578,0.8260284662246704,0.8388497829437256,0.8626981377601624,0.9659148454666138,0.722104549407959,0.8744257688522339,0.9024269580841064,0.8711430430412292,0.9422823190689087,0.7479833364486694,0.6158104538917542,0.8223719000816345,0.8281519412994385,0.847250759601593,0.7623649835586548,0.7737013697624207,0.3381533622741699,0.8673793077468872,0.7592286467552185,0.6978190541267395,0.8678568601608276,0.12370600551366806,0.8213927745819092,0.7186206579208374,0.7157906293869019,0.7605213522911072,0.8135543465614319,0.7934883832931519,0.8600183725357056,0.5968679189682007,0.7760227918624878,0.8556151390075684,0.8374050855636597,0.8821321725845337,0.8507731556892395,0.6931660175323486,0.6876400709152222,0.9086528420448303,0.4882458448410034,0.8466874361038208,0.6973124742507935,0.8157798051834106,0.9057334065437317,0.346109539270401,0.8371365070343018,0.8189107775688171,0.8811747431755066,0.8595339059829712,0.6771245002746582,0.7990639209747314,0.9038017988204956,0.9499590396881104,0.7835186719894409,0.798776388168335,0.7910726070404053,0.7526894807815552,0.7787129878997803,0.5388122797012329,0.40548110008239746,0.8900545835494995,0.8034383058547974,0.746377170085907,0.7190309762954712,0.729546308517456,0.8377484083175659,0.739868700504303,0.4213031530380249,0.826654314994812,0.4228047728538513,0.8909454345703125,0.7285301685333252,0.6816592216491699,0.910507321357727,0.8943619728088379,0.7587687969207764,0.914825975894928,0.7752002477645874,0.7774184942245483,0.8503576517105103,0.8056901097297668,0.6431387662887573,0.8003300428390503,0.8755233287811279,0.9021952152252197,0.2452138215303421,0.9405301809310913,0.8488738536834717,0.8077239394187927,0.7758197784423828,0.8799335956573486,0.8714451789855957,0.9562331438064575,0.801382303237915,0.8350197076797485,0.8670488595962524,0.9161149263381958,0.8850945234298706,0.8349987268447876,0.7692694664001465,0.8019146919250488,0.7355443239212036,0.33011186122894287,0.8466630578041077,0.17134064435958862,0.7966499328613281,0.8930918574333191,0.8646233081817627,0.8287348747253418,0.7174361944198608,0.9104077219963074,0.8521311283111572,0.9058833718299866,0.8565005660057068,0.8227033615112305,0.8105202913284302,0.9295986890792847,0.6291719675064087,0.29051437973976135,0.8170967698097229,0.8774420022964478,0.8084269165992737,0.8451120853424072,0.9091572761535645,0.8161638975143433],\"type\":\"histogram\",\"xaxis\":\"x2\",\"yaxis\":\"y2\"},{\"bingroup\":\"a\",\"name\":\"Max Similarity with GT Defs\",\"x\":[0.7307618856430054,0.7002841234207153,0.4893059730529785,0.8307116031646729,0.8433981537818909,0.9480631351470947,0.9001990556716919,0.7723321318626404,0.8320682048797607,0.716650128364563,0.8689985275268555,0.7355170249938965,0.8431831002235413,0.8886963129043579,0.8324536085128784,0.8920555114746094,0.7354381084442139,0.8541383743286133,0.904449462890625,0.8263224363327026,0.9384238719940186,0.8482662439346313,0.6890628933906555,0.83296799659729,0.8152359127998352,0.9052572250366211,0.9096747636795044,0.8453353047370911,0.8827869892120361,0.7203201651573181,0.7543981075286865,0.8603678941726685,0.8280035257339478,0.843360185623169,0.8349450826644897,0.9687278270721436,0.7040263414382935,0.8469347953796387,0.8931593894958496,0.8751641511917114,0.9111906886100769,0.8140854835510254,0.7128623723983765,0.8649308085441589,0.7958840131759644,0.8086407780647278,0.701438307762146,0.7932521104812622,0.6175416707992554,0.8216603398323059,0.7475529909133911,0.8552535772323608,0.8714540600776672,0.1347094625234604,0.7787784337997437,0.7536341547966003,0.6981992125511169,0.7960405945777893,0.8938713073730469,0.79685378074646,0.815653920173645,0.6995471715927124,0.7157500386238098,0.8629153370857239,0.8448904752731323,0.8957988023757935,0.8666048645973206,0.6762226819992065,0.7135927081108093,0.9308826327323914,0.5338241457939148,0.8239681720733643,0.7206633687019348,0.8346009254455566,0.8802119493484497,0.4216902256011963,0.8483471870422363,0.7969436645507812,0.8883073329925537,0.834174394607544,0.8319684863090515,0.8246791362762451,0.8806463479995728,0.9270151853561401,0.8355841040611267,0.9173318147659302,0.7747921943664551,0.8008878231048584,0.7783974409103394,0.6191613078117371,0.40106767416000366,0.8650694489479065,0.8052076101303101,0.7112237811088562,0.7317890524864197,0.7663019895553589,0.7676621079444885,0.767599880695343,0.706552267074585,0.7727832794189453,0.42971962690353394,0.8236017227172852,0.6986547708511353,0.7453324794769287,0.8663913011550903,0.8929874897003174,0.7348242998123169,0.8928662538528442,0.7756624221801758,0.876142144203186,0.8266386985778809,0.8806538581848145,0.6406686305999756,0.7801733016967773,0.852658748626709,0.8864140510559082,0.27766138315200806,0.9518276453018188,0.7481887936592102,0.8246423006057739,0.7800844311714172,0.8527194857597351,0.8784558773040771,0.9103425741195679,0.7994648218154907,0.8370989561080933,0.8418260812759399,0.8727279901504517,0.875942587852478,0.780909538269043,0.7619749307632446,0.7925046682357788,0.8231523036956787,0.47273847460746765,0.9503624439239502,0.22297362983226776,0.8441087007522583,0.845355212688446,0.8269262313842773,0.8395456671714783,0.7612178921699524,0.8819833993911743,0.8333221673965454,0.8997051119804382,0.921058177947998,0.894374430179596,0.7790733575820923,0.8889223337173462,0.5774703025817871,0.31397539377212524,0.830962061882019,0.8469547033309937,0.8040409684181213,0.8242489099502563,0.7600474953651428,0.7585494518280029],\"type\":\"histogram\",\"xaxis\":\"x3\",\"yaxis\":\"y3\"},{\"bingroup\":\"a\",\"name\":\"Mean Similarity with Other Words\",\"x\":[0.19313806295394897,0.2068917155265808,0.25859785079956055,0.2075577676296234,0.17361889779567719,0.14545834064483643,0.2353600263595581,0.20719587802886963,0.14464735984802246,0.13782520592212677,0.2443798929452896,0.20495595037937164,0.15962523221969604,0.2172674536705017,0.26493754982948303,0.18428143858909607,0.23377181589603424,0.26849472522735596,0.1262950897216797,0.13867031037807465,0.15967229008674622,0.13404017686843872,0.2823680341243744,0.2511441707611084,0.21998856961727142,0.26562565565109253,0.19954074919223785,0.30857446789741516,0.1402425467967987,0.23629438877105713,0.16304728388786316,0.15994921326637268,0.11577604711055756,0.26064401865005493,0.2176593840122223,0.15549303591251373,0.1648043394088745,0.1672109216451645,0.19894984364509583,0.27931463718414307,0.13824054598808289,0.19385270774364471,0.10999567806720734,0.23265649378299713,0.2479572594165802,0.23005636036396027,0.20170600712299347,0.28974419832229614,0.223988339304924,0.25515320897102356,0.2510070204734802,0.21054776012897491,0.21192818880081177,0.12876226007938385,0.20092715322971344,0.13235077261924744,0.24542711675167084,0.21262024343013763,0.14120782911777496,0.2779764235019684,0.2073480486869812,0.20318730175495148,0.2403944581747055,0.1846085637807846,0.23724757134914398,0.16747929155826569,0.0969679206609726,0.20561470091342926,0.13266132771968842,0.17170779407024384,0.23387831449508667,0.26524531841278076,0.254545122385025,0.2292017936706543,0.18979640305042267,0.19839511811733246,0.18684615194797516,0.1974800080060959,0.2237134575843811,0.18434706330299377,0.2019517421722412,0.24747136235237122,0.22079187631607056,0.2334498018026352,0.20402365922927856,0.20671772956848145,0.24336594343185425,0.20402167737483978,0.22819875180721283,0.2917492687702179,0.25815466046333313,0.2514677047729492,0.20734179019927979,0.2128755748271942,0.2490614652633667,0.22400978207588196,0.25504326820373535,0.1374129354953766,0.1561373770236969,0.265851765871048,0.11741994321346283,0.250257283449173,0.24723446369171143,0.19257643818855286,0.2593176066875458,0.17826351523399353,0.2738587260246277,0.2702503204345703,0.15859366953372955,0.17016582190990448,0.18713507056236267,0.20694957673549652,0.12264509499073029,0.12951189279556274,0.20201466977596283,0.20338189601898193,0.12894710898399353,0.24042470753192902,0.2329210638999939,0.18993782997131348,0.25338295102119446,0.2151229828596115,0.26775896549224854,0.22538922727108002,0.31206628680229187,0.2042444795370102,0.22333210706710815,0.2437109649181366,0.22044534981250763,0.21792231500148773,0.2011004537343979,0.19303783774375916,0.1635337918996811,0.29001370072364807,0.18829874694347382,0.16577734053134918,0.2113243192434311,0.21400345861911774,0.18965932726860046,0.0958465188741684,0.24682234227657318,0.2727072834968567,0.24407413601875305,0.18993596732616425,0.21048155426979065,0.21426978707313538,0.17288123071193695,0.20362940430641174,0.2361835092306137,0.18473339080810547,0.26345062255859375,0.21881651878356934,0.25972145795822144,0.19909311830997467,0.31554341316223145,0.21475468575954437],\"type\":\"histogram\",\"xaxis\":\"x4\",\"yaxis\":\"y4\"},{\"bingroup\":\"a\",\"name\":\"Max Similarity with Other Words\",\"x\":[0.6827907562255859,0.749430775642395,0.7149300575256348,0.7985588312149048,0.5977685451507568,0.6023421287536621,0.6542924642562866,0.5945145487785339,0.676440417766571,0.5455405712127686,0.6646326780319214,0.7530380487442017,0.572681188583374,0.8048844933509827,0.784799337387085,0.5025240778923035,0.7628088593482971,0.8283699750900269,0.6856623888015747,0.48683106899261475,0.5385235548019409,0.481258749961853,0.6892699599266052,0.7220881581306458,0.8143518567085266,0.9082905054092407,0.616765022277832,0.7345255017280579,0.6955376863479614,0.7909073829650879,0.7990719079971313,0.5992156863212585,0.5772745609283447,0.8011193871498108,0.8030633330345154,0.695884108543396,0.6312209367752075,0.5574573278427124,0.6317970752716064,0.9160743951797485,0.7072079181671143,0.722484290599823,0.5457473397254944,0.7537383437156677,0.6474021673202515,0.6890259981155396,0.7402312755584717,0.8007848262786865,0.8322094678878784,0.8188425898551941,0.7417757511138916,0.8432183265686035,0.688657283782959,0.5756002068519592,0.5591248869895935,0.7301891446113586,0.732642412185669,0.8263733386993408,0.6161069273948669,0.6144406795501709,0.6314064264297485,0.695975661277771,0.8421974182128906,0.7535801529884338,0.7756944298744202,0.7087185978889465,0.7660741209983826,0.6708353757858276,0.6186947226524353,0.6931295990943909,0.675285816192627,0.806452214717865,0.8432947397232056,0.741628110408783,0.7159866094589233,0.71004718542099,0.6303625702857971,0.6375224590301514,0.6787184476852417,0.7455410957336426,0.7280959486961365,0.7056453824043274,0.8617764115333557,0.9322676062583923,0.5768122673034668,0.8226863741874695,0.8095405697822571,0.6962413787841797,0.6224002242088318,0.8072865009307861,0.6860823631286621,0.6303898692131042,0.801987886428833,0.654891312122345,0.8555678725242615,0.7317666411399841,0.7954579591751099,0.5761463642120361,0.7861552238464355,0.7627904415130615,0.45387032628059387,0.8299002647399902,0.7075100541114807,0.7253648042678833,0.6984992027282715,0.6311563849449158,0.7885323762893677,0.7641202211380005,0.5410550832748413,0.5568056702613831,0.6567743420600891,0.701633870601654,0.6493602991104126,0.6667710542678833,0.6689958572387695,0.7000541090965271,0.7295974493026733,0.935255765914917,0.61688232421875,0.7503763437271118,0.8945550918579102,0.760456919670105,0.858840823173523,0.8770418167114258,0.7126820683479309,0.6864413022994995,0.6832934617996216,0.8560678958892822,0.7371683120727539,0.6267372369766235,0.6409667730331421,0.5707464218139648,0.5594418048858643,0.6800696849822998,0.485212504863739,0.9009640216827393,0.7091124653816223,0.612014651298523,0.6177396178245544,0.48921388387680054,0.8047045469284058,0.7736661434173584,0.7492349147796631,0.8303185701370239,0.8656166791915894,0.8149069547653198,0.672884464263916,0.8135001063346863,0.7469997406005859,0.7764149904251099,0.7509384155273438,0.7459217309951782,0.7513232231140137,0.7892364263534546,0.687109649181366,0.7308787107467651],\"type\":\"histogram\",\"xaxis\":\"x5\",\"yaxis\":\"y5\"}],                        {\"template\":{\"data\":{\"histogram2dcontour\":[{\"type\":\"histogram2dcontour\",\"colorbar\":{\"outlinewidth\":0,\"ticks\":\"\"},\"colorscale\":[[0.0,\"#0d0887\"],[0.1111111111111111,\"#46039f\"],[0.2222222222222222,\"#7201a8\"],[0.3333333333333333,\"#9c179e\"],[0.4444444444444444,\"#bd3786\"],[0.5555555555555556,\"#d8576b\"],[0.6666666666666666,\"#ed7953\"],[0.7777777777777778,\"#fb9f3a\"],[0.8888888888888888,\"#fdca26\"],[1.0,\"#f0f921\"]]}],\"choropleth\":[{\"type\":\"choropleth\",\"colorbar\":{\"outlinewidth\":0,\"ticks\":\"\"}}],\"histogram2d\":[{\"type\":\"histogram2d\",\"colorbar\":{\"outlinewidth\":0,\"ticks\":\"\"},\"colorscale\":[[0.0,\"#0d0887\"],[0.1111111111111111,\"#46039f\"],[0.2222222222222222,\"#7201a8\"],[0.3333333333333333,\"#9c179e\"],[0.4444444444444444,\"#bd3786\"],[0.5555555555555556,\"#d8576b\"],[0.6666666666666666,\"#ed7953\"],[0.7777777777777778,\"#fb9f3a\"],[0.8888888888888888,\"#fdca26\"],[1.0,\"#f0f921\"]]}],\"heatmap\":[{\"type\":\"heatmap\",\"colorbar\":{\"outlinewidth\":0,\"ticks\":\"\"},\"colorscale\":[[0.0,\"#0d0887\"],[0.1111111111111111,\"#46039f\"],[0.2222222222222222,\"#7201a8\"],[0.3333333333333333,\"#9c179e\"],[0.4444444444444444,\"#bd3786\"],[0.5555555555555556,\"#d8576b\"],[0.6666666666666666,\"#ed7953\"],[0.7777777777777778,\"#fb9f3a\"],[0.8888888888888888,\"#fdca26\"],[1.0,\"#f0f921\"]]}],\"heatmapgl\":[{\"type\":\"heatmapgl\",\"colorbar\":{\"outlinewidth\":0,\"ticks\":\"\"},\"colorscale\":[[0.0,\"#0d0887\"],[0.1111111111111111,\"#46039f\"],[0.2222222222222222,\"#7201a8\"],[0.3333333333333333,\"#9c179e\"],[0.4444444444444444,\"#bd3786\"],[0.5555555555555556,\"#d8576b\"],[0.6666666666666666,\"#ed7953\"],[0.7777777777777778,\"#fb9f3a\"],[0.8888888888888888,\"#fdca26\"],[1.0,\"#f0f921\"]]}],\"contourcarpet\":[{\"type\":\"contourcarpet\",\"colorbar\":{\"outlinewidth\":0,\"ticks\":\"\"}}],\"contour\":[{\"type\":\"contour\",\"colorbar\":{\"outlinewidth\":0,\"ticks\":\"\"},\"colorscale\":[[0.0,\"#0d0887\"],[0.1111111111111111,\"#46039f\"],[0.2222222222222222,\"#7201a8\"],[0.3333333333333333,\"#9c179e\"],[0.4444444444444444,\"#bd3786\"],[0.5555555555555556,\"#d8576b\"],[0.6666666666666666,\"#ed7953\"],[0.7777777777777778,\"#fb9f3a\"],[0.8888888888888888,\"#fdca26\"],[1.0,\"#f0f921\"]]}],\"surface\":[{\"type\":\"surface\",\"colorbar\":{\"outlinewidth\":0,\"ticks\":\"\"},\"colorscale\":[[0.0,\"#0d0887\"],[0.1111111111111111,\"#46039f\"],[0.2222222222222222,\"#7201a8\"],[0.3333333333333333,\"#9c179e\"],[0.4444444444444444,\"#bd3786\"],[0.5555555555555556,\"#d8576b\"],[0.6666666666666666,\"#ed7953\"],[0.7777777777777778,\"#fb9f3a\"],[0.8888888888888888,\"#fdca26\"],[1.0,\"#f0f921\"]]}],\"mesh3d\":[{\"type\":\"mesh3d\",\"colorbar\":{\"outlinewidth\":0,\"ticks\":\"\"}}],\"scatter\":[{\"fillpattern\":{\"fillmode\":\"overlay\",\"size\":10,\"solidity\":0.2},\"type\":\"scatter\"}],\"parcoords\":[{\"type\":\"parcoords\",\"line\":{\"colorbar\":{\"outlinewidth\":0,\"ticks\":\"\"}}}],\"scatterpolargl\":[{\"type\":\"scatterpolargl\",\"marker\":{\"colorbar\":{\"outlinewidth\":0,\"ticks\":\"\"}}}],\"bar\":[{\"error_x\":{\"color\":\"#2a3f5f\"},\"error_y\":{\"color\":\"#2a3f5f\"},\"marker\":{\"line\":{\"color\":\"#E5ECF6\",\"width\":0.5},\"pattern\":{\"fillmode\":\"overlay\",\"size\":10,\"solidity\":0.2}},\"type\":\"bar\"}],\"scattergeo\":[{\"type\":\"scattergeo\",\"marker\":{\"colorbar\":{\"outlinewidth\":0,\"ticks\":\"\"}}}],\"scatterpolar\":[{\"type\":\"scatterpolar\",\"marker\":{\"colorbar\":{\"outlinewidth\":0,\"ticks\":\"\"}}}],\"histogram\":[{\"marker\":{\"pattern\":{\"fillmode\":\"overlay\",\"size\":10,\"solidity\":0.2}},\"type\":\"histogram\"}],\"scattergl\":[{\"type\":\"scattergl\",\"marker\":{\"colorbar\":{\"outlinewidth\":0,\"ticks\":\"\"}}}],\"scatter3d\":[{\"type\":\"scatter3d\",\"line\":{\"colorbar\":{\"outlinewidth\":0,\"ticks\":\"\"}},\"marker\":{\"colorbar\":{\"outlinewidth\":0,\"ticks\":\"\"}}}],\"scattermapbox\":[{\"type\":\"scattermapbox\",\"marker\":{\"colorbar\":{\"outlinewidth\":0,\"ticks\":\"\"}}}],\"scatterternary\":[{\"type\":\"scatterternary\",\"marker\":{\"colorbar\":{\"outlinewidth\":0,\"ticks\":\"\"}}}],\"scattercarpet\":[{\"type\":\"scattercarpet\",\"marker\":{\"colorbar\":{\"outlinewidth\":0,\"ticks\":\"\"}}}],\"carpet\":[{\"aaxis\":{\"endlinecolor\":\"#2a3f5f\",\"gridcolor\":\"white\",\"linecolor\":\"white\",\"minorgridcolor\":\"white\",\"startlinecolor\":\"#2a3f5f\"},\"baxis\":{\"endlinecolor\":\"#2a3f5f\",\"gridcolor\":\"white\",\"linecolor\":\"white\",\"minorgridcolor\":\"white\",\"startlinecolor\":\"#2a3f5f\"},\"type\":\"carpet\"}],\"table\":[{\"cells\":{\"fill\":{\"color\":\"#EBF0F8\"},\"line\":{\"color\":\"white\"}},\"header\":{\"fill\":{\"color\":\"#C8D4E3\"},\"line\":{\"color\":\"white\"}},\"type\":\"table\"}],\"barpolar\":[{\"marker\":{\"line\":{\"color\":\"#E5ECF6\",\"width\":0.5},\"pattern\":{\"fillmode\":\"overlay\",\"size\":10,\"solidity\":0.2}},\"type\":\"barpolar\"}],\"pie\":[{\"automargin\":true,\"type\":\"pie\"}]},\"layout\":{\"autotypenumbers\":\"strict\",\"colorway\":[\"#636efa\",\"#EF553B\",\"#00cc96\",\"#ab63fa\",\"#FFA15A\",\"#19d3f3\",\"#FF6692\",\"#B6E880\",\"#FF97FF\",\"#FECB52\"],\"font\":{\"color\":\"#2a3f5f\"},\"hovermode\":\"closest\",\"hoverlabel\":{\"align\":\"left\"},\"paper_bgcolor\":\"white\",\"plot_bgcolor\":\"#E5ECF6\",\"polar\":{\"bgcolor\":\"#E5ECF6\",\"angularaxis\":{\"gridcolor\":\"white\",\"linecolor\":\"white\",\"ticks\":\"\"},\"radialaxis\":{\"gridcolor\":\"white\",\"linecolor\":\"white\",\"ticks\":\"\"}},\"ternary\":{\"bgcolor\":\"#E5ECF6\",\"aaxis\":{\"gridcolor\":\"white\",\"linecolor\":\"white\",\"ticks\":\"\"},\"baxis\":{\"gridcolor\":\"white\",\"linecolor\":\"white\",\"ticks\":\"\"},\"caxis\":{\"gridcolor\":\"white\",\"linecolor\":\"white\",\"ticks\":\"\"}},\"coloraxis\":{\"colorbar\":{\"outlinewidth\":0,\"ticks\":\"\"}},\"colorscale\":{\"sequential\":[[0.0,\"#0d0887\"],[0.1111111111111111,\"#46039f\"],[0.2222222222222222,\"#7201a8\"],[0.3333333333333333,\"#9c179e\"],[0.4444444444444444,\"#bd3786\"],[0.5555555555555556,\"#d8576b\"],[0.6666666666666666,\"#ed7953\"],[0.7777777777777778,\"#fb9f3a\"],[0.8888888888888888,\"#fdca26\"],[1.0,\"#f0f921\"]],\"sequentialminus\":[[0.0,\"#0d0887\"],[0.1111111111111111,\"#46039f\"],[0.2222222222222222,\"#7201a8\"],[0.3333333333333333,\"#9c179e\"],[0.4444444444444444,\"#bd3786\"],[0.5555555555555556,\"#d8576b\"],[0.6666666666666666,\"#ed7953\"],[0.7777777777777778,\"#fb9f3a\"],[0.8888888888888888,\"#fdca26\"],[1.0,\"#f0f921\"]],\"diverging\":[[0,\"#8e0152\"],[0.1,\"#c51b7d\"],[0.2,\"#de77ae\"],[0.3,\"#f1b6da\"],[0.4,\"#fde0ef\"],[0.5,\"#f7f7f7\"],[0.6,\"#e6f5d0\"],[0.7,\"#b8e186\"],[0.8,\"#7fbc41\"],[0.9,\"#4d9221\"],[1,\"#276419\"]]},\"xaxis\":{\"gridcolor\":\"white\",\"linecolor\":\"white\",\"ticks\":\"\",\"title\":{\"standoff\":15},\"zerolinecolor\":\"white\",\"automargin\":true,\"zerolinewidth\":2},\"yaxis\":{\"gridcolor\":\"white\",\"linecolor\":\"white\",\"ticks\":\"\",\"title\":{\"standoff\":15},\"zerolinecolor\":\"white\",\"automargin\":true,\"zerolinewidth\":2},\"scene\":{\"xaxis\":{\"backgroundcolor\":\"#E5ECF6\",\"gridcolor\":\"white\",\"linecolor\":\"white\",\"showbackground\":true,\"ticks\":\"\",\"zerolinecolor\":\"white\",\"gridwidth\":2},\"yaxis\":{\"backgroundcolor\":\"#E5ECF6\",\"gridcolor\":\"white\",\"linecolor\":\"white\",\"showbackground\":true,\"ticks\":\"\",\"zerolinecolor\":\"white\",\"gridwidth\":2},\"zaxis\":{\"backgroundcolor\":\"#E5ECF6\",\"gridcolor\":\"white\",\"linecolor\":\"white\",\"showbackground\":true,\"ticks\":\"\",\"zerolinecolor\":\"white\",\"gridwidth\":2}},\"shapedefaults\":{\"line\":{\"color\":\"#2a3f5f\"}},\"annotationdefaults\":{\"arrowcolor\":\"#2a3f5f\",\"arrowhead\":0,\"arrowwidth\":1},\"geo\":{\"bgcolor\":\"white\",\"landcolor\":\"#E5ECF6\",\"subunitcolor\":\"white\",\"showland\":true,\"showlakes\":true,\"lakecolor\":\"white\"},\"title\":{\"x\":0.05},\"mapbox\":{\"style\":\"light\"}}},\"xaxis\":{\"anchor\":\"y\",\"domain\":[0.0,0.2888888888888889],\"title\":{\"text\":\"Similarity Score\"},\"range\":[0,1]},\"yaxis\":{\"anchor\":\"x\",\"domain\":[0.625,1.0],\"title\":{\"text\":\"Count\"}},\"xaxis2\":{\"anchor\":\"y2\",\"domain\":[0.35555555555555557,0.6444444444444445],\"title\":{\"text\":\"Similarity Score\"},\"range\":[0,1]},\"yaxis2\":{\"anchor\":\"x2\",\"domain\":[0.625,1.0],\"title\":{\"text\":\"Count\"}},\"xaxis3\":{\"anchor\":\"y3\",\"domain\":[0.7111111111111111,1.0],\"title\":{\"text\":\"Similarity Score\"},\"range\":[0,1]},\"yaxis3\":{\"anchor\":\"x3\",\"domain\":[0.625,1.0],\"title\":{\"text\":\"Count\"}},\"xaxis4\":{\"anchor\":\"y4\",\"domain\":[0.0,0.2888888888888889],\"title\":{\"text\":\"Similarity Score\"},\"range\":[0,1]},\"yaxis4\":{\"anchor\":\"x4\",\"domain\":[0.0,0.375],\"title\":{\"text\":\"Count\"}},\"xaxis5\":{\"anchor\":\"y5\",\"domain\":[0.35555555555555557,0.6444444444444445],\"title\":{\"text\":\"Similarity Score\"},\"range\":[0,1]},\"yaxis5\":{\"anchor\":\"x5\",\"domain\":[0.0,0.375],\"title\":{\"text\":\"Count\"}},\"xaxis6\":{\"anchor\":\"y6\",\"domain\":[0.7111111111111111,1.0]},\"yaxis6\":{\"anchor\":\"x6\",\"domain\":[0.0,0.375]},\"annotations\":[{\"font\":{\"size\":16},\"showarrow\":false,\"text\":\"Mean Similarity with GT Defs\",\"x\":0.14444444444444446,\"xanchor\":\"center\",\"xref\":\"paper\",\"y\":1.0,\"yanchor\":\"bottom\",\"yref\":\"paper\"},{\"font\":{\"size\":16},\"showarrow\":false,\"text\":\"Similarity with Mean Embedding of GT Defs\",\"x\":0.5,\"xanchor\":\"center\",\"xref\":\"paper\",\"y\":1.0,\"yanchor\":\"bottom\",\"yref\":\"paper\"},{\"font\":{\"size\":16},\"showarrow\":false,\"text\":\"Max Similarity with GT Defs\",\"x\":0.8555555555555556,\"xanchor\":\"center\",\"xref\":\"paper\",\"y\":1.0,\"yanchor\":\"bottom\",\"yref\":\"paper\"},{\"font\":{\"size\":16},\"showarrow\":false,\"text\":\"Mean Similarity with Other Words\",\"x\":0.14444444444444446,\"xanchor\":\"center\",\"xref\":\"paper\",\"y\":0.375,\"yanchor\":\"bottom\",\"yref\":\"paper\"},{\"font\":{\"size\":16},\"showarrow\":false,\"text\":\"Max Similarity with Other Words\",\"x\":0.5,\"xanchor\":\"center\",\"xref\":\"paper\",\"y\":0.375,\"yanchor\":\"bottom\",\"yref\":\"paper\"}],\"title\":{\"text\":\"Definition Embedding Comparison Metrics - Patching mean representation from definitions\"},\"showlegend\":false,\"height\":800,\"width\":1200},                        {\"responsive\": true}                    ).then(function(){\n",
       "                            \n",
       "var gd = document.getElementById('76b1e184-8a2a-41b1-8cce-567def276f67');\n",
       "var x = new MutationObserver(function (mutations, observer) {{\n",
       "        var display = window.getComputedStyle(gd).display;\n",
       "        if (!display || display === 'none') {{\n",
       "            console.log([gd, 'removed!']);\n",
       "            Plotly.purge(gd);\n",
       "            observer.disconnect();\n",
       "        }}\n",
       "}});\n",
       "\n",
       "// Listen for the removal of the full notebook cells\n",
       "var notebookContainer = gd.closest('#notebook-container');\n",
       "if (notebookContainer) {{\n",
       "    x.observe(notebookContainer, {childList: true});\n",
       "}}\n",
       "\n",
       "// Listen for the clearing of the current output cell\n",
       "var outputEl = gd.closest('.output');\n",
       "if (outputEl) {{\n",
       "    x.observe(outputEl, {childList: true});\n",
       "}}\n",
       "\n",
       "                        })                };                });            </script>        </div>"
      ]
     },
     "metadata": {},
     "output_type": "display_data"
    },
    {
     "data": {
      "application/vnd.plotly.v1+json": {
       "config": {
        "plotlyServerURL": "https://plot.ly"
       },
       "data": [
        {
         "bingroup": "a",
         "name": "Mean Similarity with GT Defs",
         "type": "histogram",
         "x": [
          0.4994657337665558,
          0.5190544128417969,
          0.6843677759170532,
          0.7524450421333313,
          0.638852596282959,
          0.7110140323638916,
          0.6107227802276611,
          0.6172800660133362,
          0.6391171813011169,
          0.7148054838180542,
          0.37951862812042236,
          0.7724844217300415,
          0.7400685548782349,
          0.7340483069419861,
          0.6901137232780457,
          0.6776431798934937,
          0.8087537288665771,
          0.7079479694366455,
          0.8986377120018005,
          0.30276551842689514,
          0.7368934154510498,
          0.5544751286506653,
          0.6879547238349915,
          0.7102519869804382,
          0.5919782519340515,
          0.7481781840324402,
          0.7547454833984375,
          0.7042664885520935,
          0.8092542886734009,
          0.7791367769241333,
          0.6243585348129272,
          0.5123052597045898,
          0.7455213069915771,
          0.24443557858467102,
          0.7614588737487793,
          0.8877501487731934,
          0.5243960618972778,
          0.7794762253761292,
          0.8059632182121277,
          0.7328671216964722,
          0.5888018608093262,
          0.5999084115028381,
          0.578589677810669,
          0.7536442279815674,
          0.6819540858268738,
          0.678363025188446,
          0.5938662886619568,
          0.6579433679580688,
          0.4474632441997528,
          0.6429274082183838,
          0.7023504376411438,
          0.6782345771789551,
          0.7894758582115173,
          0.6727615594863892,
          0.7445961236953735,
          0.7269754409790039,
          0.6581664085388184,
          0.6549007296562195,
          0.7828640937805176,
          0.7114066481590271,
          0.6773752570152283,
          0.44507887959480286,
          0.7071276903152466,
          0.7321233749389648,
          0.744896411895752,
          0.7834922671318054,
          0.8047520518302917,
          0.765466570854187,
          0.5329117178916931,
          0.8025254011154175,
          0.45618313550949097,
          0.3043501675128937,
          0.5267463326454163,
          0.6826921701431274,
          0.7874240875244141,
          0.7229686975479126,
          0.781989574432373,
          0.7386379241943359,
          0.7202467918395996,
          0.8018092513084412,
          0.8080033659934998,
          0.6800519227981567,
          0.7509090304374695,
          0.8471197485923767,
          0.7454240322113037,
          0.5911106467247009,
          0.2827530801296234,
          0.5822885632514954,
          0.7507399320602417,
          0.22398528456687927,
          0.3279678523540497,
          0.7667967677116394,
          0.8002477288246155,
          0.6426537036895752,
          0.7465673685073853,
          0.7605689764022827,
          0.26516422629356384,
          0.6229880452156067,
          0.6011549234390259,
          0.7872047424316406,
          0.7490085363388062,
          0.6589503288269043,
          0.5226055979728699,
          0.474850058555603,
          0.7354575395584106,
          0.7433719635009766,
          0.6473912596702576,
          0.7493904232978821,
          0.6980218887329102,
          0.6319559216499329,
          0.7533759474754333,
          0.6242887377738953,
          0.4055807888507843,
          0.8640719056129456,
          0.7942953109741211,
          0.8446924686431885,
          0.7633969783782959,
          0.848362386226654,
          0.5284282565116882,
          0.5775032639503479,
          0.6919988989830017,
          0.7873594164848328,
          0.8032090067863464,
          0.8278741836547852,
          0.6936625838279724,
          0.7523512840270996,
          0.6162794828414917,
          0.8168186545372009,
          0.7925103902816772,
          0.15372562408447266,
          0.7552127838134766,
          0.31526461243629456,
          0.7598776817321777,
          0.7522621154785156,
          0.8848172426223755,
          0.7795976996421814,
          0.8021643757820129,
          0.6815770268440247,
          0.7779819369316101,
          0.7272427678108215,
          0.43905964493751526,
          0.7201849818229675,
          0.5857611894607544,
          0.6793020963668823,
          0.7634159326553345,
          0.7355162501335144,
          0.6824315190315247,
          0.8183897733688354,
          0.63361656665802,
          0.6029882431030273,
          0.33788952231407166,
          0.1251111626625061,
          0.6702961325645447,
          0.5824667811393738,
          0.6481632590293884,
          0.6862224340438843
         ],
         "xaxis": "x",
         "yaxis": "y"
        },
        {
         "bingroup": "a",
         "name": "Similarity with Mean Embedding of GT Defs",
         "type": "histogram",
         "x": [
          0.601791501045227,
          0.5940824151039124,
          0.84563148021698,
          0.8472137451171875,
          0.8442835807800293,
          0.8095191717147827,
          0.7161899209022522,
          0.7543222904205322,
          0.692945122718811,
          0.8406631946563721,
          0.4277513027191162,
          0.8665021657943726,
          0.8740570545196533,
          0.8589322566986084,
          0.8433566093444824,
          0.8311235308647156,
          0.920346736907959,
          0.8347588777542114,
          0.9585686922073364,
          0.3843345046043396,
          0.8443915843963623,
          0.7077773809432983,
          0.803027868270874,
          0.7589959502220154,
          0.7100259065628052,
          0.8982498645782471,
          0.8589114546775818,
          0.8116230964660645,
          0.9078894257545471,
          0.8567907214164734,
          0.7075070142745972,
          0.6094290614128113,
          0.8395407795906067,
          0.3273247182369232,
          0.8891136050224304,
          0.948235273361206,
          0.6299988031387329,
          0.8543859720230103,
          0.9152758121490479,
          0.8509626388549805,
          0.6519414782524109,
          0.8115820288658142,
          0.6964870095252991,
          0.92254638671875,
          0.8289521932601929,
          0.8328834772109985,
          0.7707898616790771,
          0.7565275430679321,
          0.5672369599342346,
          0.7721484899520874,
          0.8345502614974976,
          0.8260457515716553,
          0.8739132881164551,
          0.823519229888916,
          0.8945715427398682,
          0.850236177444458,
          0.792932391166687,
          0.7889870405197144,
          0.9159300327301025,
          0.7948676347732544,
          0.8442826271057129,
          0.5744937658309937,
          0.820517897605896,
          0.8906785845756531,
          0.9333564639091492,
          0.8824170827865601,
          0.9013241529464722,
          0.8718777298927307,
          0.6703815460205078,
          0.8931124210357666,
          0.5368639230728149,
          0.3394196331501007,
          0.6600650548934937,
          0.823832094669342,
          0.9183712005615234,
          0.8307850360870361,
          0.8741236329078674,
          0.8378143906593323,
          0.8049153685569763,
          0.9074037075042725,
          0.9108597040176392,
          0.7252591848373413,
          0.9140385389328003,
          0.9366607069969177,
          0.8382556438446045,
          0.8048669099807739,
          0.31662964820861816,
          0.6871470212936401,
          0.8864402770996094,
          0.2681125998497009,
          0.4659464359283447,
          0.8558133840560913,
          0.8432629108428955,
          0.8593653440475464,
          0.8660410642623901,
          0.9020312428474426,
          0.310672789812088,
          0.7873435616493225,
          0.7678826451301575,
          0.8724787831306458,
          0.840866208076477,
          0.8029971122741699,
          0.6628861427307129,
          0.5979975461959839,
          0.9186042547225952,
          0.8564220070838928,
          0.7580030560493469,
          0.8452880382537842,
          0.8262524008750916,
          0.7859275341033936,
          0.8683538436889648,
          0.759223222732544,
          0.5087724924087524,
          0.9305958151817322,
          0.8519914150238037,
          0.9465740919113159,
          0.8548234701156616,
          0.9358848929405212,
          0.662365734577179,
          0.7514219284057617,
          0.8627275228500366,
          0.9241483807563782,
          0.8826861381530762,
          0.8990996479988098,
          0.8815888166427612,
          0.86409592628479,
          0.70384681224823,
          0.899293065071106,
          0.9035528898239136,
          0.17583975195884705,
          0.8434845209121704,
          0.34476935863494873,
          0.8682823181152344,
          0.845682680606842,
          0.9421225190162659,
          0.8650721311569214,
          0.9126721620559692,
          0.8320955038070679,
          0.8445234298706055,
          0.8455226421356201,
          0.49711471796035767,
          0.8860505223274231,
          0.6343998908996582,
          0.8831720352172852,
          0.859950065612793,
          0.8217892646789551,
          0.7681353092193604,
          0.8922543525695801,
          0.732897162437439,
          0.8082813024520874,
          0.3931008577346802,
          0.14102724194526672,
          0.7999181747436523,
          0.6610075235366821,
          0.8036950826644897,
          0.836604118347168
         ],
         "xaxis": "x2",
         "yaxis": "y2"
        },
        {
         "bingroup": "a",
         "name": "Max Similarity with GT Defs",
         "type": "histogram",
         "x": [
          0.7531472444534302,
          0.6326572895050049,
          0.8918389081954956,
          0.8137640953063965,
          0.884871244430542,
          0.9480631351470947,
          0.7404939532279968,
          0.7491969466209412,
          0.9206492900848389,
          0.780569314956665,
          0.4386175274848938,
          0.8536471128463745,
          0.8081386089324951,
          0.8991838693618774,
          0.7963792085647583,
          0.8274247646331787,
          0.9212695360183716,
          0.792458176612854,
          0.9842453002929688,
          0.38866984844207764,
          0.8991029858589172,
          0.7038378119468689,
          0.8677730560302734,
          0.7780876159667969,
          0.7371165752410889,
          0.9499138593673706,
          0.931490421295166,
          0.7964675426483154,
          0.8897495865821838,
          0.8919941186904907,
          0.751257061958313,
          0.6408110857009888,
          0.8375434279441833,
          0.5077311992645264,
          0.8769247531890869,
          0.9615442752838135,
          0.6141254901885986,
          0.8511301279067993,
          0.8641856908798218,
          0.8198469877243042,
          0.6472078561782837,
          0.8980212211608887,
          0.7259910702705383,
          0.8852558135986328,
          0.8402965068817139,
          0.7947566509246826,
          0.7629782557487488,
          0.7841778993606567,
          0.8143163919448853,
          0.8556517362594604,
          0.9003397226333618,
          0.7441519498825073,
          0.8628330230712891,
          1.0000001192092896,
          0.8757762312889099,
          0.8803603649139404,
          0.8085365891456604,
          0.78401780128479,
          0.9490483403205872,
          0.793174684047699,
          0.8840276002883911,
          0.8010003566741943,
          0.8062601089477539,
          0.9094905257225037,
          0.9536228179931641,
          0.860545814037323,
          0.9657292366027832,
          0.8550136089324951,
          0.7387213706970215,
          0.8516069650650024,
          0.5471575260162354,
          0.34847795963287354,
          0.6856483817100525,
          0.88813316822052,
          0.8792295455932617,
          0.8712503910064697,
          0.8615986108779907,
          0.81438148021698,
          0.7991089820861816,
          0.9192525744438171,
          0.890789270401001,
          0.7187858819961548,
          0.8818445205688477,
          0.9381611943244934,
          0.804232656955719,
          0.8820784687995911,
          0.3352184593677521,
          0.6901190280914307,
          0.8519690036773682,
          0.3529307246208191,
          0.5296138525009155,
          0.7977243661880493,
          0.8616023063659668,
          0.8387362957000732,
          0.919607400894165,
          0.9052550792694092,
          0.40210914611816406,
          0.8520336747169495,
          0.9701579213142395,
          0.8087019920349121,
          0.855023980140686,
          0.7787942886352539,
          0.7405988574028015,
          0.6182687878608704,
          0.8873105049133301,
          0.841103196144104,
          0.7678481340408325,
          0.8060973882675171,
          0.8251818418502808,
          0.8770579695701599,
          0.9198178052902222,
          0.8314107656478882,
          0.49809086322784424,
          0.9321469068527222,
          0.8728562593460083,
          0.9681398868560791,
          0.8646301031112671,
          0.8932226896286011,
          0.7410345077514648,
          0.7830483317375183,
          0.8474118113517761,
          0.8890478014945984,
          0.8754161596298218,
          0.8745619654655457,
          0.8255343437194824,
          0.9121860861778259,
          0.7583333253860474,
          0.8848191499710083,
          0.9291449785232544,
          0.2637884318828583,
          0.8475711345672607,
          0.38144853711128235,
          0.8176246881484985,
          0.8490052819252014,
          0.9399591684341431,
          0.8561718463897705,
          0.9821288585662842,
          0.8181453943252563,
          0.8294024467468262,
          0.8588871955871582,
          0.48786991834640503,
          0.8959195613861084,
          0.6975871920585632,
          0.9905689358711243,
          0.911910355091095,
          0.8015387654304504,
          0.9471027851104736,
          0.8671441078186035,
          0.7155846357345581,
          0.7967604398727417,
          0.41074061393737793,
          0.19883884489536285,
          0.7575092315673828,
          0.6447151899337769,
          0.6843737363815308,
          0.8188676238059998
         ],
         "xaxis": "x3",
         "yaxis": "y3"
        },
        {
         "bingroup": "a",
         "name": "Mean Similarity with Other Words",
         "type": "histogram",
         "x": [
          0.17458152770996094,
          0.237664133310318,
          0.22021539509296417,
          0.25326791405677795,
          0.11323422193527222,
          0.14545834064483643,
          0.20566603541374207,
          0.26402947306632996,
          0.15061114728450775,
          0.19176271557807922,
          0.2586841583251953,
          0.20251402258872986,
          0.14701706171035767,
          0.20192301273345947,
          0.2738289535045624,
          0.22621092200279236,
          0.258108913898468,
          0.2554302513599396,
          0.09400444477796555,
          0.2690998613834381,
          0.22123026847839355,
          0.13188375532627106,
          0.20373021066188812,
          0.24748452007770538,
          0.18897680938243866,
          0.27602243423461914,
          0.1970963180065155,
          0.3253466784954071,
          0.12748147547245026,
          0.24607832729816437,
          0.24275511503219604,
          0.22039227187633514,
          0.11965026706457138,
          0.2106977105140686,
          0.23047339916229248,
          0.1700536012649536,
          0.19668179750442505,
          0.2177267074584961,
          0.19503620266914368,
          0.25792455673217773,
          0.0650392472743988,
          0.2461944967508316,
          0.15377897024154663,
          0.2791501581668854,
          0.2784327268600464,
          0.24474160373210907,
          0.19572517275810242,
          0.23894767463207245,
          0.2372758686542511,
          0.231855109333992,
          0.2927747368812561,
          0.21365278959274292,
          0.18482433259487152,
          0.1466035544872284,
          0.22072383761405945,
          0.18394003808498383,
          0.2756807804107666,
          0.20971617102622986,
          0.17544354498386383,
          0.28343769907951355,
          0.18874141573905945,
          0.22954075038433075,
          0.29637080430984497,
          0.1564321219921112,
          0.28252214193344116,
          0.20899146795272827,
          0.1397296041250229,
          0.2540997862815857,
          0.18687930703163147,
          0.18448232114315033,
          0.25259172916412354,
          0.31339165568351746,
          0.2739108204841614,
          0.21326090395450592,
          0.20715251564979553,
          0.1843910813331604,
          0.1871131807565689,
          0.19417907297611237,
          0.2212998867034912,
          0.2052510529756546,
          0.20000018179416656,
          0.25868120789527893,
          0.21495890617370605,
          0.23049968481063843,
          0.178423672914505,
          0.22804081439971924,
          0.3264150619506836,
          0.23848126828670502,
          0.19097641110420227,
          0.19230963289737701,
          0.213889479637146,
          0.27181604504585266,
          0.19923093914985657,
          0.30670225620269775,
          0.26448991894721985,
          0.23552966117858887,
          0.20143166184425354,
          0.1687203347682953,
          0.1687801629304886,
          0.253246933221817,
          0.2294851690530777,
          0.25435692071914673,
          0.1597040444612503,
          0.2017899453639984,
          0.2792746424674988,
          0.17078416049480438,
          0.20374387502670288,
          0.2744234502315521,
          0.21209508180618286,
          0.19236965477466583,
          0.17379073798656464,
          0.22094355523586273,
          0.2244848906993866,
          0.1570386290550232,
          0.26199108362197876,
          0.1723325550556183,
          0.14826910197734833,
          0.24651272594928741,
          0.20847195386886597,
          0.13629859685897827,
          0.28350844979286194,
          0.2186705321073532,
          0.27348291873931885,
          0.2521018981933594,
          0.2532449960708618,
          0.21521882712841034,
          0.22513212263584137,
          0.2668253779411316,
          0.2701169550418854,
          0.27429646253585815,
          0.2216334044933319,
          0.2687760293483734,
          0.1899629384279251,
          0.23863717913627625,
          0.22314810752868652,
          0.2794386148452759,
          0.17797601222991943,
          0.18436264991760254,
          0.18107615411281586,
          0.10180108994245529,
          0.25339946150779724,
          0.24603894352912903,
          0.268248975276947,
          0.17993098497390747,
          0.18728254735469818,
          0.2539931535720825,
          0.12501955032348633,
          0.19231176376342773,
          0.22160093486309052,
          0.28678232431411743,
          0.23372073471546173,
          0.11381129175424576,
          0.23341479897499084,
          0.2952485978603363,
          0.33191484212875366,
          0.27291667461395264
         ],
         "xaxis": "x4",
         "yaxis": "y4"
        },
        {
         "bingroup": "a",
         "name": "Max Similarity with Other Words",
         "type": "histogram",
         "x": [
          0.6764939427375793,
          0.7169140577316284,
          0.6483211517333984,
          0.671075165271759,
          0.45093443989753723,
          0.6023421287536621,
          0.5834015011787415,
          0.8077923059463501,
          0.6578575968742371,
          0.6636913418769836,
          0.9085128307342529,
          0.6872366070747375,
          0.6403387188911438,
          0.898779034614563,
          0.7432247996330261,
          0.6293125748634338,
          0.8609532117843628,
          0.8444545269012451,
          0.7739295959472656,
          0.718315601348877,
          0.6922630071640015,
          0.5514281988143921,
          0.6675740480422974,
          0.7533954977989197,
          0.7619315981864929,
          0.9092386364936829,
          0.5902807116508484,
          0.7662580013275146,
          0.6538118124008179,
          0.8065618276596069,
          0.7542513608932495,
          0.5364927649497986,
          0.6248137950897217,
          0.8384640216827393,
          0.8199000358581543,
          0.7302412390708923,
          0.5436297655105591,
          0.6323977112770081,
          0.7040994763374329,
          0.8560210466384888,
          0.6346521973609924,
          0.8120806217193604,
          0.7508872151374817,
          0.9269298911094666,
          0.6752002239227295,
          0.7463301420211792,
          0.6739552021026611,
          0.6731454730033875,
          0.7562173008918762,
          0.6448949575424194,
          0.7777236104011536,
          0.6468174457550049,
          0.6123074293136597,
          0.7597308158874512,
          0.648239016532898,
          0.7238632440567017,
          0.631458580493927,
          0.8064982891082764,
          0.640752911567688,
          0.5724952816963196,
          0.5843029022216797,
          0.8729053139686584,
          0.7569330930709839,
          0.7592450380325317,
          0.7268452644348145,
          0.7062764167785645,
          0.8119659423828125,
          0.7696809768676758,
          0.6615244150161743,
          0.7234519124031067,
          0.7886093854904175,
          1,
          0.8053013682365417,
          0.729394793510437,
          0.7413127422332764,
          0.5592067837715149,
          0.5221185684204102,
          0.7514651417732239,
          0.6425796747207642,
          0.8147899508476257,
          0.7209147214889526,
          0.6966561675071716,
          0.8656388521194458,
          0.9498152136802673,
          0.6454411149024963,
          0.7319419980049133,
          0.7544516921043396,
          0.7159289717674255,
          0.7918487191200256,
          0.7773597240447998,
          0.5197187662124634,
          0.6183882355690002,
          0.7288529276847839,
          0.7152142524719238,
          0.6991469264030457,
          0.7240902781486511,
          0.7655031681060791,
          0.6766390800476074,
          0.5002927780151367,
          0.8528699278831482,
          0.797803521156311,
          0.7397674322128296,
          0.4943963885307312,
          0.8142383098602295,
          0.7657403349876404,
          0.6174357533454895,
          0.6062132716178894,
          0.7218462228775024,
          0.6336919069290161,
          0.5459012389183044,
          0.6368741989135742,
          0.7014796733856201,
          0.7553631067276001,
          0.6305269598960876,
          0.6841214895248413,
          0.7586088180541992,
          0.5334703922271729,
          0.8955399394035339,
          0.5821194648742676,
          0.6724646091461182,
          0.7058008909225464,
          0.8885450959205627,
          0.8199030756950378,
          0.8097901344299316,
          0.6713542938232422,
          0.7039974927902222,
          0.7463474273681641,
          0.8763879537582397,
          0.834043025970459,
          0.9999995231628418,
          0.7367238998413086,
          1.000000238418579,
          0.5624665021896362,
          0.7007459402084351,
          0.6090736389160156,
          0.915261447429657,
          0.6748892068862915,
          0.4952097535133362,
          0.6237471103668213,
          0.5024630427360535,
          0.616420567035675,
          0.707587718963623,
          0.7039632797241211,
          0.7674444913864136,
          0.6551003456115723,
          0.7065123915672302,
          0.6962865591049194,
          0.8036720752716064,
          0.7837830781936646,
          0.7922227382659912,
          1.0000003576278687,
          0.43535470962524414,
          0.729030966758728,
          0.6909928321838379,
          0.709618330001831,
          0.7465853691101074
         ],
         "xaxis": "x5",
         "yaxis": "y5"
        }
       ],
       "layout": {
        "annotations": [
         {
          "font": {
           "size": 16
          },
          "showarrow": false,
          "text": "Mean Similarity with GT Defs",
          "x": 0.14444444444444446,
          "xanchor": "center",
          "xref": "paper",
          "y": 1,
          "yanchor": "bottom",
          "yref": "paper"
         },
         {
          "font": {
           "size": 16
          },
          "showarrow": false,
          "text": "Similarity with Mean Embedding of GT Defs",
          "x": 0.5,
          "xanchor": "center",
          "xref": "paper",
          "y": 1,
          "yanchor": "bottom",
          "yref": "paper"
         },
         {
          "font": {
           "size": 16
          },
          "showarrow": false,
          "text": "Max Similarity with GT Defs",
          "x": 0.8555555555555556,
          "xanchor": "center",
          "xref": "paper",
          "y": 1,
          "yanchor": "bottom",
          "yref": "paper"
         },
         {
          "font": {
           "size": 16
          },
          "showarrow": false,
          "text": "Mean Similarity with Other Words",
          "x": 0.14444444444444446,
          "xanchor": "center",
          "xref": "paper",
          "y": 0.375,
          "yanchor": "bottom",
          "yref": "paper"
         },
         {
          "font": {
           "size": 16
          },
          "showarrow": false,
          "text": "Max Similarity with Other Words",
          "x": 0.5,
          "xanchor": "center",
          "xref": "paper",
          "y": 0.375,
          "yanchor": "bottom",
          "yref": "paper"
         }
        ],
        "height": 800,
        "showlegend": false,
        "template": {
         "data": {
          "bar": [
           {
            "error_x": {
             "color": "#2a3f5f"
            },
            "error_y": {
             "color": "#2a3f5f"
            },
            "marker": {
             "line": {
              "color": "#E5ECF6",
              "width": 0.5
             },
             "pattern": {
              "fillmode": "overlay",
              "size": 10,
              "solidity": 0.2
             }
            },
            "type": "bar"
           }
          ],
          "barpolar": [
           {
            "marker": {
             "line": {
              "color": "#E5ECF6",
              "width": 0.5
             },
             "pattern": {
              "fillmode": "overlay",
              "size": 10,
              "solidity": 0.2
             }
            },
            "type": "barpolar"
           }
          ],
          "carpet": [
           {
            "aaxis": {
             "endlinecolor": "#2a3f5f",
             "gridcolor": "white",
             "linecolor": "white",
             "minorgridcolor": "white",
             "startlinecolor": "#2a3f5f"
            },
            "baxis": {
             "endlinecolor": "#2a3f5f",
             "gridcolor": "white",
             "linecolor": "white",
             "minorgridcolor": "white",
             "startlinecolor": "#2a3f5f"
            },
            "type": "carpet"
           }
          ],
          "choropleth": [
           {
            "colorbar": {
             "outlinewidth": 0,
             "ticks": ""
            },
            "type": "choropleth"
           }
          ],
          "contour": [
           {
            "colorbar": {
             "outlinewidth": 0,
             "ticks": ""
            },
            "colorscale": [
             [
              0,
              "#0d0887"
             ],
             [
              0.1111111111111111,
              "#46039f"
             ],
             [
              0.2222222222222222,
              "#7201a8"
             ],
             [
              0.3333333333333333,
              "#9c179e"
             ],
             [
              0.4444444444444444,
              "#bd3786"
             ],
             [
              0.5555555555555556,
              "#d8576b"
             ],
             [
              0.6666666666666666,
              "#ed7953"
             ],
             [
              0.7777777777777778,
              "#fb9f3a"
             ],
             [
              0.8888888888888888,
              "#fdca26"
             ],
             [
              1,
              "#f0f921"
             ]
            ],
            "type": "contour"
           }
          ],
          "contourcarpet": [
           {
            "colorbar": {
             "outlinewidth": 0,
             "ticks": ""
            },
            "type": "contourcarpet"
           }
          ],
          "heatmap": [
           {
            "colorbar": {
             "outlinewidth": 0,
             "ticks": ""
            },
            "colorscale": [
             [
              0,
              "#0d0887"
             ],
             [
              0.1111111111111111,
              "#46039f"
             ],
             [
              0.2222222222222222,
              "#7201a8"
             ],
             [
              0.3333333333333333,
              "#9c179e"
             ],
             [
              0.4444444444444444,
              "#bd3786"
             ],
             [
              0.5555555555555556,
              "#d8576b"
             ],
             [
              0.6666666666666666,
              "#ed7953"
             ],
             [
              0.7777777777777778,
              "#fb9f3a"
             ],
             [
              0.8888888888888888,
              "#fdca26"
             ],
             [
              1,
              "#f0f921"
             ]
            ],
            "type": "heatmap"
           }
          ],
          "heatmapgl": [
           {
            "colorbar": {
             "outlinewidth": 0,
             "ticks": ""
            },
            "colorscale": [
             [
              0,
              "#0d0887"
             ],
             [
              0.1111111111111111,
              "#46039f"
             ],
             [
              0.2222222222222222,
              "#7201a8"
             ],
             [
              0.3333333333333333,
              "#9c179e"
             ],
             [
              0.4444444444444444,
              "#bd3786"
             ],
             [
              0.5555555555555556,
              "#d8576b"
             ],
             [
              0.6666666666666666,
              "#ed7953"
             ],
             [
              0.7777777777777778,
              "#fb9f3a"
             ],
             [
              0.8888888888888888,
              "#fdca26"
             ],
             [
              1,
              "#f0f921"
             ]
            ],
            "type": "heatmapgl"
           }
          ],
          "histogram": [
           {
            "marker": {
             "pattern": {
              "fillmode": "overlay",
              "size": 10,
              "solidity": 0.2
             }
            },
            "type": "histogram"
           }
          ],
          "histogram2d": [
           {
            "colorbar": {
             "outlinewidth": 0,
             "ticks": ""
            },
            "colorscale": [
             [
              0,
              "#0d0887"
             ],
             [
              0.1111111111111111,
              "#46039f"
             ],
             [
              0.2222222222222222,
              "#7201a8"
             ],
             [
              0.3333333333333333,
              "#9c179e"
             ],
             [
              0.4444444444444444,
              "#bd3786"
             ],
             [
              0.5555555555555556,
              "#d8576b"
             ],
             [
              0.6666666666666666,
              "#ed7953"
             ],
             [
              0.7777777777777778,
              "#fb9f3a"
             ],
             [
              0.8888888888888888,
              "#fdca26"
             ],
             [
              1,
              "#f0f921"
             ]
            ],
            "type": "histogram2d"
           }
          ],
          "histogram2dcontour": [
           {
            "colorbar": {
             "outlinewidth": 0,
             "ticks": ""
            },
            "colorscale": [
             [
              0,
              "#0d0887"
             ],
             [
              0.1111111111111111,
              "#46039f"
             ],
             [
              0.2222222222222222,
              "#7201a8"
             ],
             [
              0.3333333333333333,
              "#9c179e"
             ],
             [
              0.4444444444444444,
              "#bd3786"
             ],
             [
              0.5555555555555556,
              "#d8576b"
             ],
             [
              0.6666666666666666,
              "#ed7953"
             ],
             [
              0.7777777777777778,
              "#fb9f3a"
             ],
             [
              0.8888888888888888,
              "#fdca26"
             ],
             [
              1,
              "#f0f921"
             ]
            ],
            "type": "histogram2dcontour"
           }
          ],
          "mesh3d": [
           {
            "colorbar": {
             "outlinewidth": 0,
             "ticks": ""
            },
            "type": "mesh3d"
           }
          ],
          "parcoords": [
           {
            "line": {
             "colorbar": {
              "outlinewidth": 0,
              "ticks": ""
             }
            },
            "type": "parcoords"
           }
          ],
          "pie": [
           {
            "automargin": true,
            "type": "pie"
           }
          ],
          "scatter": [
           {
            "fillpattern": {
             "fillmode": "overlay",
             "size": 10,
             "solidity": 0.2
            },
            "type": "scatter"
           }
          ],
          "scatter3d": [
           {
            "line": {
             "colorbar": {
              "outlinewidth": 0,
              "ticks": ""
             }
            },
            "marker": {
             "colorbar": {
              "outlinewidth": 0,
              "ticks": ""
             }
            },
            "type": "scatter3d"
           }
          ],
          "scattercarpet": [
           {
            "marker": {
             "colorbar": {
              "outlinewidth": 0,
              "ticks": ""
             }
            },
            "type": "scattercarpet"
           }
          ],
          "scattergeo": [
           {
            "marker": {
             "colorbar": {
              "outlinewidth": 0,
              "ticks": ""
             }
            },
            "type": "scattergeo"
           }
          ],
          "scattergl": [
           {
            "marker": {
             "colorbar": {
              "outlinewidth": 0,
              "ticks": ""
             }
            },
            "type": "scattergl"
           }
          ],
          "scattermapbox": [
           {
            "marker": {
             "colorbar": {
              "outlinewidth": 0,
              "ticks": ""
             }
            },
            "type": "scattermapbox"
           }
          ],
          "scatterpolar": [
           {
            "marker": {
             "colorbar": {
              "outlinewidth": 0,
              "ticks": ""
             }
            },
            "type": "scatterpolar"
           }
          ],
          "scatterpolargl": [
           {
            "marker": {
             "colorbar": {
              "outlinewidth": 0,
              "ticks": ""
             }
            },
            "type": "scatterpolargl"
           }
          ],
          "scatterternary": [
           {
            "marker": {
             "colorbar": {
              "outlinewidth": 0,
              "ticks": ""
             }
            },
            "type": "scatterternary"
           }
          ],
          "surface": [
           {
            "colorbar": {
             "outlinewidth": 0,
             "ticks": ""
            },
            "colorscale": [
             [
              0,
              "#0d0887"
             ],
             [
              0.1111111111111111,
              "#46039f"
             ],
             [
              0.2222222222222222,
              "#7201a8"
             ],
             [
              0.3333333333333333,
              "#9c179e"
             ],
             [
              0.4444444444444444,
              "#bd3786"
             ],
             [
              0.5555555555555556,
              "#d8576b"
             ],
             [
              0.6666666666666666,
              "#ed7953"
             ],
             [
              0.7777777777777778,
              "#fb9f3a"
             ],
             [
              0.8888888888888888,
              "#fdca26"
             ],
             [
              1,
              "#f0f921"
             ]
            ],
            "type": "surface"
           }
          ],
          "table": [
           {
            "cells": {
             "fill": {
              "color": "#EBF0F8"
             },
             "line": {
              "color": "white"
             }
            },
            "header": {
             "fill": {
              "color": "#C8D4E3"
             },
             "line": {
              "color": "white"
             }
            },
            "type": "table"
           }
          ]
         },
         "layout": {
          "annotationdefaults": {
           "arrowcolor": "#2a3f5f",
           "arrowhead": 0,
           "arrowwidth": 1
          },
          "autotypenumbers": "strict",
          "coloraxis": {
           "colorbar": {
            "outlinewidth": 0,
            "ticks": ""
           }
          },
          "colorscale": {
           "diverging": [
            [
             0,
             "#8e0152"
            ],
            [
             0.1,
             "#c51b7d"
            ],
            [
             0.2,
             "#de77ae"
            ],
            [
             0.3,
             "#f1b6da"
            ],
            [
             0.4,
             "#fde0ef"
            ],
            [
             0.5,
             "#f7f7f7"
            ],
            [
             0.6,
             "#e6f5d0"
            ],
            [
             0.7,
             "#b8e186"
            ],
            [
             0.8,
             "#7fbc41"
            ],
            [
             0.9,
             "#4d9221"
            ],
            [
             1,
             "#276419"
            ]
           ],
           "sequential": [
            [
             0,
             "#0d0887"
            ],
            [
             0.1111111111111111,
             "#46039f"
            ],
            [
             0.2222222222222222,
             "#7201a8"
            ],
            [
             0.3333333333333333,
             "#9c179e"
            ],
            [
             0.4444444444444444,
             "#bd3786"
            ],
            [
             0.5555555555555556,
             "#d8576b"
            ],
            [
             0.6666666666666666,
             "#ed7953"
            ],
            [
             0.7777777777777778,
             "#fb9f3a"
            ],
            [
             0.8888888888888888,
             "#fdca26"
            ],
            [
             1,
             "#f0f921"
            ]
           ],
           "sequentialminus": [
            [
             0,
             "#0d0887"
            ],
            [
             0.1111111111111111,
             "#46039f"
            ],
            [
             0.2222222222222222,
             "#7201a8"
            ],
            [
             0.3333333333333333,
             "#9c179e"
            ],
            [
             0.4444444444444444,
             "#bd3786"
            ],
            [
             0.5555555555555556,
             "#d8576b"
            ],
            [
             0.6666666666666666,
             "#ed7953"
            ],
            [
             0.7777777777777778,
             "#fb9f3a"
            ],
            [
             0.8888888888888888,
             "#fdca26"
            ],
            [
             1,
             "#f0f921"
            ]
           ]
          },
          "colorway": [
           "#636efa",
           "#EF553B",
           "#00cc96",
           "#ab63fa",
           "#FFA15A",
           "#19d3f3",
           "#FF6692",
           "#B6E880",
           "#FF97FF",
           "#FECB52"
          ],
          "font": {
           "color": "#2a3f5f"
          },
          "geo": {
           "bgcolor": "white",
           "lakecolor": "white",
           "landcolor": "#E5ECF6",
           "showlakes": true,
           "showland": true,
           "subunitcolor": "white"
          },
          "hoverlabel": {
           "align": "left"
          },
          "hovermode": "closest",
          "mapbox": {
           "style": "light"
          },
          "paper_bgcolor": "white",
          "plot_bgcolor": "#E5ECF6",
          "polar": {
           "angularaxis": {
            "gridcolor": "white",
            "linecolor": "white",
            "ticks": ""
           },
           "bgcolor": "#E5ECF6",
           "radialaxis": {
            "gridcolor": "white",
            "linecolor": "white",
            "ticks": ""
           }
          },
          "scene": {
           "xaxis": {
            "backgroundcolor": "#E5ECF6",
            "gridcolor": "white",
            "gridwidth": 2,
            "linecolor": "white",
            "showbackground": true,
            "ticks": "",
            "zerolinecolor": "white"
           },
           "yaxis": {
            "backgroundcolor": "#E5ECF6",
            "gridcolor": "white",
            "gridwidth": 2,
            "linecolor": "white",
            "showbackground": true,
            "ticks": "",
            "zerolinecolor": "white"
           },
           "zaxis": {
            "backgroundcolor": "#E5ECF6",
            "gridcolor": "white",
            "gridwidth": 2,
            "linecolor": "white",
            "showbackground": true,
            "ticks": "",
            "zerolinecolor": "white"
           }
          },
          "shapedefaults": {
           "line": {
            "color": "#2a3f5f"
           }
          },
          "ternary": {
           "aaxis": {
            "gridcolor": "white",
            "linecolor": "white",
            "ticks": ""
           },
           "baxis": {
            "gridcolor": "white",
            "linecolor": "white",
            "ticks": ""
           },
           "bgcolor": "#E5ECF6",
           "caxis": {
            "gridcolor": "white",
            "linecolor": "white",
            "ticks": ""
           }
          },
          "title": {
           "x": 0.05
          },
          "xaxis": {
           "automargin": true,
           "gridcolor": "white",
           "linecolor": "white",
           "ticks": "",
           "title": {
            "standoff": 15
           },
           "zerolinecolor": "white",
           "zerolinewidth": 2
          },
          "yaxis": {
           "automargin": true,
           "gridcolor": "white",
           "linecolor": "white",
           "ticks": "",
           "title": {
            "standoff": 15
           },
           "zerolinecolor": "white",
           "zerolinewidth": 2
          }
         }
        },
        "title": {
         "text": "Definition Embedding Comparison Metrics - Vanilla prompting"
        },
        "width": 1200,
        "xaxis": {
         "anchor": "y",
         "domain": [
          0,
          0.2888888888888889
         ],
         "range": [
          0,
          1
         ],
         "title": {
          "text": "Similarity Score"
         }
        },
        "xaxis2": {
         "anchor": "y2",
         "domain": [
          0.35555555555555557,
          0.6444444444444445
         ],
         "range": [
          0,
          1
         ],
         "title": {
          "text": "Similarity Score"
         }
        },
        "xaxis3": {
         "anchor": "y3",
         "domain": [
          0.7111111111111111,
          1
         ],
         "range": [
          0,
          1
         ],
         "title": {
          "text": "Similarity Score"
         }
        },
        "xaxis4": {
         "anchor": "y4",
         "domain": [
          0,
          0.2888888888888889
         ],
         "range": [
          0,
          1
         ],
         "title": {
          "text": "Similarity Score"
         }
        },
        "xaxis5": {
         "anchor": "y5",
         "domain": [
          0.35555555555555557,
          0.6444444444444445
         ],
         "range": [
          0,
          1
         ],
         "title": {
          "text": "Similarity Score"
         }
        },
        "xaxis6": {
         "anchor": "y6",
         "domain": [
          0.7111111111111111,
          1
         ]
        },
        "yaxis": {
         "anchor": "x",
         "domain": [
          0.625,
          1
         ],
         "title": {
          "text": "Count"
         }
        },
        "yaxis2": {
         "anchor": "x2",
         "domain": [
          0.625,
          1
         ],
         "title": {
          "text": "Count"
         }
        },
        "yaxis3": {
         "anchor": "x3",
         "domain": [
          0.625,
          1
         ],
         "title": {
          "text": "Count"
         }
        },
        "yaxis4": {
         "anchor": "x4",
         "domain": [
          0,
          0.375
         ],
         "title": {
          "text": "Count"
         }
        },
        "yaxis5": {
         "anchor": "x5",
         "domain": [
          0,
          0.375
         ],
         "title": {
          "text": "Count"
         }
        },
        "yaxis6": {
         "anchor": "x6",
         "domain": [
          0,
          0.375
         ]
        }
       }
      },
      "text/html": [
       "<div>                            <div id=\"ffee25b9-58cb-4de2-9856-6bffd353cf78\" class=\"plotly-graph-div\" style=\"height:800px; width:1200px;\"></div>            <script type=\"text/javascript\">                require([\"plotly\"], function(Plotly) {                    window.PLOTLYENV=window.PLOTLYENV || {};                                    if (document.getElementById(\"ffee25b9-58cb-4de2-9856-6bffd353cf78\")) {                    Plotly.newPlot(                        \"ffee25b9-58cb-4de2-9856-6bffd353cf78\",                        [{\"bingroup\":\"a\",\"name\":\"Mean Similarity with GT Defs\",\"x\":[0.4994657337665558,0.5190544128417969,0.6843677759170532,0.7524450421333313,0.638852596282959,0.7110140323638916,0.6107227802276611,0.6172800660133362,0.6391171813011169,0.7148054838180542,0.37951862812042236,0.7724844217300415,0.7400685548782349,0.7340483069419861,0.6901137232780457,0.6776431798934937,0.8087537288665771,0.7079479694366455,0.8986377120018005,0.30276551842689514,0.7368934154510498,0.5544751286506653,0.6879547238349915,0.7102519869804382,0.5919782519340515,0.7481781840324402,0.7547454833984375,0.7042664885520935,0.8092542886734009,0.7791367769241333,0.6243585348129272,0.5123052597045898,0.7455213069915771,0.24443557858467102,0.7614588737487793,0.8877501487731934,0.5243960618972778,0.7794762253761292,0.8059632182121277,0.7328671216964722,0.5888018608093262,0.5999084115028381,0.578589677810669,0.7536442279815674,0.6819540858268738,0.678363025188446,0.5938662886619568,0.6579433679580688,0.4474632441997528,0.6429274082183838,0.7023504376411438,0.6782345771789551,0.7894758582115173,0.6727615594863892,0.7445961236953735,0.7269754409790039,0.6581664085388184,0.6549007296562195,0.7828640937805176,0.7114066481590271,0.6773752570152283,0.44507887959480286,0.7071276903152466,0.7321233749389648,0.744896411895752,0.7834922671318054,0.8047520518302917,0.765466570854187,0.5329117178916931,0.8025254011154175,0.45618313550949097,0.3043501675128937,0.5267463326454163,0.6826921701431274,0.7874240875244141,0.7229686975479126,0.781989574432373,0.7386379241943359,0.7202467918395996,0.8018092513084412,0.8080033659934998,0.6800519227981567,0.7509090304374695,0.8471197485923767,0.7454240322113037,0.5911106467247009,0.2827530801296234,0.5822885632514954,0.7507399320602417,0.22398528456687927,0.3279678523540497,0.7667967677116394,0.8002477288246155,0.6426537036895752,0.7465673685073853,0.7605689764022827,0.26516422629356384,0.6229880452156067,0.6011549234390259,0.7872047424316406,0.7490085363388062,0.6589503288269043,0.5226055979728699,0.474850058555603,0.7354575395584106,0.7433719635009766,0.6473912596702576,0.7493904232978821,0.6980218887329102,0.6319559216499329,0.7533759474754333,0.6242887377738953,0.4055807888507843,0.8640719056129456,0.7942953109741211,0.8446924686431885,0.7633969783782959,0.848362386226654,0.5284282565116882,0.5775032639503479,0.6919988989830017,0.7873594164848328,0.8032090067863464,0.8278741836547852,0.6936625838279724,0.7523512840270996,0.6162794828414917,0.8168186545372009,0.7925103902816772,0.15372562408447266,0.7552127838134766,0.31526461243629456,0.7598776817321777,0.7522621154785156,0.8848172426223755,0.7795976996421814,0.8021643757820129,0.6815770268440247,0.7779819369316101,0.7272427678108215,0.43905964493751526,0.7201849818229675,0.5857611894607544,0.6793020963668823,0.7634159326553345,0.7355162501335144,0.6824315190315247,0.8183897733688354,0.63361656665802,0.6029882431030273,0.33788952231407166,0.1251111626625061,0.6702961325645447,0.5824667811393738,0.6481632590293884,0.6862224340438843],\"type\":\"histogram\",\"xaxis\":\"x\",\"yaxis\":\"y\"},{\"bingroup\":\"a\",\"name\":\"Similarity with Mean Embedding of GT Defs\",\"x\":[0.601791501045227,0.5940824151039124,0.84563148021698,0.8472137451171875,0.8442835807800293,0.8095191717147827,0.7161899209022522,0.7543222904205322,0.692945122718811,0.8406631946563721,0.4277513027191162,0.8665021657943726,0.8740570545196533,0.8589322566986084,0.8433566093444824,0.8311235308647156,0.920346736907959,0.8347588777542114,0.9585686922073364,0.3843345046043396,0.8443915843963623,0.7077773809432983,0.803027868270874,0.7589959502220154,0.7100259065628052,0.8982498645782471,0.8589114546775818,0.8116230964660645,0.9078894257545471,0.8567907214164734,0.7075070142745972,0.6094290614128113,0.8395407795906067,0.3273247182369232,0.8891136050224304,0.948235273361206,0.6299988031387329,0.8543859720230103,0.9152758121490479,0.8509626388549805,0.6519414782524109,0.8115820288658142,0.6964870095252991,0.92254638671875,0.8289521932601929,0.8328834772109985,0.7707898616790771,0.7565275430679321,0.5672369599342346,0.7721484899520874,0.8345502614974976,0.8260457515716553,0.8739132881164551,0.823519229888916,0.8945715427398682,0.850236177444458,0.792932391166687,0.7889870405197144,0.9159300327301025,0.7948676347732544,0.8442826271057129,0.5744937658309937,0.820517897605896,0.8906785845756531,0.9333564639091492,0.8824170827865601,0.9013241529464722,0.8718777298927307,0.6703815460205078,0.8931124210357666,0.5368639230728149,0.3394196331501007,0.6600650548934937,0.823832094669342,0.9183712005615234,0.8307850360870361,0.8741236329078674,0.8378143906593323,0.8049153685569763,0.9074037075042725,0.9108597040176392,0.7252591848373413,0.9140385389328003,0.9366607069969177,0.8382556438446045,0.8048669099807739,0.31662964820861816,0.6871470212936401,0.8864402770996094,0.2681125998497009,0.4659464359283447,0.8558133840560913,0.8432629108428955,0.8593653440475464,0.8660410642623901,0.9020312428474426,0.310672789812088,0.7873435616493225,0.7678826451301575,0.8724787831306458,0.840866208076477,0.8029971122741699,0.6628861427307129,0.5979975461959839,0.9186042547225952,0.8564220070838928,0.7580030560493469,0.8452880382537842,0.8262524008750916,0.7859275341033936,0.8683538436889648,0.759223222732544,0.5087724924087524,0.9305958151817322,0.8519914150238037,0.9465740919113159,0.8548234701156616,0.9358848929405212,0.662365734577179,0.7514219284057617,0.8627275228500366,0.9241483807563782,0.8826861381530762,0.8990996479988098,0.8815888166427612,0.86409592628479,0.70384681224823,0.899293065071106,0.9035528898239136,0.17583975195884705,0.8434845209121704,0.34476935863494873,0.8682823181152344,0.845682680606842,0.9421225190162659,0.8650721311569214,0.9126721620559692,0.8320955038070679,0.8445234298706055,0.8455226421356201,0.49711471796035767,0.8860505223274231,0.6343998908996582,0.8831720352172852,0.859950065612793,0.8217892646789551,0.7681353092193604,0.8922543525695801,0.732897162437439,0.8082813024520874,0.3931008577346802,0.14102724194526672,0.7999181747436523,0.6610075235366821,0.8036950826644897,0.836604118347168],\"type\":\"histogram\",\"xaxis\":\"x2\",\"yaxis\":\"y2\"},{\"bingroup\":\"a\",\"name\":\"Max Similarity with GT Defs\",\"x\":[0.7531472444534302,0.6326572895050049,0.8918389081954956,0.8137640953063965,0.884871244430542,0.9480631351470947,0.7404939532279968,0.7491969466209412,0.9206492900848389,0.780569314956665,0.4386175274848938,0.8536471128463745,0.8081386089324951,0.8991838693618774,0.7963792085647583,0.8274247646331787,0.9212695360183716,0.792458176612854,0.9842453002929688,0.38866984844207764,0.8991029858589172,0.7038378119468689,0.8677730560302734,0.7780876159667969,0.7371165752410889,0.9499138593673706,0.931490421295166,0.7964675426483154,0.8897495865821838,0.8919941186904907,0.751257061958313,0.6408110857009888,0.8375434279441833,0.5077311992645264,0.8769247531890869,0.9615442752838135,0.6141254901885986,0.8511301279067993,0.8641856908798218,0.8198469877243042,0.6472078561782837,0.8980212211608887,0.7259910702705383,0.8852558135986328,0.8402965068817139,0.7947566509246826,0.7629782557487488,0.7841778993606567,0.8143163919448853,0.8556517362594604,0.9003397226333618,0.7441519498825073,0.8628330230712891,1.0000001192092896,0.8757762312889099,0.8803603649139404,0.8085365891456604,0.78401780128479,0.9490483403205872,0.793174684047699,0.8840276002883911,0.8010003566741943,0.8062601089477539,0.9094905257225037,0.9536228179931641,0.860545814037323,0.9657292366027832,0.8550136089324951,0.7387213706970215,0.8516069650650024,0.5471575260162354,0.34847795963287354,0.6856483817100525,0.88813316822052,0.8792295455932617,0.8712503910064697,0.8615986108779907,0.81438148021698,0.7991089820861816,0.9192525744438171,0.890789270401001,0.7187858819961548,0.8818445205688477,0.9381611943244934,0.804232656955719,0.8820784687995911,0.3352184593677521,0.6901190280914307,0.8519690036773682,0.3529307246208191,0.5296138525009155,0.7977243661880493,0.8616023063659668,0.8387362957000732,0.919607400894165,0.9052550792694092,0.40210914611816406,0.8520336747169495,0.9701579213142395,0.8087019920349121,0.855023980140686,0.7787942886352539,0.7405988574028015,0.6182687878608704,0.8873105049133301,0.841103196144104,0.7678481340408325,0.8060973882675171,0.8251818418502808,0.8770579695701599,0.9198178052902222,0.8314107656478882,0.49809086322784424,0.9321469068527222,0.8728562593460083,0.9681398868560791,0.8646301031112671,0.8932226896286011,0.7410345077514648,0.7830483317375183,0.8474118113517761,0.8890478014945984,0.8754161596298218,0.8745619654655457,0.8255343437194824,0.9121860861778259,0.7583333253860474,0.8848191499710083,0.9291449785232544,0.2637884318828583,0.8475711345672607,0.38144853711128235,0.8176246881484985,0.8490052819252014,0.9399591684341431,0.8561718463897705,0.9821288585662842,0.8181453943252563,0.8294024467468262,0.8588871955871582,0.48786991834640503,0.8959195613861084,0.6975871920585632,0.9905689358711243,0.911910355091095,0.8015387654304504,0.9471027851104736,0.8671441078186035,0.7155846357345581,0.7967604398727417,0.41074061393737793,0.19883884489536285,0.7575092315673828,0.6447151899337769,0.6843737363815308,0.8188676238059998],\"type\":\"histogram\",\"xaxis\":\"x3\",\"yaxis\":\"y3\"},{\"bingroup\":\"a\",\"name\":\"Mean Similarity with Other Words\",\"x\":[0.17458152770996094,0.237664133310318,0.22021539509296417,0.25326791405677795,0.11323422193527222,0.14545834064483643,0.20566603541374207,0.26402947306632996,0.15061114728450775,0.19176271557807922,0.2586841583251953,0.20251402258872986,0.14701706171035767,0.20192301273345947,0.2738289535045624,0.22621092200279236,0.258108913898468,0.2554302513599396,0.09400444477796555,0.2690998613834381,0.22123026847839355,0.13188375532627106,0.20373021066188812,0.24748452007770538,0.18897680938243866,0.27602243423461914,0.1970963180065155,0.3253466784954071,0.12748147547245026,0.24607832729816437,0.24275511503219604,0.22039227187633514,0.11965026706457138,0.2106977105140686,0.23047339916229248,0.1700536012649536,0.19668179750442505,0.2177267074584961,0.19503620266914368,0.25792455673217773,0.0650392472743988,0.2461944967508316,0.15377897024154663,0.2791501581668854,0.2784327268600464,0.24474160373210907,0.19572517275810242,0.23894767463207245,0.2372758686542511,0.231855109333992,0.2927747368812561,0.21365278959274292,0.18482433259487152,0.1466035544872284,0.22072383761405945,0.18394003808498383,0.2756807804107666,0.20971617102622986,0.17544354498386383,0.28343769907951355,0.18874141573905945,0.22954075038433075,0.29637080430984497,0.1564321219921112,0.28252214193344116,0.20899146795272827,0.1397296041250229,0.2540997862815857,0.18687930703163147,0.18448232114315033,0.25259172916412354,0.31339165568351746,0.2739108204841614,0.21326090395450592,0.20715251564979553,0.1843910813331604,0.1871131807565689,0.19417907297611237,0.2212998867034912,0.2052510529756546,0.20000018179416656,0.25868120789527893,0.21495890617370605,0.23049968481063843,0.178423672914505,0.22804081439971924,0.3264150619506836,0.23848126828670502,0.19097641110420227,0.19230963289737701,0.213889479637146,0.27181604504585266,0.19923093914985657,0.30670225620269775,0.26448991894721985,0.23552966117858887,0.20143166184425354,0.1687203347682953,0.1687801629304886,0.253246933221817,0.2294851690530777,0.25435692071914673,0.1597040444612503,0.2017899453639984,0.2792746424674988,0.17078416049480438,0.20374387502670288,0.2744234502315521,0.21209508180618286,0.19236965477466583,0.17379073798656464,0.22094355523586273,0.2244848906993866,0.1570386290550232,0.26199108362197876,0.1723325550556183,0.14826910197734833,0.24651272594928741,0.20847195386886597,0.13629859685897827,0.28350844979286194,0.2186705321073532,0.27348291873931885,0.2521018981933594,0.2532449960708618,0.21521882712841034,0.22513212263584137,0.2668253779411316,0.2701169550418854,0.27429646253585815,0.2216334044933319,0.2687760293483734,0.1899629384279251,0.23863717913627625,0.22314810752868652,0.2794386148452759,0.17797601222991943,0.18436264991760254,0.18107615411281586,0.10180108994245529,0.25339946150779724,0.24603894352912903,0.268248975276947,0.17993098497390747,0.18728254735469818,0.2539931535720825,0.12501955032348633,0.19231176376342773,0.22160093486309052,0.28678232431411743,0.23372073471546173,0.11381129175424576,0.23341479897499084,0.2952485978603363,0.33191484212875366,0.27291667461395264],\"type\":\"histogram\",\"xaxis\":\"x4\",\"yaxis\":\"y4\"},{\"bingroup\":\"a\",\"name\":\"Max Similarity with Other Words\",\"x\":[0.6764939427375793,0.7169140577316284,0.6483211517333984,0.671075165271759,0.45093443989753723,0.6023421287536621,0.5834015011787415,0.8077923059463501,0.6578575968742371,0.6636913418769836,0.9085128307342529,0.6872366070747375,0.6403387188911438,0.898779034614563,0.7432247996330261,0.6293125748634338,0.8609532117843628,0.8444545269012451,0.7739295959472656,0.718315601348877,0.6922630071640015,0.5514281988143921,0.6675740480422974,0.7533954977989197,0.7619315981864929,0.9092386364936829,0.5902807116508484,0.7662580013275146,0.6538118124008179,0.8065618276596069,0.7542513608932495,0.5364927649497986,0.6248137950897217,0.8384640216827393,0.8199000358581543,0.7302412390708923,0.5436297655105591,0.6323977112770081,0.7040994763374329,0.8560210466384888,0.6346521973609924,0.8120806217193604,0.7508872151374817,0.9269298911094666,0.6752002239227295,0.7463301420211792,0.6739552021026611,0.6731454730033875,0.7562173008918762,0.6448949575424194,0.7777236104011536,0.6468174457550049,0.6123074293136597,0.7597308158874512,0.648239016532898,0.7238632440567017,0.631458580493927,0.8064982891082764,0.640752911567688,0.5724952816963196,0.5843029022216797,0.8729053139686584,0.7569330930709839,0.7592450380325317,0.7268452644348145,0.7062764167785645,0.8119659423828125,0.7696809768676758,0.6615244150161743,0.7234519124031067,0.7886093854904175,1.0,0.8053013682365417,0.729394793510437,0.7413127422332764,0.5592067837715149,0.5221185684204102,0.7514651417732239,0.6425796747207642,0.8147899508476257,0.7209147214889526,0.6966561675071716,0.8656388521194458,0.9498152136802673,0.6454411149024963,0.7319419980049133,0.7544516921043396,0.7159289717674255,0.7918487191200256,0.7773597240447998,0.5197187662124634,0.6183882355690002,0.7288529276847839,0.7152142524719238,0.6991469264030457,0.7240902781486511,0.7655031681060791,0.6766390800476074,0.5002927780151367,0.8528699278831482,0.797803521156311,0.7397674322128296,0.4943963885307312,0.8142383098602295,0.7657403349876404,0.6174357533454895,0.6062132716178894,0.7218462228775024,0.6336919069290161,0.5459012389183044,0.6368741989135742,0.7014796733856201,0.7553631067276001,0.6305269598960876,0.6841214895248413,0.7586088180541992,0.5334703922271729,0.8955399394035339,0.5821194648742676,0.6724646091461182,0.7058008909225464,0.8885450959205627,0.8199030756950378,0.8097901344299316,0.6713542938232422,0.7039974927902222,0.7463474273681641,0.8763879537582397,0.834043025970459,0.9999995231628418,0.7367238998413086,1.000000238418579,0.5624665021896362,0.7007459402084351,0.6090736389160156,0.915261447429657,0.6748892068862915,0.4952097535133362,0.6237471103668213,0.5024630427360535,0.616420567035675,0.707587718963623,0.7039632797241211,0.7674444913864136,0.6551003456115723,0.7065123915672302,0.6962865591049194,0.8036720752716064,0.7837830781936646,0.7922227382659912,1.0000003576278687,0.43535470962524414,0.729030966758728,0.6909928321838379,0.709618330001831,0.7465853691101074],\"type\":\"histogram\",\"xaxis\":\"x5\",\"yaxis\":\"y5\"}],                        {\"template\":{\"data\":{\"histogram2dcontour\":[{\"type\":\"histogram2dcontour\",\"colorbar\":{\"outlinewidth\":0,\"ticks\":\"\"},\"colorscale\":[[0.0,\"#0d0887\"],[0.1111111111111111,\"#46039f\"],[0.2222222222222222,\"#7201a8\"],[0.3333333333333333,\"#9c179e\"],[0.4444444444444444,\"#bd3786\"],[0.5555555555555556,\"#d8576b\"],[0.6666666666666666,\"#ed7953\"],[0.7777777777777778,\"#fb9f3a\"],[0.8888888888888888,\"#fdca26\"],[1.0,\"#f0f921\"]]}],\"choropleth\":[{\"type\":\"choropleth\",\"colorbar\":{\"outlinewidth\":0,\"ticks\":\"\"}}],\"histogram2d\":[{\"type\":\"histogram2d\",\"colorbar\":{\"outlinewidth\":0,\"ticks\":\"\"},\"colorscale\":[[0.0,\"#0d0887\"],[0.1111111111111111,\"#46039f\"],[0.2222222222222222,\"#7201a8\"],[0.3333333333333333,\"#9c179e\"],[0.4444444444444444,\"#bd3786\"],[0.5555555555555556,\"#d8576b\"],[0.6666666666666666,\"#ed7953\"],[0.7777777777777778,\"#fb9f3a\"],[0.8888888888888888,\"#fdca26\"],[1.0,\"#f0f921\"]]}],\"heatmap\":[{\"type\":\"heatmap\",\"colorbar\":{\"outlinewidth\":0,\"ticks\":\"\"},\"colorscale\":[[0.0,\"#0d0887\"],[0.1111111111111111,\"#46039f\"],[0.2222222222222222,\"#7201a8\"],[0.3333333333333333,\"#9c179e\"],[0.4444444444444444,\"#bd3786\"],[0.5555555555555556,\"#d8576b\"],[0.6666666666666666,\"#ed7953\"],[0.7777777777777778,\"#fb9f3a\"],[0.8888888888888888,\"#fdca26\"],[1.0,\"#f0f921\"]]}],\"heatmapgl\":[{\"type\":\"heatmapgl\",\"colorbar\":{\"outlinewidth\":0,\"ticks\":\"\"},\"colorscale\":[[0.0,\"#0d0887\"],[0.1111111111111111,\"#46039f\"],[0.2222222222222222,\"#7201a8\"],[0.3333333333333333,\"#9c179e\"],[0.4444444444444444,\"#bd3786\"],[0.5555555555555556,\"#d8576b\"],[0.6666666666666666,\"#ed7953\"],[0.7777777777777778,\"#fb9f3a\"],[0.8888888888888888,\"#fdca26\"],[1.0,\"#f0f921\"]]}],\"contourcarpet\":[{\"type\":\"contourcarpet\",\"colorbar\":{\"outlinewidth\":0,\"ticks\":\"\"}}],\"contour\":[{\"type\":\"contour\",\"colorbar\":{\"outlinewidth\":0,\"ticks\":\"\"},\"colorscale\":[[0.0,\"#0d0887\"],[0.1111111111111111,\"#46039f\"],[0.2222222222222222,\"#7201a8\"],[0.3333333333333333,\"#9c179e\"],[0.4444444444444444,\"#bd3786\"],[0.5555555555555556,\"#d8576b\"],[0.6666666666666666,\"#ed7953\"],[0.7777777777777778,\"#fb9f3a\"],[0.8888888888888888,\"#fdca26\"],[1.0,\"#f0f921\"]]}],\"surface\":[{\"type\":\"surface\",\"colorbar\":{\"outlinewidth\":0,\"ticks\":\"\"},\"colorscale\":[[0.0,\"#0d0887\"],[0.1111111111111111,\"#46039f\"],[0.2222222222222222,\"#7201a8\"],[0.3333333333333333,\"#9c179e\"],[0.4444444444444444,\"#bd3786\"],[0.5555555555555556,\"#d8576b\"],[0.6666666666666666,\"#ed7953\"],[0.7777777777777778,\"#fb9f3a\"],[0.8888888888888888,\"#fdca26\"],[1.0,\"#f0f921\"]]}],\"mesh3d\":[{\"type\":\"mesh3d\",\"colorbar\":{\"outlinewidth\":0,\"ticks\":\"\"}}],\"scatter\":[{\"fillpattern\":{\"fillmode\":\"overlay\",\"size\":10,\"solidity\":0.2},\"type\":\"scatter\"}],\"parcoords\":[{\"type\":\"parcoords\",\"line\":{\"colorbar\":{\"outlinewidth\":0,\"ticks\":\"\"}}}],\"scatterpolargl\":[{\"type\":\"scatterpolargl\",\"marker\":{\"colorbar\":{\"outlinewidth\":0,\"ticks\":\"\"}}}],\"bar\":[{\"error_x\":{\"color\":\"#2a3f5f\"},\"error_y\":{\"color\":\"#2a3f5f\"},\"marker\":{\"line\":{\"color\":\"#E5ECF6\",\"width\":0.5},\"pattern\":{\"fillmode\":\"overlay\",\"size\":10,\"solidity\":0.2}},\"type\":\"bar\"}],\"scattergeo\":[{\"type\":\"scattergeo\",\"marker\":{\"colorbar\":{\"outlinewidth\":0,\"ticks\":\"\"}}}],\"scatterpolar\":[{\"type\":\"scatterpolar\",\"marker\":{\"colorbar\":{\"outlinewidth\":0,\"ticks\":\"\"}}}],\"histogram\":[{\"marker\":{\"pattern\":{\"fillmode\":\"overlay\",\"size\":10,\"solidity\":0.2}},\"type\":\"histogram\"}],\"scattergl\":[{\"type\":\"scattergl\",\"marker\":{\"colorbar\":{\"outlinewidth\":0,\"ticks\":\"\"}}}],\"scatter3d\":[{\"type\":\"scatter3d\",\"line\":{\"colorbar\":{\"outlinewidth\":0,\"ticks\":\"\"}},\"marker\":{\"colorbar\":{\"outlinewidth\":0,\"ticks\":\"\"}}}],\"scattermapbox\":[{\"type\":\"scattermapbox\",\"marker\":{\"colorbar\":{\"outlinewidth\":0,\"ticks\":\"\"}}}],\"scatterternary\":[{\"type\":\"scatterternary\",\"marker\":{\"colorbar\":{\"outlinewidth\":0,\"ticks\":\"\"}}}],\"scattercarpet\":[{\"type\":\"scattercarpet\",\"marker\":{\"colorbar\":{\"outlinewidth\":0,\"ticks\":\"\"}}}],\"carpet\":[{\"aaxis\":{\"endlinecolor\":\"#2a3f5f\",\"gridcolor\":\"white\",\"linecolor\":\"white\",\"minorgridcolor\":\"white\",\"startlinecolor\":\"#2a3f5f\"},\"baxis\":{\"endlinecolor\":\"#2a3f5f\",\"gridcolor\":\"white\",\"linecolor\":\"white\",\"minorgridcolor\":\"white\",\"startlinecolor\":\"#2a3f5f\"},\"type\":\"carpet\"}],\"table\":[{\"cells\":{\"fill\":{\"color\":\"#EBF0F8\"},\"line\":{\"color\":\"white\"}},\"header\":{\"fill\":{\"color\":\"#C8D4E3\"},\"line\":{\"color\":\"white\"}},\"type\":\"table\"}],\"barpolar\":[{\"marker\":{\"line\":{\"color\":\"#E5ECF6\",\"width\":0.5},\"pattern\":{\"fillmode\":\"overlay\",\"size\":10,\"solidity\":0.2}},\"type\":\"barpolar\"}],\"pie\":[{\"automargin\":true,\"type\":\"pie\"}]},\"layout\":{\"autotypenumbers\":\"strict\",\"colorway\":[\"#636efa\",\"#EF553B\",\"#00cc96\",\"#ab63fa\",\"#FFA15A\",\"#19d3f3\",\"#FF6692\",\"#B6E880\",\"#FF97FF\",\"#FECB52\"],\"font\":{\"color\":\"#2a3f5f\"},\"hovermode\":\"closest\",\"hoverlabel\":{\"align\":\"left\"},\"paper_bgcolor\":\"white\",\"plot_bgcolor\":\"#E5ECF6\",\"polar\":{\"bgcolor\":\"#E5ECF6\",\"angularaxis\":{\"gridcolor\":\"white\",\"linecolor\":\"white\",\"ticks\":\"\"},\"radialaxis\":{\"gridcolor\":\"white\",\"linecolor\":\"white\",\"ticks\":\"\"}},\"ternary\":{\"bgcolor\":\"#E5ECF6\",\"aaxis\":{\"gridcolor\":\"white\",\"linecolor\":\"white\",\"ticks\":\"\"},\"baxis\":{\"gridcolor\":\"white\",\"linecolor\":\"white\",\"ticks\":\"\"},\"caxis\":{\"gridcolor\":\"white\",\"linecolor\":\"white\",\"ticks\":\"\"}},\"coloraxis\":{\"colorbar\":{\"outlinewidth\":0,\"ticks\":\"\"}},\"colorscale\":{\"sequential\":[[0.0,\"#0d0887\"],[0.1111111111111111,\"#46039f\"],[0.2222222222222222,\"#7201a8\"],[0.3333333333333333,\"#9c179e\"],[0.4444444444444444,\"#bd3786\"],[0.5555555555555556,\"#d8576b\"],[0.6666666666666666,\"#ed7953\"],[0.7777777777777778,\"#fb9f3a\"],[0.8888888888888888,\"#fdca26\"],[1.0,\"#f0f921\"]],\"sequentialminus\":[[0.0,\"#0d0887\"],[0.1111111111111111,\"#46039f\"],[0.2222222222222222,\"#7201a8\"],[0.3333333333333333,\"#9c179e\"],[0.4444444444444444,\"#bd3786\"],[0.5555555555555556,\"#d8576b\"],[0.6666666666666666,\"#ed7953\"],[0.7777777777777778,\"#fb9f3a\"],[0.8888888888888888,\"#fdca26\"],[1.0,\"#f0f921\"]],\"diverging\":[[0,\"#8e0152\"],[0.1,\"#c51b7d\"],[0.2,\"#de77ae\"],[0.3,\"#f1b6da\"],[0.4,\"#fde0ef\"],[0.5,\"#f7f7f7\"],[0.6,\"#e6f5d0\"],[0.7,\"#b8e186\"],[0.8,\"#7fbc41\"],[0.9,\"#4d9221\"],[1,\"#276419\"]]},\"xaxis\":{\"gridcolor\":\"white\",\"linecolor\":\"white\",\"ticks\":\"\",\"title\":{\"standoff\":15},\"zerolinecolor\":\"white\",\"automargin\":true,\"zerolinewidth\":2},\"yaxis\":{\"gridcolor\":\"white\",\"linecolor\":\"white\",\"ticks\":\"\",\"title\":{\"standoff\":15},\"zerolinecolor\":\"white\",\"automargin\":true,\"zerolinewidth\":2},\"scene\":{\"xaxis\":{\"backgroundcolor\":\"#E5ECF6\",\"gridcolor\":\"white\",\"linecolor\":\"white\",\"showbackground\":true,\"ticks\":\"\",\"zerolinecolor\":\"white\",\"gridwidth\":2},\"yaxis\":{\"backgroundcolor\":\"#E5ECF6\",\"gridcolor\":\"white\",\"linecolor\":\"white\",\"showbackground\":true,\"ticks\":\"\",\"zerolinecolor\":\"white\",\"gridwidth\":2},\"zaxis\":{\"backgroundcolor\":\"#E5ECF6\",\"gridcolor\":\"white\",\"linecolor\":\"white\",\"showbackground\":true,\"ticks\":\"\",\"zerolinecolor\":\"white\",\"gridwidth\":2}},\"shapedefaults\":{\"line\":{\"color\":\"#2a3f5f\"}},\"annotationdefaults\":{\"arrowcolor\":\"#2a3f5f\",\"arrowhead\":0,\"arrowwidth\":1},\"geo\":{\"bgcolor\":\"white\",\"landcolor\":\"#E5ECF6\",\"subunitcolor\":\"white\",\"showland\":true,\"showlakes\":true,\"lakecolor\":\"white\"},\"title\":{\"x\":0.05},\"mapbox\":{\"style\":\"light\"}}},\"xaxis\":{\"anchor\":\"y\",\"domain\":[0.0,0.2888888888888889],\"title\":{\"text\":\"Similarity Score\"},\"range\":[0,1]},\"yaxis\":{\"anchor\":\"x\",\"domain\":[0.625,1.0],\"title\":{\"text\":\"Count\"}},\"xaxis2\":{\"anchor\":\"y2\",\"domain\":[0.35555555555555557,0.6444444444444445],\"title\":{\"text\":\"Similarity Score\"},\"range\":[0,1]},\"yaxis2\":{\"anchor\":\"x2\",\"domain\":[0.625,1.0],\"title\":{\"text\":\"Count\"}},\"xaxis3\":{\"anchor\":\"y3\",\"domain\":[0.7111111111111111,1.0],\"title\":{\"text\":\"Similarity Score\"},\"range\":[0,1]},\"yaxis3\":{\"anchor\":\"x3\",\"domain\":[0.625,1.0],\"title\":{\"text\":\"Count\"}},\"xaxis4\":{\"anchor\":\"y4\",\"domain\":[0.0,0.2888888888888889],\"title\":{\"text\":\"Similarity Score\"},\"range\":[0,1]},\"yaxis4\":{\"anchor\":\"x4\",\"domain\":[0.0,0.375],\"title\":{\"text\":\"Count\"}},\"xaxis5\":{\"anchor\":\"y5\",\"domain\":[0.35555555555555557,0.6444444444444445],\"title\":{\"text\":\"Similarity Score\"},\"range\":[0,1]},\"yaxis5\":{\"anchor\":\"x5\",\"domain\":[0.0,0.375],\"title\":{\"text\":\"Count\"}},\"xaxis6\":{\"anchor\":\"y6\",\"domain\":[0.7111111111111111,1.0]},\"yaxis6\":{\"anchor\":\"x6\",\"domain\":[0.0,0.375]},\"annotations\":[{\"font\":{\"size\":16},\"showarrow\":false,\"text\":\"Mean Similarity with GT Defs\",\"x\":0.14444444444444446,\"xanchor\":\"center\",\"xref\":\"paper\",\"y\":1.0,\"yanchor\":\"bottom\",\"yref\":\"paper\"},{\"font\":{\"size\":16},\"showarrow\":false,\"text\":\"Similarity with Mean Embedding of GT Defs\",\"x\":0.5,\"xanchor\":\"center\",\"xref\":\"paper\",\"y\":1.0,\"yanchor\":\"bottom\",\"yref\":\"paper\"},{\"font\":{\"size\":16},\"showarrow\":false,\"text\":\"Max Similarity with GT Defs\",\"x\":0.8555555555555556,\"xanchor\":\"center\",\"xref\":\"paper\",\"y\":1.0,\"yanchor\":\"bottom\",\"yref\":\"paper\"},{\"font\":{\"size\":16},\"showarrow\":false,\"text\":\"Mean Similarity with Other Words\",\"x\":0.14444444444444446,\"xanchor\":\"center\",\"xref\":\"paper\",\"y\":0.375,\"yanchor\":\"bottom\",\"yref\":\"paper\"},{\"font\":{\"size\":16},\"showarrow\":false,\"text\":\"Max Similarity with Other Words\",\"x\":0.5,\"xanchor\":\"center\",\"xref\":\"paper\",\"y\":0.375,\"yanchor\":\"bottom\",\"yref\":\"paper\"}],\"title\":{\"text\":\"Definition Embedding Comparison Metrics - Vanilla prompting\"},\"showlegend\":false,\"height\":800,\"width\":1200},                        {\"responsive\": true}                    ).then(function(){\n",
       "                            \n",
       "var gd = document.getElementById('ffee25b9-58cb-4de2-9856-6bffd353cf78');\n",
       "var x = new MutationObserver(function (mutations, observer) {{\n",
       "        var display = window.getComputedStyle(gd).display;\n",
       "        if (!display || display === 'none') {{\n",
       "            console.log([gd, 'removed!']);\n",
       "            Plotly.purge(gd);\n",
       "            observer.disconnect();\n",
       "        }}\n",
       "}});\n",
       "\n",
       "// Listen for the removal of the full notebook cells\n",
       "var notebookContainer = gd.closest('#notebook-container');\n",
       "if (notebookContainer) {{\n",
       "    x.observe(notebookContainer, {childList: true});\n",
       "}}\n",
       "\n",
       "// Listen for the clearing of the current output cell\n",
       "var outputEl = gd.closest('.output');\n",
       "if (outputEl) {{\n",
       "    x.observe(outputEl, {childList: true});\n",
       "}}\n",
       "\n",
       "                        })                };                });            </script>        </div>"
      ]
     },
     "metadata": {},
     "output_type": "display_data"
    },
    {
     "data": {
      "application/vnd.plotly.v1+json": {
       "config": {
        "plotlyServerURL": "https://plot.ly"
       },
       "data": [
        {
         "bingroup": "a",
         "name": "Mean Similarity with GT Defs",
         "type": "histogram",
         "x": [
          0.6919512748718262,
          0.7230426669120789,
          0.5402790904045105,
          0.7238982915878296,
          0.6158732175827026,
          0.7735217213630676,
          0.75986647605896,
          0.4361041188240051,
          0.8778166770935059,
          0.7324565649032593,
          0.8058738708496094,
          0.7044485807418823,
          0.65766841173172,
          0.7323249578475952,
          0.2248542755842209,
          0.6531723737716675,
          0.7200948596000671,
          0.7069284319877625,
          0.8892389535903931,
          0.6744986176490784,
          0.7089102268218994,
          0.6779278516769409,
          0.743794858455658,
          0.8880074620246887,
          0.6872395277023315,
          0.5291885137557983,
          0.7532333731651306,
          0.5949694514274597,
          0.7998383641242981,
          0.7798687219619751,
          0.7193538546562195,
          0.7140918970108032,
          0.8052165508270264,
          0.4741555154323578,
          0.6181286573410034,
          0.8839166164398193,
          0.620172381401062,
          0.8368512392044067,
          0.7625223994255066,
          0.7387531995773315,
          0.7772408723831177,
          0.5043814778327942,
          0.5076387524604797,
          0.4955143928527832,
          0.6380251049995422,
          0.5405858159065247,
          0.4790022373199463,
          0.6485103368759155,
          0.26762041449546814,
          0.6175541281700134,
          0.6576322913169861,
          0.6674203276634216,
          0.8163358569145203,
          0.7416839003562927,
          0.5791212320327759,
          0.6175800561904907,
          0.5658051371574402,
          0.6511562466621399,
          0.648197591304779,
          0.7556148767471313,
          0.7055992484092712,
          0.5803994536399841,
          0.7193533182144165,
          0.672697901725769,
          0.3983142673969269,
          0.7377917766571045,
          0.8525972366333008,
          0.7602550387382507,
          0.5029295086860657,
          0.7662956118583679,
          0.7128176689147949,
          0.6907140016555786,
          0.653084397315979,
          0.6540029644966125,
          0.702610433101654,
          0.7514095902442932,
          0.7943137884140015,
          0.7134721279144287,
          0.823815643787384,
          0.7689438462257385,
          0.8117737174034119,
          0.7603403925895691,
          0.3764713406562805,
          0.8126458525657654,
          0.7604951858520508,
          0.5028267502784729,
          0.7599004507064819,
          0.6807958483695984,
          0.5962672829627991,
          0.7497174739837646,
          0.475506067276001,
          0.74229496717453,
          0.7927016019821167,
          0.3262740671634674,
          0.7696110010147095,
          0.39586779475212097,
          0.6786414980888367,
          0.639351487159729,
          0.20131900906562805,
          0.8110069632530212,
          0.8146236538887024,
          0.5051631331443787,
          0.5931283235549927,
          0.5323721170425415,
          0.6821027994155884,
          0.739250898361206,
          0.5900522470474243,
          0.8144233226776123,
          0.7179316282272339,
          0.6545842885971069,
          0.662142813205719,
          0.6065994501113892,
          0.5900213718414307,
          0.8636559247970581,
          0.8841065764427185,
          0.8158642053604126,
          0.5971701145172119,
          0.7328819036483765,
          0.5947851538658142,
          0.5847252011299133,
          0.5977790355682373,
          0.7428202629089355,
          0.8049495816230774,
          0.7847446203231812,
          0.6378654837608337,
          0.6248183250427246,
          0.7271812558174133,
          0.8307847380638123,
          0.7345017790794373,
          0.7432473301887512,
          0.6697683334350586,
          0.8431440591812134,
          0.6820711493492126,
          0.7636226415634155,
          0.8939960598945618,
          0.7443353533744812,
          0.7917444109916687,
          0.639043927192688,
          0.7373991012573242,
          0.6887115240097046,
          0.7110482454299927,
          0.7576415538787842,
          0.8697536587715149,
          0.617578387260437,
          0.8032272458076477,
          0.7523653507232666,
          0.6988703608512878,
          0.808698832988739,
          0.7181657552719116,
          0.5332497954368591,
          0.7006592750549316,
          0.7741758227348328,
          0.5640067458152771,
          0.8137253522872925,
          0.5449020862579346,
          0.6628082990646362
         ],
         "xaxis": "x",
         "yaxis": "y"
        },
        {
         "bingroup": "a",
         "name": "Similarity with Mean Embedding of GT Defs",
         "type": "histogram",
         "x": [
          0.8789528608322144,
          0.8843592405319214,
          0.7514277696609497,
          0.8631633520126343,
          0.8709753751754761,
          0.9123615026473999,
          0.9215208292007446,
          0.6069462299346924,
          0.9703258275985718,
          0.9071872234344482,
          0.9449815154075623,
          0.8354041576385498,
          0.8290396332740784,
          0.9027964472770691,
          0.4154812693595886,
          0.864067792892456,
          0.8610309958457947,
          0.8847181797027588,
          0.9681082963943481,
          0.8764908909797668,
          0.859646737575531,
          0.9197416305541992,
          0.902597188949585,
          0.969224214553833,
          0.8782450556755066,
          0.6901775598526001,
          0.8744956851005554,
          0.7608960270881653,
          0.9435172080993652,
          0.9189610481262207,
          0.857027530670166,
          0.8964487314224243,
          0.9346884489059448,
          0.7175483107566833,
          0.8053727149963379,
          0.9616867899894714,
          0.8035658001899719,
          0.9423089027404785,
          0.9082948565483093,
          0.9069254994392395,
          0.9010512828826904,
          0.8454957008361816,
          0.6685796976089478,
          0.6584120988845825,
          0.8119380474090576,
          0.7378162145614624,
          0.7370602488517761,
          0.7948771119117737,
          0.5742375254631042,
          0.7969452142715454,
          0.8303062915802002,
          0.8829261064529419,
          0.9336031675338745,
          0.9485858082771301,
          0.7692595720291138,
          0.7942327857017517,
          0.7243984937667847,
          0.8442913889884949,
          0.8278735876083374,
          0.8975830078125,
          0.9231722950935364,
          0.8102135062217712,
          0.8747962117195129,
          0.8617879152297974,
          0.5335655212402344,
          0.8800601959228516,
          0.9709106087684631,
          0.9032706022262573,
          0.7730914354324341,
          0.8951270580291748,
          0.8882917761802673,
          0.8579768538475037,
          0.854509711265564,
          0.8256869316101074,
          0.8611511588096619,
          0.8815919160842896,
          0.9329147338867188,
          0.8741530179977417,
          0.9522960186004639,
          0.8993651866912842,
          0.9359263777732849,
          0.9393924474716187,
          0.5813392400741577,
          0.9283360242843628,
          0.9266199469566345,
          0.7642769813537598,
          0.9053683280944824,
          0.8369931578636169,
          0.7839858531951904,
          0.9317315816879272,
          0.7324087023735046,
          0.8738298416137695,
          0.9499921798706055,
          0.5702705383300781,
          0.9196693897247314,
          0.5342638492584229,
          0.8555393815040588,
          0.8417550325393677,
          0.37763598561286926,
          0.9358143210411072,
          0.9499036073684692,
          0.7122429013252258,
          0.8088270425796509,
          0.7169089317321777,
          0.8879690766334534,
          0.8848400712013245,
          0.7903995513916016,
          0.9444411993026733,
          0.8726561665534973,
          0.9045370817184448,
          0.8419857621192932,
          0.8058590888977051,
          0.7811793088912964,
          0.949256420135498,
          0.9692081809043884,
          0.9409497976303101,
          0.7334826588630676,
          0.8775061368942261,
          0.822087287902832,
          0.7992225885391235,
          0.8194937705993652,
          0.9123961925506592,
          0.9272310733795166,
          0.8983203768730164,
          0.858911395072937,
          0.7893474102020264,
          0.8742414116859436,
          0.951852560043335,
          0.8761047124862671,
          0.8927302360534668,
          0.8028180599212646,
          0.944828987121582,
          0.820457935333252,
          0.9032670855522156,
          0.9706199169158936,
          0.8677811622619629,
          0.93482506275177,
          0.8245823383331299,
          0.8984391689300537,
          0.8421187400817871,
          0.8720971941947937,
          0.9636483192443848,
          0.9649375677108765,
          0.8666749000549316,
          0.9267884492874146,
          0.8736941814422607,
          0.8349331617355347,
          0.9151233434677124,
          0.871526837348938,
          0.8083298206329346,
          0.8845542669296265,
          0.9035024046897888,
          0.7502460479736328,
          0.9575089812278748,
          0.79343581199646,
          0.8820064067840576
         ],
         "xaxis": "x2",
         "yaxis": "y2"
        },
        {
         "bingroup": "a",
         "name": "Max Similarity with GT Defs",
         "type": "histogram",
         "x": [
          0.783312201499939,
          0.7609668970108032,
          0.7858319878578186,
          0.8321362733840942,
          0.7834972739219666,
          0.8830534219741821,
          0.9989432692527771,
          0.624550461769104,
          0.9392654895782471,
          0.9050062894821167,
          0.8846652507781982,
          0.7832778096199036,
          0.7892491817474365,
          0.8499236106872559,
          0.33049026131629944,
          0.7804423570632935,
          0.7738234996795654,
          0.8666044473648071,
          0.9154230356216431,
          0.9171183705329895,
          0.823570728302002,
          0.9857532978057861,
          0.9991143345832825,
          0.9889189600944519,
          0.8502770662307739,
          0.5823996067047119,
          0.9320113062858582,
          0.6885248422622681,
          0.8104314804077148,
          0.8299217224121094,
          0.8487316370010376,
          0.9421366453170776,
          0.9704946279525757,
          0.8334283828735352,
          0.6757373809814453,
          0.9500927925109863,
          0.7541992664337158,
          0.935041606426239,
          0.9977096319198608,
          0.9148118495941162,
          0.8465656042098999,
          0.7339358329772949,
          0.6761267185211182,
          0.9041564464569092,
          0.9004400372505188,
          0.608176589012146,
          0.710681140422821,
          0.7419751882553101,
          0.3492071330547333,
          0.6865345239639282,
          0.7982418537139893,
          0.7732973694801331,
          0.8793882727622986,
          0.9126930236816406,
          0.7343267798423767,
          0.6506523489952087,
          0.6466792225837708,
          0.7618253231048584,
          0.7258260250091553,
          0.8733534812927246,
          0.8606839776039124,
          0.8296051025390625,
          0.8532992601394653,
          0.7968056201934814,
          0.6106604337692261,
          0.7685037851333618,
          0.984447181224823,
          0.8548782467842102,
          0.5761035680770874,
          0.8153836727142334,
          0.8918428421020508,
          0.7213459610939026,
          0.8750070929527283,
          0.7918707728385925,
          0.7917845249176025,
          0.9199119210243225,
          0.8637864589691162,
          0.8108899593353271,
          0.9105618596076965,
          0.8708018064498901,
          0.9677320718765259,
          0.7603403925895691,
          0.5090973377227783,
          0.8734961748123169,
          0.8817894458770752,
          0.7027047872543335,
          0.7667953968048096,
          0.8461512327194214,
          0.6544584035873413,
          0.8404316902160645,
          0.6244033575057983,
          0.8358777761459351,
          0.7927016019821167,
          0.3974439203739166,
          0.9853212833404541,
          0.657418966293335,
          0.754531741142273,
          0.8476767539978027,
          0.36393147706985474,
          0.8901540040969849,
          0.8563759326934814,
          0.5404059886932373,
          0.6826291084289551,
          0.6285575032234192,
          0.8367310762405396,
          0.8962047100067139,
          0.7056583166122437,
          0.8944151997566223,
          0.85236656665802,
          0.8515169620513916,
          0.7672510743141174,
          0.682347297668457,
          0.7038013339042664,
          0.9975407719612122,
          0.9690575003623962,
          0.9386348724365234,
          0.730793297290802,
          0.8874174356460571,
          0.8734890222549438,
          0.7307277917861938,
          0.7406936883926392,
          0.7921253442764282,
          0.8665241003036499,
          0.8172925710678101,
          0.7738373279571533,
          0.7397462725639343,
          0.8831442594528198,
          0.9319230318069458,
          0.8089960813522339,
          0.8217263221740723,
          0.8185203075408936,
          0.9495769739151001,
          0.8585532903671265,
          0.8912845849990845,
          0.9959747791290283,
          0.7865320444107056,
          0.8789433240890503,
          0.8219318389892578,
          0.7676273584365845,
          0.8035902380943298,
          0.8000050783157349,
          0.9892137050628662,
          0.9971498250961304,
          0.8884434103965759,
          0.9128121733665466,
          0.8532784581184387,
          0.7868664860725403,
          0.8822683691978455,
          0.8799518346786499,
          0.6957879066467285,
          0.7962478399276733,
          0.9002155065536499,
          0.6411841511726379,
          0.9878121614456177,
          0.6106163263320923,
          0.9141590595245361
         ],
         "xaxis": "x3",
         "yaxis": "y3"
        },
        {
         "bingroup": "a",
         "name": "Mean Similarity with Other Words",
         "type": "histogram",
         "x": [
          0.20784389972686768,
          0.13622966408729553,
          0.24050500988960266,
          0.20658503472805023,
          0.1093250960111618,
          0.09775721281766891,
          0.2714119851589203,
          0.21373917162418365,
          0.22186554968357086,
          0.20469914376735687,
          0.23340177536010742,
          0.15490341186523438,
          0.10587013512849808,
          0.24051330983638763,
          0.2641986310482025,
          0.1744799017906189,
          0.2764427661895752,
          0.2744012475013733,
          0.08955169469118118,
          0.13658110797405243,
          0.17463158071041107,
          0.10036945343017578,
          0.20118378102779388,
          0.24001963436603546,
          0.2278800904750824,
          0.17576046288013458,
          0.15216952562332153,
          0.2860657572746277,
          0.10715287923812866,
          0.24372124671936035,
          0.1660749316215515,
          0.13127180933952332,
          0.16823239624500275,
          0.20501701533794403,
          0.16607682406902313,
          0.16255070269107819,
          0.13539856672286987,
          0.23248033225536346,
          0.19588586688041687,
          0.26632970571517944,
          0.08606663346290588,
          0.3052087426185608,
          0.14777472615242004,
          0.2390071302652359,
          0.23005777597427368,
          0.2976747751235962,
          0.23749788105487823,
          0.24968814849853516,
          0.26150867342948914,
          0.20341388881206512,
          0.21013495326042175,
          0.2530806362628937,
          0.1580640822649002,
          0.19372889399528503,
          0.23300474882125854,
          0.12335820496082306,
          0.2549281418323517,
          0.2627754509449005,
          0.17321044206619263,
          0.27229729294776917,
          0.1740843951702118,
          0.22527669370174408,
          0.22675681114196777,
          0.13813571631908417,
          0.24032926559448242,
          0.18750625848770142,
          0.10863107442855835,
          0.25219205021858215,
          0.13525070250034332,
          0.1640995889902115,
          0.15949426591396332,
          0.2846265733242035,
          0.23491016030311584,
          0.15802213549613953,
          0.1958087682723999,
          0.14583419263362885,
          0.17139267921447754,
          0.268020898103714,
          0.13061071932315826,
          0.21354065835475922,
          0.21595053374767303,
          0.24086374044418335,
          0.236869677901268,
          0.24487094581127167,
          0.2373737394809723,
          0.2053956836462021,
          0.1969432532787323,
          0.12428650259971619,
          0.24443241953849792,
          0.2636919617652893,
          0.10328757762908936,
          0.27515909075737,
          0.18182490766048431,
          0.13885484635829926,
          0.25473153591156006,
          0.19716110825538635,
          0.2201559692621231,
          0.11419793963432312,
          0.13968013226985931,
          0.22929832339286804,
          0.23225142061710358,
          0.1603161096572876,
          0.1790665239095688,
          0.17831148207187653,
          0.2629111409187317,
          0.1550358682870865,
          0.15754006803035736,
          0.28372815251350403,
          0.1973365843296051,
          0.1687387228012085,
          0.1562894731760025,
          0.10242310911417007,
          0.10956117510795593,
          0.14315813779830933,
          0.22444094717502594,
          0.21148207783699036,
          0.07142617553472519,
          0.24532122910022736,
          0.2053421139717102,
          0.13739603757858276,
          0.20481497049331665,
          0.1880813091993332,
          0.3110814690589905,
          0.2608003318309784,
          0.21175584197044373,
          0.2161015123128891,
          0.18734005093574524,
          0.2572622299194336,
          0.20481111109256744,
          0.1573992818593979,
          0.19912001490592957,
          0.17191912233829498,
          0.1584988683462143,
          0.165579155087471,
          0.22869238257408142,
          0.2203092873096466,
          0.17538726329803467,
          0.18311291933059692,
          0.23579959571361542,
          0.07636570185422897,
          0.2768373489379883,
          0.262287974357605,
          0.24022795259952545,
          0.161142498254776,
          0.19031891226768494,
          0.23146319389343262,
          0.13348086178302765,
          0.1871914118528366,
          0.20850808918476105,
          0.25735753774642944,
          0.25041425228118896,
          0.198904886841774,
          0.24434736371040344,
          0.22711767256259918,
          0.24746830761432648,
          0.25527653098106384
         ],
         "xaxis": "x4",
         "yaxis": "y4"
        },
        {
         "bingroup": "a",
         "name": "Max Similarity with Other Words",
         "type": "histogram",
         "x": [
          0.7489346265792847,
          0.8759602904319763,
          0.7134155035018921,
          0.6310486793518066,
          0.4965329170227051,
          0.5574438571929932,
          0.7006332874298096,
          0.6515605449676514,
          0.792212724685669,
          0.8097285032272339,
          0.6123267412185669,
          0.6420354843139648,
          0.5419890880584717,
          0.7868138551712036,
          0.6431902647018433,
          0.5050215125083923,
          0.7731334567070007,
          0.8282667398452759,
          0.7657852172851562,
          0.507743239402771,
          0.5921106338500977,
          0.3648075759410858,
          0.6120789647102356,
          0.6291552782058716,
          0.7256876230239868,
          0.5757177472114563,
          0.5337665677070618,
          0.7173144817352295,
          0.6108167171478271,
          0.8495017886161804,
          0.6160879135131836,
          0.8634066581726074,
          0.6027478575706482,
          0.6490046977996826,
          0.6905035972595215,
          0.7416229248046875,
          0.6880590319633484,
          0.6036038398742676,
          0.8075040578842163,
          0.8943983316421509,
          0.5767126083374023,
          0.7805421948432922,
          0.9966422319412231,
          0.5587427616119385,
          0.6548272967338562,
          0.6462689638137817,
          0.8524719476699829,
          0.678594708442688,
          0.8441847562789917,
          0.5741596817970276,
          0.8010939359664917,
          0.686876654624939,
          0.6560237407684326,
          0.8558985590934753,
          0.559256374835968,
          0.5882809162139893,
          0.5492881536483765,
          0.7609860897064209,
          0.6338775157928467,
          0.7040738463401794,
          0.6335703730583191,
          0.7872462272644043,
          0.7584154605865479,
          0.8679357767105103,
          0.7067239284515381,
          0.6933838129043579,
          0.8013038039207458,
          0.7904456853866577,
          0.7813991904258728,
          0.7496458292007446,
          0.6791621446609497,
          0.861000120639801,
          0.7861167192459106,
          0.49827587604522705,
          0.7051801681518555,
          0.512182354927063,
          0.4915080666542053,
          0.736580491065979,
          0.6007336378097534,
          0.7873705625534058,
          0.7422558069229126,
          0.6869217157363892,
          0.7610517740249634,
          0.8610001802444458,
          0.8168236017227173,
          0.8229262828826904,
          0.7949512004852295,
          0.6317741274833679,
          0.6359215378761292,
          0.6591945886611938,
          0.3529687821865082,
          0.7352383136749268,
          0.8080589175224304,
          0.6965218186378479,
          0.7212492823600769,
          0.7932446599006653,
          0.8078572154045105,
          0.5023671388626099,
          0.476926326751709,
          0.7690523266792297,
          0.875575065612793,
          0.6925454139709473,
          0.6746068000793457,
          0.7238943576812744,
          0.7166695594787598,
          0.6204897165298462,
          0.6079093217849731,
          0.7194991111755371,
          0.7089919447898865,
          0.5177894830703735,
          0.6830630302429199,
          0.7111115455627441,
          0.6169143915176392,
          0.5964093208312988,
          0.614099383354187,
          0.7393208146095276,
          0.41848087310791016,
          0.8396517038345337,
          0.6034822463989258,
          0.6606374382972717,
          0.6165900826454163,
          0.7993584275245667,
          0.8708882927894592,
          0.8361513614654541,
          0.6527222990989685,
          0.866557240486145,
          0.6018234491348267,
          0.899966835975647,
          0.7800140380859375,
          0.6033070087432861,
          0.5484490394592285,
          0.6219192147254944,
          0.5059310793876648,
          0.8229262828826904,
          0.5137025117874146,
          0.8020427227020264,
          0.7094147801399231,
          0.5990478992462158,
          0.6249884366989136,
          0.30004775524139404,
          0.7738789916038513,
          0.7425687909126282,
          0.7376322150230408,
          0.7590643763542175,
          0.6513659954071045,
          0.8597217202186584,
          0.7474121451377869,
          0.6544278860092163,
          0.8954817056655884,
          0.602691650390625,
          0.6467130184173584,
          0.7252265810966492,
          0.8168236017227173,
          0.7449113130569458,
          0.5834820866584778,
          0.7150607109069824
         ],
         "xaxis": "x5",
         "yaxis": "y5"
        }
       ],
       "layout": {
        "annotations": [
         {
          "font": {
           "size": 16
          },
          "showarrow": false,
          "text": "Mean Similarity with GT Defs",
          "x": 0.14444444444444446,
          "xanchor": "center",
          "xref": "paper",
          "y": 1,
          "yanchor": "bottom",
          "yref": "paper"
         },
         {
          "font": {
           "size": 16
          },
          "showarrow": false,
          "text": "Similarity with Mean Embedding of GT Defs",
          "x": 0.5,
          "xanchor": "center",
          "xref": "paper",
          "y": 1,
          "yanchor": "bottom",
          "yref": "paper"
         },
         {
          "font": {
           "size": 16
          },
          "showarrow": false,
          "text": "Max Similarity with GT Defs",
          "x": 0.8555555555555556,
          "xanchor": "center",
          "xref": "paper",
          "y": 1,
          "yanchor": "bottom",
          "yref": "paper"
         },
         {
          "font": {
           "size": 16
          },
          "showarrow": false,
          "text": "Mean Similarity with Other Words",
          "x": 0.14444444444444446,
          "xanchor": "center",
          "xref": "paper",
          "y": 0.375,
          "yanchor": "bottom",
          "yref": "paper"
         },
         {
          "font": {
           "size": 16
          },
          "showarrow": false,
          "text": "Max Similarity with Other Words",
          "x": 0.5,
          "xanchor": "center",
          "xref": "paper",
          "y": 0.375,
          "yanchor": "bottom",
          "yref": "paper"
         }
        ],
        "height": 800,
        "showlegend": false,
        "template": {
         "data": {
          "bar": [
           {
            "error_x": {
             "color": "#2a3f5f"
            },
            "error_y": {
             "color": "#2a3f5f"
            },
            "marker": {
             "line": {
              "color": "#E5ECF6",
              "width": 0.5
             },
             "pattern": {
              "fillmode": "overlay",
              "size": 10,
              "solidity": 0.2
             }
            },
            "type": "bar"
           }
          ],
          "barpolar": [
           {
            "marker": {
             "line": {
              "color": "#E5ECF6",
              "width": 0.5
             },
             "pattern": {
              "fillmode": "overlay",
              "size": 10,
              "solidity": 0.2
             }
            },
            "type": "barpolar"
           }
          ],
          "carpet": [
           {
            "aaxis": {
             "endlinecolor": "#2a3f5f",
             "gridcolor": "white",
             "linecolor": "white",
             "minorgridcolor": "white",
             "startlinecolor": "#2a3f5f"
            },
            "baxis": {
             "endlinecolor": "#2a3f5f",
             "gridcolor": "white",
             "linecolor": "white",
             "minorgridcolor": "white",
             "startlinecolor": "#2a3f5f"
            },
            "type": "carpet"
           }
          ],
          "choropleth": [
           {
            "colorbar": {
             "outlinewidth": 0,
             "ticks": ""
            },
            "type": "choropleth"
           }
          ],
          "contour": [
           {
            "colorbar": {
             "outlinewidth": 0,
             "ticks": ""
            },
            "colorscale": [
             [
              0,
              "#0d0887"
             ],
             [
              0.1111111111111111,
              "#46039f"
             ],
             [
              0.2222222222222222,
              "#7201a8"
             ],
             [
              0.3333333333333333,
              "#9c179e"
             ],
             [
              0.4444444444444444,
              "#bd3786"
             ],
             [
              0.5555555555555556,
              "#d8576b"
             ],
             [
              0.6666666666666666,
              "#ed7953"
             ],
             [
              0.7777777777777778,
              "#fb9f3a"
             ],
             [
              0.8888888888888888,
              "#fdca26"
             ],
             [
              1,
              "#f0f921"
             ]
            ],
            "type": "contour"
           }
          ],
          "contourcarpet": [
           {
            "colorbar": {
             "outlinewidth": 0,
             "ticks": ""
            },
            "type": "contourcarpet"
           }
          ],
          "heatmap": [
           {
            "colorbar": {
             "outlinewidth": 0,
             "ticks": ""
            },
            "colorscale": [
             [
              0,
              "#0d0887"
             ],
             [
              0.1111111111111111,
              "#46039f"
             ],
             [
              0.2222222222222222,
              "#7201a8"
             ],
             [
              0.3333333333333333,
              "#9c179e"
             ],
             [
              0.4444444444444444,
              "#bd3786"
             ],
             [
              0.5555555555555556,
              "#d8576b"
             ],
             [
              0.6666666666666666,
              "#ed7953"
             ],
             [
              0.7777777777777778,
              "#fb9f3a"
             ],
             [
              0.8888888888888888,
              "#fdca26"
             ],
             [
              1,
              "#f0f921"
             ]
            ],
            "type": "heatmap"
           }
          ],
          "heatmapgl": [
           {
            "colorbar": {
             "outlinewidth": 0,
             "ticks": ""
            },
            "colorscale": [
             [
              0,
              "#0d0887"
             ],
             [
              0.1111111111111111,
              "#46039f"
             ],
             [
              0.2222222222222222,
              "#7201a8"
             ],
             [
              0.3333333333333333,
              "#9c179e"
             ],
             [
              0.4444444444444444,
              "#bd3786"
             ],
             [
              0.5555555555555556,
              "#d8576b"
             ],
             [
              0.6666666666666666,
              "#ed7953"
             ],
             [
              0.7777777777777778,
              "#fb9f3a"
             ],
             [
              0.8888888888888888,
              "#fdca26"
             ],
             [
              1,
              "#f0f921"
             ]
            ],
            "type": "heatmapgl"
           }
          ],
          "histogram": [
           {
            "marker": {
             "pattern": {
              "fillmode": "overlay",
              "size": 10,
              "solidity": 0.2
             }
            },
            "type": "histogram"
           }
          ],
          "histogram2d": [
           {
            "colorbar": {
             "outlinewidth": 0,
             "ticks": ""
            },
            "colorscale": [
             [
              0,
              "#0d0887"
             ],
             [
              0.1111111111111111,
              "#46039f"
             ],
             [
              0.2222222222222222,
              "#7201a8"
             ],
             [
              0.3333333333333333,
              "#9c179e"
             ],
             [
              0.4444444444444444,
              "#bd3786"
             ],
             [
              0.5555555555555556,
              "#d8576b"
             ],
             [
              0.6666666666666666,
              "#ed7953"
             ],
             [
              0.7777777777777778,
              "#fb9f3a"
             ],
             [
              0.8888888888888888,
              "#fdca26"
             ],
             [
              1,
              "#f0f921"
             ]
            ],
            "type": "histogram2d"
           }
          ],
          "histogram2dcontour": [
           {
            "colorbar": {
             "outlinewidth": 0,
             "ticks": ""
            },
            "colorscale": [
             [
              0,
              "#0d0887"
             ],
             [
              0.1111111111111111,
              "#46039f"
             ],
             [
              0.2222222222222222,
              "#7201a8"
             ],
             [
              0.3333333333333333,
              "#9c179e"
             ],
             [
              0.4444444444444444,
              "#bd3786"
             ],
             [
              0.5555555555555556,
              "#d8576b"
             ],
             [
              0.6666666666666666,
              "#ed7953"
             ],
             [
              0.7777777777777778,
              "#fb9f3a"
             ],
             [
              0.8888888888888888,
              "#fdca26"
             ],
             [
              1,
              "#f0f921"
             ]
            ],
            "type": "histogram2dcontour"
           }
          ],
          "mesh3d": [
           {
            "colorbar": {
             "outlinewidth": 0,
             "ticks": ""
            },
            "type": "mesh3d"
           }
          ],
          "parcoords": [
           {
            "line": {
             "colorbar": {
              "outlinewidth": 0,
              "ticks": ""
             }
            },
            "type": "parcoords"
           }
          ],
          "pie": [
           {
            "automargin": true,
            "type": "pie"
           }
          ],
          "scatter": [
           {
            "fillpattern": {
             "fillmode": "overlay",
             "size": 10,
             "solidity": 0.2
            },
            "type": "scatter"
           }
          ],
          "scatter3d": [
           {
            "line": {
             "colorbar": {
              "outlinewidth": 0,
              "ticks": ""
             }
            },
            "marker": {
             "colorbar": {
              "outlinewidth": 0,
              "ticks": ""
             }
            },
            "type": "scatter3d"
           }
          ],
          "scattercarpet": [
           {
            "marker": {
             "colorbar": {
              "outlinewidth": 0,
              "ticks": ""
             }
            },
            "type": "scattercarpet"
           }
          ],
          "scattergeo": [
           {
            "marker": {
             "colorbar": {
              "outlinewidth": 0,
              "ticks": ""
             }
            },
            "type": "scattergeo"
           }
          ],
          "scattergl": [
           {
            "marker": {
             "colorbar": {
              "outlinewidth": 0,
              "ticks": ""
             }
            },
            "type": "scattergl"
           }
          ],
          "scattermapbox": [
           {
            "marker": {
             "colorbar": {
              "outlinewidth": 0,
              "ticks": ""
             }
            },
            "type": "scattermapbox"
           }
          ],
          "scatterpolar": [
           {
            "marker": {
             "colorbar": {
              "outlinewidth": 0,
              "ticks": ""
             }
            },
            "type": "scatterpolar"
           }
          ],
          "scatterpolargl": [
           {
            "marker": {
             "colorbar": {
              "outlinewidth": 0,
              "ticks": ""
             }
            },
            "type": "scatterpolargl"
           }
          ],
          "scatterternary": [
           {
            "marker": {
             "colorbar": {
              "outlinewidth": 0,
              "ticks": ""
             }
            },
            "type": "scatterternary"
           }
          ],
          "surface": [
           {
            "colorbar": {
             "outlinewidth": 0,
             "ticks": ""
            },
            "colorscale": [
             [
              0,
              "#0d0887"
             ],
             [
              0.1111111111111111,
              "#46039f"
             ],
             [
              0.2222222222222222,
              "#7201a8"
             ],
             [
              0.3333333333333333,
              "#9c179e"
             ],
             [
              0.4444444444444444,
              "#bd3786"
             ],
             [
              0.5555555555555556,
              "#d8576b"
             ],
             [
              0.6666666666666666,
              "#ed7953"
             ],
             [
              0.7777777777777778,
              "#fb9f3a"
             ],
             [
              0.8888888888888888,
              "#fdca26"
             ],
             [
              1,
              "#f0f921"
             ]
            ],
            "type": "surface"
           }
          ],
          "table": [
           {
            "cells": {
             "fill": {
              "color": "#EBF0F8"
             },
             "line": {
              "color": "white"
             }
            },
            "header": {
             "fill": {
              "color": "#C8D4E3"
             },
             "line": {
              "color": "white"
             }
            },
            "type": "table"
           }
          ]
         },
         "layout": {
          "annotationdefaults": {
           "arrowcolor": "#2a3f5f",
           "arrowhead": 0,
           "arrowwidth": 1
          },
          "autotypenumbers": "strict",
          "coloraxis": {
           "colorbar": {
            "outlinewidth": 0,
            "ticks": ""
           }
          },
          "colorscale": {
           "diverging": [
            [
             0,
             "#8e0152"
            ],
            [
             0.1,
             "#c51b7d"
            ],
            [
             0.2,
             "#de77ae"
            ],
            [
             0.3,
             "#f1b6da"
            ],
            [
             0.4,
             "#fde0ef"
            ],
            [
             0.5,
             "#f7f7f7"
            ],
            [
             0.6,
             "#e6f5d0"
            ],
            [
             0.7,
             "#b8e186"
            ],
            [
             0.8,
             "#7fbc41"
            ],
            [
             0.9,
             "#4d9221"
            ],
            [
             1,
             "#276419"
            ]
           ],
           "sequential": [
            [
             0,
             "#0d0887"
            ],
            [
             0.1111111111111111,
             "#46039f"
            ],
            [
             0.2222222222222222,
             "#7201a8"
            ],
            [
             0.3333333333333333,
             "#9c179e"
            ],
            [
             0.4444444444444444,
             "#bd3786"
            ],
            [
             0.5555555555555556,
             "#d8576b"
            ],
            [
             0.6666666666666666,
             "#ed7953"
            ],
            [
             0.7777777777777778,
             "#fb9f3a"
            ],
            [
             0.8888888888888888,
             "#fdca26"
            ],
            [
             1,
             "#f0f921"
            ]
           ],
           "sequentialminus": [
            [
             0,
             "#0d0887"
            ],
            [
             0.1111111111111111,
             "#46039f"
            ],
            [
             0.2222222222222222,
             "#7201a8"
            ],
            [
             0.3333333333333333,
             "#9c179e"
            ],
            [
             0.4444444444444444,
             "#bd3786"
            ],
            [
             0.5555555555555556,
             "#d8576b"
            ],
            [
             0.6666666666666666,
             "#ed7953"
            ],
            [
             0.7777777777777778,
             "#fb9f3a"
            ],
            [
             0.8888888888888888,
             "#fdca26"
            ],
            [
             1,
             "#f0f921"
            ]
           ]
          },
          "colorway": [
           "#636efa",
           "#EF553B",
           "#00cc96",
           "#ab63fa",
           "#FFA15A",
           "#19d3f3",
           "#FF6692",
           "#B6E880",
           "#FF97FF",
           "#FECB52"
          ],
          "font": {
           "color": "#2a3f5f"
          },
          "geo": {
           "bgcolor": "white",
           "lakecolor": "white",
           "landcolor": "#E5ECF6",
           "showlakes": true,
           "showland": true,
           "subunitcolor": "white"
          },
          "hoverlabel": {
           "align": "left"
          },
          "hovermode": "closest",
          "mapbox": {
           "style": "light"
          },
          "paper_bgcolor": "white",
          "plot_bgcolor": "#E5ECF6",
          "polar": {
           "angularaxis": {
            "gridcolor": "white",
            "linecolor": "white",
            "ticks": ""
           },
           "bgcolor": "#E5ECF6",
           "radialaxis": {
            "gridcolor": "white",
            "linecolor": "white",
            "ticks": ""
           }
          },
          "scene": {
           "xaxis": {
            "backgroundcolor": "#E5ECF6",
            "gridcolor": "white",
            "gridwidth": 2,
            "linecolor": "white",
            "showbackground": true,
            "ticks": "",
            "zerolinecolor": "white"
           },
           "yaxis": {
            "backgroundcolor": "#E5ECF6",
            "gridcolor": "white",
            "gridwidth": 2,
            "linecolor": "white",
            "showbackground": true,
            "ticks": "",
            "zerolinecolor": "white"
           },
           "zaxis": {
            "backgroundcolor": "#E5ECF6",
            "gridcolor": "white",
            "gridwidth": 2,
            "linecolor": "white",
            "showbackground": true,
            "ticks": "",
            "zerolinecolor": "white"
           }
          },
          "shapedefaults": {
           "line": {
            "color": "#2a3f5f"
           }
          },
          "ternary": {
           "aaxis": {
            "gridcolor": "white",
            "linecolor": "white",
            "ticks": ""
           },
           "baxis": {
            "gridcolor": "white",
            "linecolor": "white",
            "ticks": ""
           },
           "bgcolor": "#E5ECF6",
           "caxis": {
            "gridcolor": "white",
            "linecolor": "white",
            "ticks": ""
           }
          },
          "title": {
           "x": 0.05
          },
          "xaxis": {
           "automargin": true,
           "gridcolor": "white",
           "linecolor": "white",
           "ticks": "",
           "title": {
            "standoff": 15
           },
           "zerolinecolor": "white",
           "zerolinewidth": 2
          },
          "yaxis": {
           "automargin": true,
           "gridcolor": "white",
           "linecolor": "white",
           "ticks": "",
           "title": {
            "standoff": 15
           },
           "zerolinecolor": "white",
           "zerolinewidth": 2
          }
         }
        },
        "title": {
         "text": "Definition Embedding Comparison Metrics - Random GT definition"
        },
        "width": 1200,
        "xaxis": {
         "anchor": "y",
         "domain": [
          0,
          0.2888888888888889
         ],
         "range": [
          0,
          1
         ],
         "title": {
          "text": "Similarity Score"
         }
        },
        "xaxis2": {
         "anchor": "y2",
         "domain": [
          0.35555555555555557,
          0.6444444444444445
         ],
         "range": [
          0,
          1
         ],
         "title": {
          "text": "Similarity Score"
         }
        },
        "xaxis3": {
         "anchor": "y3",
         "domain": [
          0.7111111111111111,
          1
         ],
         "range": [
          0,
          1
         ],
         "title": {
          "text": "Similarity Score"
         }
        },
        "xaxis4": {
         "anchor": "y4",
         "domain": [
          0,
          0.2888888888888889
         ],
         "range": [
          0,
          1
         ],
         "title": {
          "text": "Similarity Score"
         }
        },
        "xaxis5": {
         "anchor": "y5",
         "domain": [
          0.35555555555555557,
          0.6444444444444445
         ],
         "range": [
          0,
          1
         ],
         "title": {
          "text": "Similarity Score"
         }
        },
        "xaxis6": {
         "anchor": "y6",
         "domain": [
          0.7111111111111111,
          1
         ]
        },
        "yaxis": {
         "anchor": "x",
         "domain": [
          0.625,
          1
         ],
         "title": {
          "text": "Count"
         }
        },
        "yaxis2": {
         "anchor": "x2",
         "domain": [
          0.625,
          1
         ],
         "title": {
          "text": "Count"
         }
        },
        "yaxis3": {
         "anchor": "x3",
         "domain": [
          0.625,
          1
         ],
         "title": {
          "text": "Count"
         }
        },
        "yaxis4": {
         "anchor": "x4",
         "domain": [
          0,
          0.375
         ],
         "title": {
          "text": "Count"
         }
        },
        "yaxis5": {
         "anchor": "x5",
         "domain": [
          0,
          0.375
         ],
         "title": {
          "text": "Count"
         }
        },
        "yaxis6": {
         "anchor": "x6",
         "domain": [
          0,
          0.375
         ]
        }
       }
      },
      "text/html": [
       "<div>                            <div id=\"24dfd098-9072-4809-b806-9ab8a9e68614\" class=\"plotly-graph-div\" style=\"height:800px; width:1200px;\"></div>            <script type=\"text/javascript\">                require([\"plotly\"], function(Plotly) {                    window.PLOTLYENV=window.PLOTLYENV || {};                                    if (document.getElementById(\"24dfd098-9072-4809-b806-9ab8a9e68614\")) {                    Plotly.newPlot(                        \"24dfd098-9072-4809-b806-9ab8a9e68614\",                        [{\"bingroup\":\"a\",\"name\":\"Mean Similarity with GT Defs\",\"x\":[0.6919512748718262,0.7230426669120789,0.5402790904045105,0.7238982915878296,0.6158732175827026,0.7735217213630676,0.75986647605896,0.4361041188240051,0.8778166770935059,0.7324565649032593,0.8058738708496094,0.7044485807418823,0.65766841173172,0.7323249578475952,0.2248542755842209,0.6531723737716675,0.7200948596000671,0.7069284319877625,0.8892389535903931,0.6744986176490784,0.7089102268218994,0.6779278516769409,0.743794858455658,0.8880074620246887,0.6872395277023315,0.5291885137557983,0.7532333731651306,0.5949694514274597,0.7998383641242981,0.7798687219619751,0.7193538546562195,0.7140918970108032,0.8052165508270264,0.4741555154323578,0.6181286573410034,0.8839166164398193,0.620172381401062,0.8368512392044067,0.7625223994255066,0.7387531995773315,0.7772408723831177,0.5043814778327942,0.5076387524604797,0.4955143928527832,0.6380251049995422,0.5405858159065247,0.4790022373199463,0.6485103368759155,0.26762041449546814,0.6175541281700134,0.6576322913169861,0.6674203276634216,0.8163358569145203,0.7416839003562927,0.5791212320327759,0.6175800561904907,0.5658051371574402,0.6511562466621399,0.648197591304779,0.7556148767471313,0.7055992484092712,0.5803994536399841,0.7193533182144165,0.672697901725769,0.3983142673969269,0.7377917766571045,0.8525972366333008,0.7602550387382507,0.5029295086860657,0.7662956118583679,0.7128176689147949,0.6907140016555786,0.653084397315979,0.6540029644966125,0.702610433101654,0.7514095902442932,0.7943137884140015,0.7134721279144287,0.823815643787384,0.7689438462257385,0.8117737174034119,0.7603403925895691,0.3764713406562805,0.8126458525657654,0.7604951858520508,0.5028267502784729,0.7599004507064819,0.6807958483695984,0.5962672829627991,0.7497174739837646,0.475506067276001,0.74229496717453,0.7927016019821167,0.3262740671634674,0.7696110010147095,0.39586779475212097,0.6786414980888367,0.639351487159729,0.20131900906562805,0.8110069632530212,0.8146236538887024,0.5051631331443787,0.5931283235549927,0.5323721170425415,0.6821027994155884,0.739250898361206,0.5900522470474243,0.8144233226776123,0.7179316282272339,0.6545842885971069,0.662142813205719,0.6065994501113892,0.5900213718414307,0.8636559247970581,0.8841065764427185,0.8158642053604126,0.5971701145172119,0.7328819036483765,0.5947851538658142,0.5847252011299133,0.5977790355682373,0.7428202629089355,0.8049495816230774,0.7847446203231812,0.6378654837608337,0.6248183250427246,0.7271812558174133,0.8307847380638123,0.7345017790794373,0.7432473301887512,0.6697683334350586,0.8431440591812134,0.6820711493492126,0.7636226415634155,0.8939960598945618,0.7443353533744812,0.7917444109916687,0.639043927192688,0.7373991012573242,0.6887115240097046,0.7110482454299927,0.7576415538787842,0.8697536587715149,0.617578387260437,0.8032272458076477,0.7523653507232666,0.6988703608512878,0.808698832988739,0.7181657552719116,0.5332497954368591,0.7006592750549316,0.7741758227348328,0.5640067458152771,0.8137253522872925,0.5449020862579346,0.6628082990646362],\"type\":\"histogram\",\"xaxis\":\"x\",\"yaxis\":\"y\"},{\"bingroup\":\"a\",\"name\":\"Similarity with Mean Embedding of GT Defs\",\"x\":[0.8789528608322144,0.8843592405319214,0.7514277696609497,0.8631633520126343,0.8709753751754761,0.9123615026473999,0.9215208292007446,0.6069462299346924,0.9703258275985718,0.9071872234344482,0.9449815154075623,0.8354041576385498,0.8290396332740784,0.9027964472770691,0.4154812693595886,0.864067792892456,0.8610309958457947,0.8847181797027588,0.9681082963943481,0.8764908909797668,0.859646737575531,0.9197416305541992,0.902597188949585,0.969224214553833,0.8782450556755066,0.6901775598526001,0.8744956851005554,0.7608960270881653,0.9435172080993652,0.9189610481262207,0.857027530670166,0.8964487314224243,0.9346884489059448,0.7175483107566833,0.8053727149963379,0.9616867899894714,0.8035658001899719,0.9423089027404785,0.9082948565483093,0.9069254994392395,0.9010512828826904,0.8454957008361816,0.6685796976089478,0.6584120988845825,0.8119380474090576,0.7378162145614624,0.7370602488517761,0.7948771119117737,0.5742375254631042,0.7969452142715454,0.8303062915802002,0.8829261064529419,0.9336031675338745,0.9485858082771301,0.7692595720291138,0.7942327857017517,0.7243984937667847,0.8442913889884949,0.8278735876083374,0.8975830078125,0.9231722950935364,0.8102135062217712,0.8747962117195129,0.8617879152297974,0.5335655212402344,0.8800601959228516,0.9709106087684631,0.9032706022262573,0.7730914354324341,0.8951270580291748,0.8882917761802673,0.8579768538475037,0.854509711265564,0.8256869316101074,0.8611511588096619,0.8815919160842896,0.9329147338867188,0.8741530179977417,0.9522960186004639,0.8993651866912842,0.9359263777732849,0.9393924474716187,0.5813392400741577,0.9283360242843628,0.9266199469566345,0.7642769813537598,0.9053683280944824,0.8369931578636169,0.7839858531951904,0.9317315816879272,0.7324087023735046,0.8738298416137695,0.9499921798706055,0.5702705383300781,0.9196693897247314,0.5342638492584229,0.8555393815040588,0.8417550325393677,0.37763598561286926,0.9358143210411072,0.9499036073684692,0.7122429013252258,0.8088270425796509,0.7169089317321777,0.8879690766334534,0.8848400712013245,0.7903995513916016,0.9444411993026733,0.8726561665534973,0.9045370817184448,0.8419857621192932,0.8058590888977051,0.7811793088912964,0.949256420135498,0.9692081809043884,0.9409497976303101,0.7334826588630676,0.8775061368942261,0.822087287902832,0.7992225885391235,0.8194937705993652,0.9123961925506592,0.9272310733795166,0.8983203768730164,0.858911395072937,0.7893474102020264,0.8742414116859436,0.951852560043335,0.8761047124862671,0.8927302360534668,0.8028180599212646,0.944828987121582,0.820457935333252,0.9032670855522156,0.9706199169158936,0.8677811622619629,0.93482506275177,0.8245823383331299,0.8984391689300537,0.8421187400817871,0.8720971941947937,0.9636483192443848,0.9649375677108765,0.8666749000549316,0.9267884492874146,0.8736941814422607,0.8349331617355347,0.9151233434677124,0.871526837348938,0.8083298206329346,0.8845542669296265,0.9035024046897888,0.7502460479736328,0.9575089812278748,0.79343581199646,0.8820064067840576],\"type\":\"histogram\",\"xaxis\":\"x2\",\"yaxis\":\"y2\"},{\"bingroup\":\"a\",\"name\":\"Max Similarity with GT Defs\",\"x\":[0.783312201499939,0.7609668970108032,0.7858319878578186,0.8321362733840942,0.7834972739219666,0.8830534219741821,0.9989432692527771,0.624550461769104,0.9392654895782471,0.9050062894821167,0.8846652507781982,0.7832778096199036,0.7892491817474365,0.8499236106872559,0.33049026131629944,0.7804423570632935,0.7738234996795654,0.8666044473648071,0.9154230356216431,0.9171183705329895,0.823570728302002,0.9857532978057861,0.9991143345832825,0.9889189600944519,0.8502770662307739,0.5823996067047119,0.9320113062858582,0.6885248422622681,0.8104314804077148,0.8299217224121094,0.8487316370010376,0.9421366453170776,0.9704946279525757,0.8334283828735352,0.6757373809814453,0.9500927925109863,0.7541992664337158,0.935041606426239,0.9977096319198608,0.9148118495941162,0.8465656042098999,0.7339358329772949,0.6761267185211182,0.9041564464569092,0.9004400372505188,0.608176589012146,0.710681140422821,0.7419751882553101,0.3492071330547333,0.6865345239639282,0.7982418537139893,0.7732973694801331,0.8793882727622986,0.9126930236816406,0.7343267798423767,0.6506523489952087,0.6466792225837708,0.7618253231048584,0.7258260250091553,0.8733534812927246,0.8606839776039124,0.8296051025390625,0.8532992601394653,0.7968056201934814,0.6106604337692261,0.7685037851333618,0.984447181224823,0.8548782467842102,0.5761035680770874,0.8153836727142334,0.8918428421020508,0.7213459610939026,0.8750070929527283,0.7918707728385925,0.7917845249176025,0.9199119210243225,0.8637864589691162,0.8108899593353271,0.9105618596076965,0.8708018064498901,0.9677320718765259,0.7603403925895691,0.5090973377227783,0.8734961748123169,0.8817894458770752,0.7027047872543335,0.7667953968048096,0.8461512327194214,0.6544584035873413,0.8404316902160645,0.6244033575057983,0.8358777761459351,0.7927016019821167,0.3974439203739166,0.9853212833404541,0.657418966293335,0.754531741142273,0.8476767539978027,0.36393147706985474,0.8901540040969849,0.8563759326934814,0.5404059886932373,0.6826291084289551,0.6285575032234192,0.8367310762405396,0.8962047100067139,0.7056583166122437,0.8944151997566223,0.85236656665802,0.8515169620513916,0.7672510743141174,0.682347297668457,0.7038013339042664,0.9975407719612122,0.9690575003623962,0.9386348724365234,0.730793297290802,0.8874174356460571,0.8734890222549438,0.7307277917861938,0.7406936883926392,0.7921253442764282,0.8665241003036499,0.8172925710678101,0.7738373279571533,0.7397462725639343,0.8831442594528198,0.9319230318069458,0.8089960813522339,0.8217263221740723,0.8185203075408936,0.9495769739151001,0.8585532903671265,0.8912845849990845,0.9959747791290283,0.7865320444107056,0.8789433240890503,0.8219318389892578,0.7676273584365845,0.8035902380943298,0.8000050783157349,0.9892137050628662,0.9971498250961304,0.8884434103965759,0.9128121733665466,0.8532784581184387,0.7868664860725403,0.8822683691978455,0.8799518346786499,0.6957879066467285,0.7962478399276733,0.9002155065536499,0.6411841511726379,0.9878121614456177,0.6106163263320923,0.9141590595245361],\"type\":\"histogram\",\"xaxis\":\"x3\",\"yaxis\":\"y3\"},{\"bingroup\":\"a\",\"name\":\"Mean Similarity with Other Words\",\"x\":[0.20784389972686768,0.13622966408729553,0.24050500988960266,0.20658503472805023,0.1093250960111618,0.09775721281766891,0.2714119851589203,0.21373917162418365,0.22186554968357086,0.20469914376735687,0.23340177536010742,0.15490341186523438,0.10587013512849808,0.24051330983638763,0.2641986310482025,0.1744799017906189,0.2764427661895752,0.2744012475013733,0.08955169469118118,0.13658110797405243,0.17463158071041107,0.10036945343017578,0.20118378102779388,0.24001963436603546,0.2278800904750824,0.17576046288013458,0.15216952562332153,0.2860657572746277,0.10715287923812866,0.24372124671936035,0.1660749316215515,0.13127180933952332,0.16823239624500275,0.20501701533794403,0.16607682406902313,0.16255070269107819,0.13539856672286987,0.23248033225536346,0.19588586688041687,0.26632970571517944,0.08606663346290588,0.3052087426185608,0.14777472615242004,0.2390071302652359,0.23005777597427368,0.2976747751235962,0.23749788105487823,0.24968814849853516,0.26150867342948914,0.20341388881206512,0.21013495326042175,0.2530806362628937,0.1580640822649002,0.19372889399528503,0.23300474882125854,0.12335820496082306,0.2549281418323517,0.2627754509449005,0.17321044206619263,0.27229729294776917,0.1740843951702118,0.22527669370174408,0.22675681114196777,0.13813571631908417,0.24032926559448242,0.18750625848770142,0.10863107442855835,0.25219205021858215,0.13525070250034332,0.1640995889902115,0.15949426591396332,0.2846265733242035,0.23491016030311584,0.15802213549613953,0.1958087682723999,0.14583419263362885,0.17139267921447754,0.268020898103714,0.13061071932315826,0.21354065835475922,0.21595053374767303,0.24086374044418335,0.236869677901268,0.24487094581127167,0.2373737394809723,0.2053956836462021,0.1969432532787323,0.12428650259971619,0.24443241953849792,0.2636919617652893,0.10328757762908936,0.27515909075737,0.18182490766048431,0.13885484635829926,0.25473153591156006,0.19716110825538635,0.2201559692621231,0.11419793963432312,0.13968013226985931,0.22929832339286804,0.23225142061710358,0.1603161096572876,0.1790665239095688,0.17831148207187653,0.2629111409187317,0.1550358682870865,0.15754006803035736,0.28372815251350403,0.1973365843296051,0.1687387228012085,0.1562894731760025,0.10242310911417007,0.10956117510795593,0.14315813779830933,0.22444094717502594,0.21148207783699036,0.07142617553472519,0.24532122910022736,0.2053421139717102,0.13739603757858276,0.20481497049331665,0.1880813091993332,0.3110814690589905,0.2608003318309784,0.21175584197044373,0.2161015123128891,0.18734005093574524,0.2572622299194336,0.20481111109256744,0.1573992818593979,0.19912001490592957,0.17191912233829498,0.1584988683462143,0.165579155087471,0.22869238257408142,0.2203092873096466,0.17538726329803467,0.18311291933059692,0.23579959571361542,0.07636570185422897,0.2768373489379883,0.262287974357605,0.24022795259952545,0.161142498254776,0.19031891226768494,0.23146319389343262,0.13348086178302765,0.1871914118528366,0.20850808918476105,0.25735753774642944,0.25041425228118896,0.198904886841774,0.24434736371040344,0.22711767256259918,0.24746830761432648,0.25527653098106384],\"type\":\"histogram\",\"xaxis\":\"x4\",\"yaxis\":\"y4\"},{\"bingroup\":\"a\",\"name\":\"Max Similarity with Other Words\",\"x\":[0.7489346265792847,0.8759602904319763,0.7134155035018921,0.6310486793518066,0.4965329170227051,0.5574438571929932,0.7006332874298096,0.6515605449676514,0.792212724685669,0.8097285032272339,0.6123267412185669,0.6420354843139648,0.5419890880584717,0.7868138551712036,0.6431902647018433,0.5050215125083923,0.7731334567070007,0.8282667398452759,0.7657852172851562,0.507743239402771,0.5921106338500977,0.3648075759410858,0.6120789647102356,0.6291552782058716,0.7256876230239868,0.5757177472114563,0.5337665677070618,0.7173144817352295,0.6108167171478271,0.8495017886161804,0.6160879135131836,0.8634066581726074,0.6027478575706482,0.6490046977996826,0.6905035972595215,0.7416229248046875,0.6880590319633484,0.6036038398742676,0.8075040578842163,0.8943983316421509,0.5767126083374023,0.7805421948432922,0.9966422319412231,0.5587427616119385,0.6548272967338562,0.6462689638137817,0.8524719476699829,0.678594708442688,0.8441847562789917,0.5741596817970276,0.8010939359664917,0.686876654624939,0.6560237407684326,0.8558985590934753,0.559256374835968,0.5882809162139893,0.5492881536483765,0.7609860897064209,0.6338775157928467,0.7040738463401794,0.6335703730583191,0.7872462272644043,0.7584154605865479,0.8679357767105103,0.7067239284515381,0.6933838129043579,0.8013038039207458,0.7904456853866577,0.7813991904258728,0.7496458292007446,0.6791621446609497,0.861000120639801,0.7861167192459106,0.49827587604522705,0.7051801681518555,0.512182354927063,0.4915080666542053,0.736580491065979,0.6007336378097534,0.7873705625534058,0.7422558069229126,0.6869217157363892,0.7610517740249634,0.8610001802444458,0.8168236017227173,0.8229262828826904,0.7949512004852295,0.6317741274833679,0.6359215378761292,0.6591945886611938,0.3529687821865082,0.7352383136749268,0.8080589175224304,0.6965218186378479,0.7212492823600769,0.7932446599006653,0.8078572154045105,0.5023671388626099,0.476926326751709,0.7690523266792297,0.875575065612793,0.6925454139709473,0.6746068000793457,0.7238943576812744,0.7166695594787598,0.6204897165298462,0.6079093217849731,0.7194991111755371,0.7089919447898865,0.5177894830703735,0.6830630302429199,0.7111115455627441,0.6169143915176392,0.5964093208312988,0.614099383354187,0.7393208146095276,0.41848087310791016,0.8396517038345337,0.6034822463989258,0.6606374382972717,0.6165900826454163,0.7993584275245667,0.8708882927894592,0.8361513614654541,0.6527222990989685,0.866557240486145,0.6018234491348267,0.899966835975647,0.7800140380859375,0.6033070087432861,0.5484490394592285,0.6219192147254944,0.5059310793876648,0.8229262828826904,0.5137025117874146,0.8020427227020264,0.7094147801399231,0.5990478992462158,0.6249884366989136,0.30004775524139404,0.7738789916038513,0.7425687909126282,0.7376322150230408,0.7590643763542175,0.6513659954071045,0.8597217202186584,0.7474121451377869,0.6544278860092163,0.8954817056655884,0.602691650390625,0.6467130184173584,0.7252265810966492,0.8168236017227173,0.7449113130569458,0.5834820866584778,0.7150607109069824],\"type\":\"histogram\",\"xaxis\":\"x5\",\"yaxis\":\"y5\"}],                        {\"template\":{\"data\":{\"histogram2dcontour\":[{\"type\":\"histogram2dcontour\",\"colorbar\":{\"outlinewidth\":0,\"ticks\":\"\"},\"colorscale\":[[0.0,\"#0d0887\"],[0.1111111111111111,\"#46039f\"],[0.2222222222222222,\"#7201a8\"],[0.3333333333333333,\"#9c179e\"],[0.4444444444444444,\"#bd3786\"],[0.5555555555555556,\"#d8576b\"],[0.6666666666666666,\"#ed7953\"],[0.7777777777777778,\"#fb9f3a\"],[0.8888888888888888,\"#fdca26\"],[1.0,\"#f0f921\"]]}],\"choropleth\":[{\"type\":\"choropleth\",\"colorbar\":{\"outlinewidth\":0,\"ticks\":\"\"}}],\"histogram2d\":[{\"type\":\"histogram2d\",\"colorbar\":{\"outlinewidth\":0,\"ticks\":\"\"},\"colorscale\":[[0.0,\"#0d0887\"],[0.1111111111111111,\"#46039f\"],[0.2222222222222222,\"#7201a8\"],[0.3333333333333333,\"#9c179e\"],[0.4444444444444444,\"#bd3786\"],[0.5555555555555556,\"#d8576b\"],[0.6666666666666666,\"#ed7953\"],[0.7777777777777778,\"#fb9f3a\"],[0.8888888888888888,\"#fdca26\"],[1.0,\"#f0f921\"]]}],\"heatmap\":[{\"type\":\"heatmap\",\"colorbar\":{\"outlinewidth\":0,\"ticks\":\"\"},\"colorscale\":[[0.0,\"#0d0887\"],[0.1111111111111111,\"#46039f\"],[0.2222222222222222,\"#7201a8\"],[0.3333333333333333,\"#9c179e\"],[0.4444444444444444,\"#bd3786\"],[0.5555555555555556,\"#d8576b\"],[0.6666666666666666,\"#ed7953\"],[0.7777777777777778,\"#fb9f3a\"],[0.8888888888888888,\"#fdca26\"],[1.0,\"#f0f921\"]]}],\"heatmapgl\":[{\"type\":\"heatmapgl\",\"colorbar\":{\"outlinewidth\":0,\"ticks\":\"\"},\"colorscale\":[[0.0,\"#0d0887\"],[0.1111111111111111,\"#46039f\"],[0.2222222222222222,\"#7201a8\"],[0.3333333333333333,\"#9c179e\"],[0.4444444444444444,\"#bd3786\"],[0.5555555555555556,\"#d8576b\"],[0.6666666666666666,\"#ed7953\"],[0.7777777777777778,\"#fb9f3a\"],[0.8888888888888888,\"#fdca26\"],[1.0,\"#f0f921\"]]}],\"contourcarpet\":[{\"type\":\"contourcarpet\",\"colorbar\":{\"outlinewidth\":0,\"ticks\":\"\"}}],\"contour\":[{\"type\":\"contour\",\"colorbar\":{\"outlinewidth\":0,\"ticks\":\"\"},\"colorscale\":[[0.0,\"#0d0887\"],[0.1111111111111111,\"#46039f\"],[0.2222222222222222,\"#7201a8\"],[0.3333333333333333,\"#9c179e\"],[0.4444444444444444,\"#bd3786\"],[0.5555555555555556,\"#d8576b\"],[0.6666666666666666,\"#ed7953\"],[0.7777777777777778,\"#fb9f3a\"],[0.8888888888888888,\"#fdca26\"],[1.0,\"#f0f921\"]]}],\"surface\":[{\"type\":\"surface\",\"colorbar\":{\"outlinewidth\":0,\"ticks\":\"\"},\"colorscale\":[[0.0,\"#0d0887\"],[0.1111111111111111,\"#46039f\"],[0.2222222222222222,\"#7201a8\"],[0.3333333333333333,\"#9c179e\"],[0.4444444444444444,\"#bd3786\"],[0.5555555555555556,\"#d8576b\"],[0.6666666666666666,\"#ed7953\"],[0.7777777777777778,\"#fb9f3a\"],[0.8888888888888888,\"#fdca26\"],[1.0,\"#f0f921\"]]}],\"mesh3d\":[{\"type\":\"mesh3d\",\"colorbar\":{\"outlinewidth\":0,\"ticks\":\"\"}}],\"scatter\":[{\"fillpattern\":{\"fillmode\":\"overlay\",\"size\":10,\"solidity\":0.2},\"type\":\"scatter\"}],\"parcoords\":[{\"type\":\"parcoords\",\"line\":{\"colorbar\":{\"outlinewidth\":0,\"ticks\":\"\"}}}],\"scatterpolargl\":[{\"type\":\"scatterpolargl\",\"marker\":{\"colorbar\":{\"outlinewidth\":0,\"ticks\":\"\"}}}],\"bar\":[{\"error_x\":{\"color\":\"#2a3f5f\"},\"error_y\":{\"color\":\"#2a3f5f\"},\"marker\":{\"line\":{\"color\":\"#E5ECF6\",\"width\":0.5},\"pattern\":{\"fillmode\":\"overlay\",\"size\":10,\"solidity\":0.2}},\"type\":\"bar\"}],\"scattergeo\":[{\"type\":\"scattergeo\",\"marker\":{\"colorbar\":{\"outlinewidth\":0,\"ticks\":\"\"}}}],\"scatterpolar\":[{\"type\":\"scatterpolar\",\"marker\":{\"colorbar\":{\"outlinewidth\":0,\"ticks\":\"\"}}}],\"histogram\":[{\"marker\":{\"pattern\":{\"fillmode\":\"overlay\",\"size\":10,\"solidity\":0.2}},\"type\":\"histogram\"}],\"scattergl\":[{\"type\":\"scattergl\",\"marker\":{\"colorbar\":{\"outlinewidth\":0,\"ticks\":\"\"}}}],\"scatter3d\":[{\"type\":\"scatter3d\",\"line\":{\"colorbar\":{\"outlinewidth\":0,\"ticks\":\"\"}},\"marker\":{\"colorbar\":{\"outlinewidth\":0,\"ticks\":\"\"}}}],\"scattermapbox\":[{\"type\":\"scattermapbox\",\"marker\":{\"colorbar\":{\"outlinewidth\":0,\"ticks\":\"\"}}}],\"scatterternary\":[{\"type\":\"scatterternary\",\"marker\":{\"colorbar\":{\"outlinewidth\":0,\"ticks\":\"\"}}}],\"scattercarpet\":[{\"type\":\"scattercarpet\",\"marker\":{\"colorbar\":{\"outlinewidth\":0,\"ticks\":\"\"}}}],\"carpet\":[{\"aaxis\":{\"endlinecolor\":\"#2a3f5f\",\"gridcolor\":\"white\",\"linecolor\":\"white\",\"minorgridcolor\":\"white\",\"startlinecolor\":\"#2a3f5f\"},\"baxis\":{\"endlinecolor\":\"#2a3f5f\",\"gridcolor\":\"white\",\"linecolor\":\"white\",\"minorgridcolor\":\"white\",\"startlinecolor\":\"#2a3f5f\"},\"type\":\"carpet\"}],\"table\":[{\"cells\":{\"fill\":{\"color\":\"#EBF0F8\"},\"line\":{\"color\":\"white\"}},\"header\":{\"fill\":{\"color\":\"#C8D4E3\"},\"line\":{\"color\":\"white\"}},\"type\":\"table\"}],\"barpolar\":[{\"marker\":{\"line\":{\"color\":\"#E5ECF6\",\"width\":0.5},\"pattern\":{\"fillmode\":\"overlay\",\"size\":10,\"solidity\":0.2}},\"type\":\"barpolar\"}],\"pie\":[{\"automargin\":true,\"type\":\"pie\"}]},\"layout\":{\"autotypenumbers\":\"strict\",\"colorway\":[\"#636efa\",\"#EF553B\",\"#00cc96\",\"#ab63fa\",\"#FFA15A\",\"#19d3f3\",\"#FF6692\",\"#B6E880\",\"#FF97FF\",\"#FECB52\"],\"font\":{\"color\":\"#2a3f5f\"},\"hovermode\":\"closest\",\"hoverlabel\":{\"align\":\"left\"},\"paper_bgcolor\":\"white\",\"plot_bgcolor\":\"#E5ECF6\",\"polar\":{\"bgcolor\":\"#E5ECF6\",\"angularaxis\":{\"gridcolor\":\"white\",\"linecolor\":\"white\",\"ticks\":\"\"},\"radialaxis\":{\"gridcolor\":\"white\",\"linecolor\":\"white\",\"ticks\":\"\"}},\"ternary\":{\"bgcolor\":\"#E5ECF6\",\"aaxis\":{\"gridcolor\":\"white\",\"linecolor\":\"white\",\"ticks\":\"\"},\"baxis\":{\"gridcolor\":\"white\",\"linecolor\":\"white\",\"ticks\":\"\"},\"caxis\":{\"gridcolor\":\"white\",\"linecolor\":\"white\",\"ticks\":\"\"}},\"coloraxis\":{\"colorbar\":{\"outlinewidth\":0,\"ticks\":\"\"}},\"colorscale\":{\"sequential\":[[0.0,\"#0d0887\"],[0.1111111111111111,\"#46039f\"],[0.2222222222222222,\"#7201a8\"],[0.3333333333333333,\"#9c179e\"],[0.4444444444444444,\"#bd3786\"],[0.5555555555555556,\"#d8576b\"],[0.6666666666666666,\"#ed7953\"],[0.7777777777777778,\"#fb9f3a\"],[0.8888888888888888,\"#fdca26\"],[1.0,\"#f0f921\"]],\"sequentialminus\":[[0.0,\"#0d0887\"],[0.1111111111111111,\"#46039f\"],[0.2222222222222222,\"#7201a8\"],[0.3333333333333333,\"#9c179e\"],[0.4444444444444444,\"#bd3786\"],[0.5555555555555556,\"#d8576b\"],[0.6666666666666666,\"#ed7953\"],[0.7777777777777778,\"#fb9f3a\"],[0.8888888888888888,\"#fdca26\"],[1.0,\"#f0f921\"]],\"diverging\":[[0,\"#8e0152\"],[0.1,\"#c51b7d\"],[0.2,\"#de77ae\"],[0.3,\"#f1b6da\"],[0.4,\"#fde0ef\"],[0.5,\"#f7f7f7\"],[0.6,\"#e6f5d0\"],[0.7,\"#b8e186\"],[0.8,\"#7fbc41\"],[0.9,\"#4d9221\"],[1,\"#276419\"]]},\"xaxis\":{\"gridcolor\":\"white\",\"linecolor\":\"white\",\"ticks\":\"\",\"title\":{\"standoff\":15},\"zerolinecolor\":\"white\",\"automargin\":true,\"zerolinewidth\":2},\"yaxis\":{\"gridcolor\":\"white\",\"linecolor\":\"white\",\"ticks\":\"\",\"title\":{\"standoff\":15},\"zerolinecolor\":\"white\",\"automargin\":true,\"zerolinewidth\":2},\"scene\":{\"xaxis\":{\"backgroundcolor\":\"#E5ECF6\",\"gridcolor\":\"white\",\"linecolor\":\"white\",\"showbackground\":true,\"ticks\":\"\",\"zerolinecolor\":\"white\",\"gridwidth\":2},\"yaxis\":{\"backgroundcolor\":\"#E5ECF6\",\"gridcolor\":\"white\",\"linecolor\":\"white\",\"showbackground\":true,\"ticks\":\"\",\"zerolinecolor\":\"white\",\"gridwidth\":2},\"zaxis\":{\"backgroundcolor\":\"#E5ECF6\",\"gridcolor\":\"white\",\"linecolor\":\"white\",\"showbackground\":true,\"ticks\":\"\",\"zerolinecolor\":\"white\",\"gridwidth\":2}},\"shapedefaults\":{\"line\":{\"color\":\"#2a3f5f\"}},\"annotationdefaults\":{\"arrowcolor\":\"#2a3f5f\",\"arrowhead\":0,\"arrowwidth\":1},\"geo\":{\"bgcolor\":\"white\",\"landcolor\":\"#E5ECF6\",\"subunitcolor\":\"white\",\"showland\":true,\"showlakes\":true,\"lakecolor\":\"white\"},\"title\":{\"x\":0.05},\"mapbox\":{\"style\":\"light\"}}},\"xaxis\":{\"anchor\":\"y\",\"domain\":[0.0,0.2888888888888889],\"title\":{\"text\":\"Similarity Score\"},\"range\":[0,1]},\"yaxis\":{\"anchor\":\"x\",\"domain\":[0.625,1.0],\"title\":{\"text\":\"Count\"}},\"xaxis2\":{\"anchor\":\"y2\",\"domain\":[0.35555555555555557,0.6444444444444445],\"title\":{\"text\":\"Similarity Score\"},\"range\":[0,1]},\"yaxis2\":{\"anchor\":\"x2\",\"domain\":[0.625,1.0],\"title\":{\"text\":\"Count\"}},\"xaxis3\":{\"anchor\":\"y3\",\"domain\":[0.7111111111111111,1.0],\"title\":{\"text\":\"Similarity Score\"},\"range\":[0,1]},\"yaxis3\":{\"anchor\":\"x3\",\"domain\":[0.625,1.0],\"title\":{\"text\":\"Count\"}},\"xaxis4\":{\"anchor\":\"y4\",\"domain\":[0.0,0.2888888888888889],\"title\":{\"text\":\"Similarity Score\"},\"range\":[0,1]},\"yaxis4\":{\"anchor\":\"x4\",\"domain\":[0.0,0.375],\"title\":{\"text\":\"Count\"}},\"xaxis5\":{\"anchor\":\"y5\",\"domain\":[0.35555555555555557,0.6444444444444445],\"title\":{\"text\":\"Similarity Score\"},\"range\":[0,1]},\"yaxis5\":{\"anchor\":\"x5\",\"domain\":[0.0,0.375],\"title\":{\"text\":\"Count\"}},\"xaxis6\":{\"anchor\":\"y6\",\"domain\":[0.7111111111111111,1.0]},\"yaxis6\":{\"anchor\":\"x6\",\"domain\":[0.0,0.375]},\"annotations\":[{\"font\":{\"size\":16},\"showarrow\":false,\"text\":\"Mean Similarity with GT Defs\",\"x\":0.14444444444444446,\"xanchor\":\"center\",\"xref\":\"paper\",\"y\":1.0,\"yanchor\":\"bottom\",\"yref\":\"paper\"},{\"font\":{\"size\":16},\"showarrow\":false,\"text\":\"Similarity with Mean Embedding of GT Defs\",\"x\":0.5,\"xanchor\":\"center\",\"xref\":\"paper\",\"y\":1.0,\"yanchor\":\"bottom\",\"yref\":\"paper\"},{\"font\":{\"size\":16},\"showarrow\":false,\"text\":\"Max Similarity with GT Defs\",\"x\":0.8555555555555556,\"xanchor\":\"center\",\"xref\":\"paper\",\"y\":1.0,\"yanchor\":\"bottom\",\"yref\":\"paper\"},{\"font\":{\"size\":16},\"showarrow\":false,\"text\":\"Mean Similarity with Other Words\",\"x\":0.14444444444444446,\"xanchor\":\"center\",\"xref\":\"paper\",\"y\":0.375,\"yanchor\":\"bottom\",\"yref\":\"paper\"},{\"font\":{\"size\":16},\"showarrow\":false,\"text\":\"Max Similarity with Other Words\",\"x\":0.5,\"xanchor\":\"center\",\"xref\":\"paper\",\"y\":0.375,\"yanchor\":\"bottom\",\"yref\":\"paper\"}],\"title\":{\"text\":\"Definition Embedding Comparison Metrics - Random GT definition\"},\"showlegend\":false,\"height\":800,\"width\":1200},                        {\"responsive\": true}                    ).then(function(){\n",
       "                            \n",
       "var gd = document.getElementById('24dfd098-9072-4809-b806-9ab8a9e68614');\n",
       "var x = new MutationObserver(function (mutations, observer) {{\n",
       "        var display = window.getComputedStyle(gd).display;\n",
       "        if (!display || display === 'none') {{\n",
       "            console.log([gd, 'removed!']);\n",
       "            Plotly.purge(gd);\n",
       "            observer.disconnect();\n",
       "        }}\n",
       "}});\n",
       "\n",
       "// Listen for the removal of the full notebook cells\n",
       "var notebookContainer = gd.closest('#notebook-container');\n",
       "if (notebookContainer) {{\n",
       "    x.observe(notebookContainer, {childList: true});\n",
       "}}\n",
       "\n",
       "// Listen for the clearing of the current output cell\n",
       "var outputEl = gd.closest('.output');\n",
       "if (outputEl) {{\n",
       "    x.observe(outputEl, {childList: true});\n",
       "}}\n",
       "\n",
       "                        })                };                });            </script>        </div>"
      ]
     },
     "metadata": {},
     "output_type": "display_data"
    },
    {
     "data": {
      "application/vnd.plotly.v1+json": {
       "config": {
        "plotlyServerURL": "https://plot.ly"
       },
       "data": [
        {
         "marker": {
          "color": [
           "blue",
           "red",
           "green",
           "purple"
          ]
         },
         "name": "Mean Similarity with GT Defs",
         "type": "bar",
         "x": [
          "from trans",
          "from def",
          "baseline",
          "rnd gt"
         ],
         "xaxis": "x",
         "y": [
          0.5680396395902603,
          0.6636404442385986,
          0.665000435251456,
          0.6817364909518988
         ],
         "yaxis": "y"
        },
        {
         "marker": {
          "color": [
           "blue",
           "red",
           "green",
           "purple"
          ]
         },
         "name": "Similarity with Mean Embedding of GT Defs",
         "type": "bar",
         "x": [
          "from trans",
          "from def",
          "baseline",
          "rnd gt"
         ],
         "xaxis": "x2",
         "y": [
          0.6629474576658163,
          0.7751740712481432,
          0.7772011514275502,
          0.848923734938487
         ],
         "yaxis": "y2"
        },
        {
         "marker": {
          "color": [
           "blue",
           "red",
           "green",
           "purple"
          ]
         },
         "name": "Max Similarity with GT Defs",
         "type": "bar",
         "x": [
          "from trans",
          "from def",
          "baseline",
          "rnd gt"
         ],
         "xaxis": "x3",
         "y": [
          0.689696829383954,
          0.7884001365074744,
          0.7964361740801579,
          0.8081800072238996
         ],
         "yaxis": "y3"
        },
        {
         "marker": {
          "color": [
           "blue",
           "red",
           "green",
           "purple"
          ]
         },
         "name": "Mean Similarity with Other Words",
         "type": "bar",
         "x": [
          "from trans",
          "from def",
          "baseline",
          "rnd gt"
         ],
         "xaxis": "x4",
         "y": [
          0.20446813111312878,
          0.20887215397296807,
          0.21842395113064692,
          0.19896965894179466
         ],
         "yaxis": "y4"
        },
        {
         "marker": {
          "color": [
           "blue",
           "red",
           "green",
           "purple"
          ]
         },
         "name": "Max Similarity with Other Words",
         "type": "bar",
         "x": [
          "from trans",
          "from def",
          "baseline",
          "rnd gt"
         ],
         "xaxis": "x5",
         "y": [
          0.7128504837552706,
          0.7107206004170271,
          0.7158888928019084,
          0.6909513760071534
         ],
         "yaxis": "y5"
        }
       ],
       "layout": {
        "annotations": [
         {
          "font": {
           "size": 16
          },
          "showarrow": false,
          "text": "Mean Similarity with GT Defs",
          "x": 0.14444444444444446,
          "xanchor": "center",
          "xref": "paper",
          "y": 1,
          "yanchor": "bottom",
          "yref": "paper"
         },
         {
          "font": {
           "size": 16
          },
          "showarrow": false,
          "text": "Similarity with Mean Embedding of GT Defs",
          "x": 0.5,
          "xanchor": "center",
          "xref": "paper",
          "y": 1,
          "yanchor": "bottom",
          "yref": "paper"
         },
         {
          "font": {
           "size": 16
          },
          "showarrow": false,
          "text": "Max Similarity with GT Defs",
          "x": 0.8555555555555556,
          "xanchor": "center",
          "xref": "paper",
          "y": 1,
          "yanchor": "bottom",
          "yref": "paper"
         },
         {
          "font": {
           "size": 16
          },
          "showarrow": false,
          "text": "Mean Similarity with Other Words",
          "x": 0.14444444444444446,
          "xanchor": "center",
          "xref": "paper",
          "y": 0.375,
          "yanchor": "bottom",
          "yref": "paper"
         },
         {
          "font": {
           "size": 16
          },
          "showarrow": false,
          "text": "Max Similarity with Other Words",
          "x": 0.5,
          "xanchor": "center",
          "xref": "paper",
          "y": 0.375,
          "yanchor": "bottom",
          "yref": "paper"
         }
        ],
        "height": 800,
        "showlegend": false,
        "template": {
         "data": {
          "bar": [
           {
            "error_x": {
             "color": "#2a3f5f"
            },
            "error_y": {
             "color": "#2a3f5f"
            },
            "marker": {
             "line": {
              "color": "#E5ECF6",
              "width": 0.5
             },
             "pattern": {
              "fillmode": "overlay",
              "size": 10,
              "solidity": 0.2
             }
            },
            "type": "bar"
           }
          ],
          "barpolar": [
           {
            "marker": {
             "line": {
              "color": "#E5ECF6",
              "width": 0.5
             },
             "pattern": {
              "fillmode": "overlay",
              "size": 10,
              "solidity": 0.2
             }
            },
            "type": "barpolar"
           }
          ],
          "carpet": [
           {
            "aaxis": {
             "endlinecolor": "#2a3f5f",
             "gridcolor": "white",
             "linecolor": "white",
             "minorgridcolor": "white",
             "startlinecolor": "#2a3f5f"
            },
            "baxis": {
             "endlinecolor": "#2a3f5f",
             "gridcolor": "white",
             "linecolor": "white",
             "minorgridcolor": "white",
             "startlinecolor": "#2a3f5f"
            },
            "type": "carpet"
           }
          ],
          "choropleth": [
           {
            "colorbar": {
             "outlinewidth": 0,
             "ticks": ""
            },
            "type": "choropleth"
           }
          ],
          "contour": [
           {
            "colorbar": {
             "outlinewidth": 0,
             "ticks": ""
            },
            "colorscale": [
             [
              0,
              "#0d0887"
             ],
             [
              0.1111111111111111,
              "#46039f"
             ],
             [
              0.2222222222222222,
              "#7201a8"
             ],
             [
              0.3333333333333333,
              "#9c179e"
             ],
             [
              0.4444444444444444,
              "#bd3786"
             ],
             [
              0.5555555555555556,
              "#d8576b"
             ],
             [
              0.6666666666666666,
              "#ed7953"
             ],
             [
              0.7777777777777778,
              "#fb9f3a"
             ],
             [
              0.8888888888888888,
              "#fdca26"
             ],
             [
              1,
              "#f0f921"
             ]
            ],
            "type": "contour"
           }
          ],
          "contourcarpet": [
           {
            "colorbar": {
             "outlinewidth": 0,
             "ticks": ""
            },
            "type": "contourcarpet"
           }
          ],
          "heatmap": [
           {
            "colorbar": {
             "outlinewidth": 0,
             "ticks": ""
            },
            "colorscale": [
             [
              0,
              "#0d0887"
             ],
             [
              0.1111111111111111,
              "#46039f"
             ],
             [
              0.2222222222222222,
              "#7201a8"
             ],
             [
              0.3333333333333333,
              "#9c179e"
             ],
             [
              0.4444444444444444,
              "#bd3786"
             ],
             [
              0.5555555555555556,
              "#d8576b"
             ],
             [
              0.6666666666666666,
              "#ed7953"
             ],
             [
              0.7777777777777778,
              "#fb9f3a"
             ],
             [
              0.8888888888888888,
              "#fdca26"
             ],
             [
              1,
              "#f0f921"
             ]
            ],
            "type": "heatmap"
           }
          ],
          "heatmapgl": [
           {
            "colorbar": {
             "outlinewidth": 0,
             "ticks": ""
            },
            "colorscale": [
             [
              0,
              "#0d0887"
             ],
             [
              0.1111111111111111,
              "#46039f"
             ],
             [
              0.2222222222222222,
              "#7201a8"
             ],
             [
              0.3333333333333333,
              "#9c179e"
             ],
             [
              0.4444444444444444,
              "#bd3786"
             ],
             [
              0.5555555555555556,
              "#d8576b"
             ],
             [
              0.6666666666666666,
              "#ed7953"
             ],
             [
              0.7777777777777778,
              "#fb9f3a"
             ],
             [
              0.8888888888888888,
              "#fdca26"
             ],
             [
              1,
              "#f0f921"
             ]
            ],
            "type": "heatmapgl"
           }
          ],
          "histogram": [
           {
            "marker": {
             "pattern": {
              "fillmode": "overlay",
              "size": 10,
              "solidity": 0.2
             }
            },
            "type": "histogram"
           }
          ],
          "histogram2d": [
           {
            "colorbar": {
             "outlinewidth": 0,
             "ticks": ""
            },
            "colorscale": [
             [
              0,
              "#0d0887"
             ],
             [
              0.1111111111111111,
              "#46039f"
             ],
             [
              0.2222222222222222,
              "#7201a8"
             ],
             [
              0.3333333333333333,
              "#9c179e"
             ],
             [
              0.4444444444444444,
              "#bd3786"
             ],
             [
              0.5555555555555556,
              "#d8576b"
             ],
             [
              0.6666666666666666,
              "#ed7953"
             ],
             [
              0.7777777777777778,
              "#fb9f3a"
             ],
             [
              0.8888888888888888,
              "#fdca26"
             ],
             [
              1,
              "#f0f921"
             ]
            ],
            "type": "histogram2d"
           }
          ],
          "histogram2dcontour": [
           {
            "colorbar": {
             "outlinewidth": 0,
             "ticks": ""
            },
            "colorscale": [
             [
              0,
              "#0d0887"
             ],
             [
              0.1111111111111111,
              "#46039f"
             ],
             [
              0.2222222222222222,
              "#7201a8"
             ],
             [
              0.3333333333333333,
              "#9c179e"
             ],
             [
              0.4444444444444444,
              "#bd3786"
             ],
             [
              0.5555555555555556,
              "#d8576b"
             ],
             [
              0.6666666666666666,
              "#ed7953"
             ],
             [
              0.7777777777777778,
              "#fb9f3a"
             ],
             [
              0.8888888888888888,
              "#fdca26"
             ],
             [
              1,
              "#f0f921"
             ]
            ],
            "type": "histogram2dcontour"
           }
          ],
          "mesh3d": [
           {
            "colorbar": {
             "outlinewidth": 0,
             "ticks": ""
            },
            "type": "mesh3d"
           }
          ],
          "parcoords": [
           {
            "line": {
             "colorbar": {
              "outlinewidth": 0,
              "ticks": ""
             }
            },
            "type": "parcoords"
           }
          ],
          "pie": [
           {
            "automargin": true,
            "type": "pie"
           }
          ],
          "scatter": [
           {
            "fillpattern": {
             "fillmode": "overlay",
             "size": 10,
             "solidity": 0.2
            },
            "type": "scatter"
           }
          ],
          "scatter3d": [
           {
            "line": {
             "colorbar": {
              "outlinewidth": 0,
              "ticks": ""
             }
            },
            "marker": {
             "colorbar": {
              "outlinewidth": 0,
              "ticks": ""
             }
            },
            "type": "scatter3d"
           }
          ],
          "scattercarpet": [
           {
            "marker": {
             "colorbar": {
              "outlinewidth": 0,
              "ticks": ""
             }
            },
            "type": "scattercarpet"
           }
          ],
          "scattergeo": [
           {
            "marker": {
             "colorbar": {
              "outlinewidth": 0,
              "ticks": ""
             }
            },
            "type": "scattergeo"
           }
          ],
          "scattergl": [
           {
            "marker": {
             "colorbar": {
              "outlinewidth": 0,
              "ticks": ""
             }
            },
            "type": "scattergl"
           }
          ],
          "scattermapbox": [
           {
            "marker": {
             "colorbar": {
              "outlinewidth": 0,
              "ticks": ""
             }
            },
            "type": "scattermapbox"
           }
          ],
          "scatterpolar": [
           {
            "marker": {
             "colorbar": {
              "outlinewidth": 0,
              "ticks": ""
             }
            },
            "type": "scatterpolar"
           }
          ],
          "scatterpolargl": [
           {
            "marker": {
             "colorbar": {
              "outlinewidth": 0,
              "ticks": ""
             }
            },
            "type": "scatterpolargl"
           }
          ],
          "scatterternary": [
           {
            "marker": {
             "colorbar": {
              "outlinewidth": 0,
              "ticks": ""
             }
            },
            "type": "scatterternary"
           }
          ],
          "surface": [
           {
            "colorbar": {
             "outlinewidth": 0,
             "ticks": ""
            },
            "colorscale": [
             [
              0,
              "#0d0887"
             ],
             [
              0.1111111111111111,
              "#46039f"
             ],
             [
              0.2222222222222222,
              "#7201a8"
             ],
             [
              0.3333333333333333,
              "#9c179e"
             ],
             [
              0.4444444444444444,
              "#bd3786"
             ],
             [
              0.5555555555555556,
              "#d8576b"
             ],
             [
              0.6666666666666666,
              "#ed7953"
             ],
             [
              0.7777777777777778,
              "#fb9f3a"
             ],
             [
              0.8888888888888888,
              "#fdca26"
             ],
             [
              1,
              "#f0f921"
             ]
            ],
            "type": "surface"
           }
          ],
          "table": [
           {
            "cells": {
             "fill": {
              "color": "#EBF0F8"
             },
             "line": {
              "color": "white"
             }
            },
            "header": {
             "fill": {
              "color": "#C8D4E3"
             },
             "line": {
              "color": "white"
             }
            },
            "type": "table"
           }
          ]
         },
         "layout": {
          "annotationdefaults": {
           "arrowcolor": "#2a3f5f",
           "arrowhead": 0,
           "arrowwidth": 1
          },
          "autotypenumbers": "strict",
          "coloraxis": {
           "colorbar": {
            "outlinewidth": 0,
            "ticks": ""
           }
          },
          "colorscale": {
           "diverging": [
            [
             0,
             "#8e0152"
            ],
            [
             0.1,
             "#c51b7d"
            ],
            [
             0.2,
             "#de77ae"
            ],
            [
             0.3,
             "#f1b6da"
            ],
            [
             0.4,
             "#fde0ef"
            ],
            [
             0.5,
             "#f7f7f7"
            ],
            [
             0.6,
             "#e6f5d0"
            ],
            [
             0.7,
             "#b8e186"
            ],
            [
             0.8,
             "#7fbc41"
            ],
            [
             0.9,
             "#4d9221"
            ],
            [
             1,
             "#276419"
            ]
           ],
           "sequential": [
            [
             0,
             "#0d0887"
            ],
            [
             0.1111111111111111,
             "#46039f"
            ],
            [
             0.2222222222222222,
             "#7201a8"
            ],
            [
             0.3333333333333333,
             "#9c179e"
            ],
            [
             0.4444444444444444,
             "#bd3786"
            ],
            [
             0.5555555555555556,
             "#d8576b"
            ],
            [
             0.6666666666666666,
             "#ed7953"
            ],
            [
             0.7777777777777778,
             "#fb9f3a"
            ],
            [
             0.8888888888888888,
             "#fdca26"
            ],
            [
             1,
             "#f0f921"
            ]
           ],
           "sequentialminus": [
            [
             0,
             "#0d0887"
            ],
            [
             0.1111111111111111,
             "#46039f"
            ],
            [
             0.2222222222222222,
             "#7201a8"
            ],
            [
             0.3333333333333333,
             "#9c179e"
            ],
            [
             0.4444444444444444,
             "#bd3786"
            ],
            [
             0.5555555555555556,
             "#d8576b"
            ],
            [
             0.6666666666666666,
             "#ed7953"
            ],
            [
             0.7777777777777778,
             "#fb9f3a"
            ],
            [
             0.8888888888888888,
             "#fdca26"
            ],
            [
             1,
             "#f0f921"
            ]
           ]
          },
          "colorway": [
           "#636efa",
           "#EF553B",
           "#00cc96",
           "#ab63fa",
           "#FFA15A",
           "#19d3f3",
           "#FF6692",
           "#B6E880",
           "#FF97FF",
           "#FECB52"
          ],
          "font": {
           "color": "#2a3f5f"
          },
          "geo": {
           "bgcolor": "white",
           "lakecolor": "white",
           "landcolor": "#E5ECF6",
           "showlakes": true,
           "showland": true,
           "subunitcolor": "white"
          },
          "hoverlabel": {
           "align": "left"
          },
          "hovermode": "closest",
          "mapbox": {
           "style": "light"
          },
          "paper_bgcolor": "white",
          "plot_bgcolor": "#E5ECF6",
          "polar": {
           "angularaxis": {
            "gridcolor": "white",
            "linecolor": "white",
            "ticks": ""
           },
           "bgcolor": "#E5ECF6",
           "radialaxis": {
            "gridcolor": "white",
            "linecolor": "white",
            "ticks": ""
           }
          },
          "scene": {
           "xaxis": {
            "backgroundcolor": "#E5ECF6",
            "gridcolor": "white",
            "gridwidth": 2,
            "linecolor": "white",
            "showbackground": true,
            "ticks": "",
            "zerolinecolor": "white"
           },
           "yaxis": {
            "backgroundcolor": "#E5ECF6",
            "gridcolor": "white",
            "gridwidth": 2,
            "linecolor": "white",
            "showbackground": true,
            "ticks": "",
            "zerolinecolor": "white"
           },
           "zaxis": {
            "backgroundcolor": "#E5ECF6",
            "gridcolor": "white",
            "gridwidth": 2,
            "linecolor": "white",
            "showbackground": true,
            "ticks": "",
            "zerolinecolor": "white"
           }
          },
          "shapedefaults": {
           "line": {
            "color": "#2a3f5f"
           }
          },
          "ternary": {
           "aaxis": {
            "gridcolor": "white",
            "linecolor": "white",
            "ticks": ""
           },
           "baxis": {
            "gridcolor": "white",
            "linecolor": "white",
            "ticks": ""
           },
           "bgcolor": "#E5ECF6",
           "caxis": {
            "gridcolor": "white",
            "linecolor": "white",
            "ticks": ""
           }
          },
          "title": {
           "x": 0.05
          },
          "xaxis": {
           "automargin": true,
           "gridcolor": "white",
           "linecolor": "white",
           "ticks": "",
           "title": {
            "standoff": 15
           },
           "zerolinecolor": "white",
           "zerolinewidth": 2
          },
          "yaxis": {
           "automargin": true,
           "gridcolor": "white",
           "linecolor": "white",
           "ticks": "",
           "title": {
            "standoff": 15
           },
           "zerolinecolor": "white",
           "zerolinewidth": 2
          }
         }
        },
        "title": {
         "text": "Mean Metrics Across Definition Sources"
        },
        "width": 1200,
        "xaxis": {
         "anchor": "y",
         "domain": [
          0,
          0.2888888888888889
         ],
         "title": {
          "text": "Source"
         }
        },
        "xaxis2": {
         "anchor": "y2",
         "domain": [
          0.35555555555555557,
          0.6444444444444445
         ],
         "title": {
          "text": "Source"
         }
        },
        "xaxis3": {
         "anchor": "y3",
         "domain": [
          0.7111111111111111,
          1
         ],
         "title": {
          "text": "Source"
         }
        },
        "xaxis4": {
         "anchor": "y4",
         "domain": [
          0,
          0.2888888888888889
         ],
         "title": {
          "text": "Source"
         }
        },
        "xaxis5": {
         "anchor": "y5",
         "domain": [
          0.35555555555555557,
          0.6444444444444445
         ],
         "title": {
          "text": "Source"
         }
        },
        "xaxis6": {
         "anchor": "y6",
         "domain": [
          0.7111111111111111,
          1
         ]
        },
        "yaxis": {
         "anchor": "x",
         "domain": [
          0.625,
          1
         ],
         "range": [
          0,
          1
         ],
         "title": {
          "text": "Mean Score"
         }
        },
        "yaxis2": {
         "anchor": "x2",
         "domain": [
          0.625,
          1
         ],
         "range": [
          0,
          1
         ],
         "title": {
          "text": "Mean Score"
         }
        },
        "yaxis3": {
         "anchor": "x3",
         "domain": [
          0.625,
          1
         ],
         "range": [
          0,
          1
         ],
         "title": {
          "text": "Mean Score"
         }
        },
        "yaxis4": {
         "anchor": "x4",
         "domain": [
          0,
          0.375
         ],
         "range": [
          0,
          1
         ],
         "title": {
          "text": "Mean Score"
         }
        },
        "yaxis5": {
         "anchor": "x5",
         "domain": [
          0,
          0.375
         ],
         "range": [
          0,
          1
         ],
         "title": {
          "text": "Mean Score"
         }
        },
        "yaxis6": {
         "anchor": "x6",
         "domain": [
          0,
          0.375
         ]
        }
       }
      },
      "text/html": [
       "<div>                            <div id=\"359a990b-2d12-4e6c-be61-4b6dc94eff5a\" class=\"plotly-graph-div\" style=\"height:800px; width:1200px;\"></div>            <script type=\"text/javascript\">                require([\"plotly\"], function(Plotly) {                    window.PLOTLYENV=window.PLOTLYENV || {};                                    if (document.getElementById(\"359a990b-2d12-4e6c-be61-4b6dc94eff5a\")) {                    Plotly.newPlot(                        \"359a990b-2d12-4e6c-be61-4b6dc94eff5a\",                        [{\"marker\":{\"color\":[\"blue\",\"red\",\"green\",\"purple\"]},\"name\":\"Mean Similarity with GT Defs\",\"x\":[\"from trans\",\"from def\",\"baseline\",\"rnd gt\"],\"y\":[0.5680396395902603,0.6636404442385986,0.665000435251456,0.6817364909518988],\"type\":\"bar\",\"xaxis\":\"x\",\"yaxis\":\"y\"},{\"marker\":{\"color\":[\"blue\",\"red\",\"green\",\"purple\"]},\"name\":\"Similarity with Mean Embedding of GT Defs\",\"x\":[\"from trans\",\"from def\",\"baseline\",\"rnd gt\"],\"y\":[0.6629474576658163,0.7751740712481432,0.7772011514275502,0.848923734938487],\"type\":\"bar\",\"xaxis\":\"x2\",\"yaxis\":\"y2\"},{\"marker\":{\"color\":[\"blue\",\"red\",\"green\",\"purple\"]},\"name\":\"Max Similarity with GT Defs\",\"x\":[\"from trans\",\"from def\",\"baseline\",\"rnd gt\"],\"y\":[0.689696829383954,0.7884001365074744,0.7964361740801579,0.8081800072238996],\"type\":\"bar\",\"xaxis\":\"x3\",\"yaxis\":\"y3\"},{\"marker\":{\"color\":[\"blue\",\"red\",\"green\",\"purple\"]},\"name\":\"Mean Similarity with Other Words\",\"x\":[\"from trans\",\"from def\",\"baseline\",\"rnd gt\"],\"y\":[0.20446813111312878,0.20887215397296807,0.21842395113064692,0.19896965894179466],\"type\":\"bar\",\"xaxis\":\"x4\",\"yaxis\":\"y4\"},{\"marker\":{\"color\":[\"blue\",\"red\",\"green\",\"purple\"]},\"name\":\"Max Similarity with Other Words\",\"x\":[\"from trans\",\"from def\",\"baseline\",\"rnd gt\"],\"y\":[0.7128504837552706,0.7107206004170271,0.7158888928019084,0.6909513760071534],\"type\":\"bar\",\"xaxis\":\"x5\",\"yaxis\":\"y5\"}],                        {\"template\":{\"data\":{\"histogram2dcontour\":[{\"type\":\"histogram2dcontour\",\"colorbar\":{\"outlinewidth\":0,\"ticks\":\"\"},\"colorscale\":[[0.0,\"#0d0887\"],[0.1111111111111111,\"#46039f\"],[0.2222222222222222,\"#7201a8\"],[0.3333333333333333,\"#9c179e\"],[0.4444444444444444,\"#bd3786\"],[0.5555555555555556,\"#d8576b\"],[0.6666666666666666,\"#ed7953\"],[0.7777777777777778,\"#fb9f3a\"],[0.8888888888888888,\"#fdca26\"],[1.0,\"#f0f921\"]]}],\"choropleth\":[{\"type\":\"choropleth\",\"colorbar\":{\"outlinewidth\":0,\"ticks\":\"\"}}],\"histogram2d\":[{\"type\":\"histogram2d\",\"colorbar\":{\"outlinewidth\":0,\"ticks\":\"\"},\"colorscale\":[[0.0,\"#0d0887\"],[0.1111111111111111,\"#46039f\"],[0.2222222222222222,\"#7201a8\"],[0.3333333333333333,\"#9c179e\"],[0.4444444444444444,\"#bd3786\"],[0.5555555555555556,\"#d8576b\"],[0.6666666666666666,\"#ed7953\"],[0.7777777777777778,\"#fb9f3a\"],[0.8888888888888888,\"#fdca26\"],[1.0,\"#f0f921\"]]}],\"heatmap\":[{\"type\":\"heatmap\",\"colorbar\":{\"outlinewidth\":0,\"ticks\":\"\"},\"colorscale\":[[0.0,\"#0d0887\"],[0.1111111111111111,\"#46039f\"],[0.2222222222222222,\"#7201a8\"],[0.3333333333333333,\"#9c179e\"],[0.4444444444444444,\"#bd3786\"],[0.5555555555555556,\"#d8576b\"],[0.6666666666666666,\"#ed7953\"],[0.7777777777777778,\"#fb9f3a\"],[0.8888888888888888,\"#fdca26\"],[1.0,\"#f0f921\"]]}],\"heatmapgl\":[{\"type\":\"heatmapgl\",\"colorbar\":{\"outlinewidth\":0,\"ticks\":\"\"},\"colorscale\":[[0.0,\"#0d0887\"],[0.1111111111111111,\"#46039f\"],[0.2222222222222222,\"#7201a8\"],[0.3333333333333333,\"#9c179e\"],[0.4444444444444444,\"#bd3786\"],[0.5555555555555556,\"#d8576b\"],[0.6666666666666666,\"#ed7953\"],[0.7777777777777778,\"#fb9f3a\"],[0.8888888888888888,\"#fdca26\"],[1.0,\"#f0f921\"]]}],\"contourcarpet\":[{\"type\":\"contourcarpet\",\"colorbar\":{\"outlinewidth\":0,\"ticks\":\"\"}}],\"contour\":[{\"type\":\"contour\",\"colorbar\":{\"outlinewidth\":0,\"ticks\":\"\"},\"colorscale\":[[0.0,\"#0d0887\"],[0.1111111111111111,\"#46039f\"],[0.2222222222222222,\"#7201a8\"],[0.3333333333333333,\"#9c179e\"],[0.4444444444444444,\"#bd3786\"],[0.5555555555555556,\"#d8576b\"],[0.6666666666666666,\"#ed7953\"],[0.7777777777777778,\"#fb9f3a\"],[0.8888888888888888,\"#fdca26\"],[1.0,\"#f0f921\"]]}],\"surface\":[{\"type\":\"surface\",\"colorbar\":{\"outlinewidth\":0,\"ticks\":\"\"},\"colorscale\":[[0.0,\"#0d0887\"],[0.1111111111111111,\"#46039f\"],[0.2222222222222222,\"#7201a8\"],[0.3333333333333333,\"#9c179e\"],[0.4444444444444444,\"#bd3786\"],[0.5555555555555556,\"#d8576b\"],[0.6666666666666666,\"#ed7953\"],[0.7777777777777778,\"#fb9f3a\"],[0.8888888888888888,\"#fdca26\"],[1.0,\"#f0f921\"]]}],\"mesh3d\":[{\"type\":\"mesh3d\",\"colorbar\":{\"outlinewidth\":0,\"ticks\":\"\"}}],\"scatter\":[{\"fillpattern\":{\"fillmode\":\"overlay\",\"size\":10,\"solidity\":0.2},\"type\":\"scatter\"}],\"parcoords\":[{\"type\":\"parcoords\",\"line\":{\"colorbar\":{\"outlinewidth\":0,\"ticks\":\"\"}}}],\"scatterpolargl\":[{\"type\":\"scatterpolargl\",\"marker\":{\"colorbar\":{\"outlinewidth\":0,\"ticks\":\"\"}}}],\"bar\":[{\"error_x\":{\"color\":\"#2a3f5f\"},\"error_y\":{\"color\":\"#2a3f5f\"},\"marker\":{\"line\":{\"color\":\"#E5ECF6\",\"width\":0.5},\"pattern\":{\"fillmode\":\"overlay\",\"size\":10,\"solidity\":0.2}},\"type\":\"bar\"}],\"scattergeo\":[{\"type\":\"scattergeo\",\"marker\":{\"colorbar\":{\"outlinewidth\":0,\"ticks\":\"\"}}}],\"scatterpolar\":[{\"type\":\"scatterpolar\",\"marker\":{\"colorbar\":{\"outlinewidth\":0,\"ticks\":\"\"}}}],\"histogram\":[{\"marker\":{\"pattern\":{\"fillmode\":\"overlay\",\"size\":10,\"solidity\":0.2}},\"type\":\"histogram\"}],\"scattergl\":[{\"type\":\"scattergl\",\"marker\":{\"colorbar\":{\"outlinewidth\":0,\"ticks\":\"\"}}}],\"scatter3d\":[{\"type\":\"scatter3d\",\"line\":{\"colorbar\":{\"outlinewidth\":0,\"ticks\":\"\"}},\"marker\":{\"colorbar\":{\"outlinewidth\":0,\"ticks\":\"\"}}}],\"scattermapbox\":[{\"type\":\"scattermapbox\",\"marker\":{\"colorbar\":{\"outlinewidth\":0,\"ticks\":\"\"}}}],\"scatterternary\":[{\"type\":\"scatterternary\",\"marker\":{\"colorbar\":{\"outlinewidth\":0,\"ticks\":\"\"}}}],\"scattercarpet\":[{\"type\":\"scattercarpet\",\"marker\":{\"colorbar\":{\"outlinewidth\":0,\"ticks\":\"\"}}}],\"carpet\":[{\"aaxis\":{\"endlinecolor\":\"#2a3f5f\",\"gridcolor\":\"white\",\"linecolor\":\"white\",\"minorgridcolor\":\"white\",\"startlinecolor\":\"#2a3f5f\"},\"baxis\":{\"endlinecolor\":\"#2a3f5f\",\"gridcolor\":\"white\",\"linecolor\":\"white\",\"minorgridcolor\":\"white\",\"startlinecolor\":\"#2a3f5f\"},\"type\":\"carpet\"}],\"table\":[{\"cells\":{\"fill\":{\"color\":\"#EBF0F8\"},\"line\":{\"color\":\"white\"}},\"header\":{\"fill\":{\"color\":\"#C8D4E3\"},\"line\":{\"color\":\"white\"}},\"type\":\"table\"}],\"barpolar\":[{\"marker\":{\"line\":{\"color\":\"#E5ECF6\",\"width\":0.5},\"pattern\":{\"fillmode\":\"overlay\",\"size\":10,\"solidity\":0.2}},\"type\":\"barpolar\"}],\"pie\":[{\"automargin\":true,\"type\":\"pie\"}]},\"layout\":{\"autotypenumbers\":\"strict\",\"colorway\":[\"#636efa\",\"#EF553B\",\"#00cc96\",\"#ab63fa\",\"#FFA15A\",\"#19d3f3\",\"#FF6692\",\"#B6E880\",\"#FF97FF\",\"#FECB52\"],\"font\":{\"color\":\"#2a3f5f\"},\"hovermode\":\"closest\",\"hoverlabel\":{\"align\":\"left\"},\"paper_bgcolor\":\"white\",\"plot_bgcolor\":\"#E5ECF6\",\"polar\":{\"bgcolor\":\"#E5ECF6\",\"angularaxis\":{\"gridcolor\":\"white\",\"linecolor\":\"white\",\"ticks\":\"\"},\"radialaxis\":{\"gridcolor\":\"white\",\"linecolor\":\"white\",\"ticks\":\"\"}},\"ternary\":{\"bgcolor\":\"#E5ECF6\",\"aaxis\":{\"gridcolor\":\"white\",\"linecolor\":\"white\",\"ticks\":\"\"},\"baxis\":{\"gridcolor\":\"white\",\"linecolor\":\"white\",\"ticks\":\"\"},\"caxis\":{\"gridcolor\":\"white\",\"linecolor\":\"white\",\"ticks\":\"\"}},\"coloraxis\":{\"colorbar\":{\"outlinewidth\":0,\"ticks\":\"\"}},\"colorscale\":{\"sequential\":[[0.0,\"#0d0887\"],[0.1111111111111111,\"#46039f\"],[0.2222222222222222,\"#7201a8\"],[0.3333333333333333,\"#9c179e\"],[0.4444444444444444,\"#bd3786\"],[0.5555555555555556,\"#d8576b\"],[0.6666666666666666,\"#ed7953\"],[0.7777777777777778,\"#fb9f3a\"],[0.8888888888888888,\"#fdca26\"],[1.0,\"#f0f921\"]],\"sequentialminus\":[[0.0,\"#0d0887\"],[0.1111111111111111,\"#46039f\"],[0.2222222222222222,\"#7201a8\"],[0.3333333333333333,\"#9c179e\"],[0.4444444444444444,\"#bd3786\"],[0.5555555555555556,\"#d8576b\"],[0.6666666666666666,\"#ed7953\"],[0.7777777777777778,\"#fb9f3a\"],[0.8888888888888888,\"#fdca26\"],[1.0,\"#f0f921\"]],\"diverging\":[[0,\"#8e0152\"],[0.1,\"#c51b7d\"],[0.2,\"#de77ae\"],[0.3,\"#f1b6da\"],[0.4,\"#fde0ef\"],[0.5,\"#f7f7f7\"],[0.6,\"#e6f5d0\"],[0.7,\"#b8e186\"],[0.8,\"#7fbc41\"],[0.9,\"#4d9221\"],[1,\"#276419\"]]},\"xaxis\":{\"gridcolor\":\"white\",\"linecolor\":\"white\",\"ticks\":\"\",\"title\":{\"standoff\":15},\"zerolinecolor\":\"white\",\"automargin\":true,\"zerolinewidth\":2},\"yaxis\":{\"gridcolor\":\"white\",\"linecolor\":\"white\",\"ticks\":\"\",\"title\":{\"standoff\":15},\"zerolinecolor\":\"white\",\"automargin\":true,\"zerolinewidth\":2},\"scene\":{\"xaxis\":{\"backgroundcolor\":\"#E5ECF6\",\"gridcolor\":\"white\",\"linecolor\":\"white\",\"showbackground\":true,\"ticks\":\"\",\"zerolinecolor\":\"white\",\"gridwidth\":2},\"yaxis\":{\"backgroundcolor\":\"#E5ECF6\",\"gridcolor\":\"white\",\"linecolor\":\"white\",\"showbackground\":true,\"ticks\":\"\",\"zerolinecolor\":\"white\",\"gridwidth\":2},\"zaxis\":{\"backgroundcolor\":\"#E5ECF6\",\"gridcolor\":\"white\",\"linecolor\":\"white\",\"showbackground\":true,\"ticks\":\"\",\"zerolinecolor\":\"white\",\"gridwidth\":2}},\"shapedefaults\":{\"line\":{\"color\":\"#2a3f5f\"}},\"annotationdefaults\":{\"arrowcolor\":\"#2a3f5f\",\"arrowhead\":0,\"arrowwidth\":1},\"geo\":{\"bgcolor\":\"white\",\"landcolor\":\"#E5ECF6\",\"subunitcolor\":\"white\",\"showland\":true,\"showlakes\":true,\"lakecolor\":\"white\"},\"title\":{\"x\":0.05},\"mapbox\":{\"style\":\"light\"}}},\"xaxis\":{\"anchor\":\"y\",\"domain\":[0.0,0.2888888888888889],\"title\":{\"text\":\"Source\"}},\"yaxis\":{\"anchor\":\"x\",\"domain\":[0.625,1.0],\"title\":{\"text\":\"Mean Score\"},\"range\":[0,1]},\"xaxis2\":{\"anchor\":\"y2\",\"domain\":[0.35555555555555557,0.6444444444444445],\"title\":{\"text\":\"Source\"}},\"yaxis2\":{\"anchor\":\"x2\",\"domain\":[0.625,1.0],\"title\":{\"text\":\"Mean Score\"},\"range\":[0,1]},\"xaxis3\":{\"anchor\":\"y3\",\"domain\":[0.7111111111111111,1.0],\"title\":{\"text\":\"Source\"}},\"yaxis3\":{\"anchor\":\"x3\",\"domain\":[0.625,1.0],\"title\":{\"text\":\"Mean Score\"},\"range\":[0,1]},\"xaxis4\":{\"anchor\":\"y4\",\"domain\":[0.0,0.2888888888888889],\"title\":{\"text\":\"Source\"}},\"yaxis4\":{\"anchor\":\"x4\",\"domain\":[0.0,0.375],\"title\":{\"text\":\"Mean Score\"},\"range\":[0,1]},\"xaxis5\":{\"anchor\":\"y5\",\"domain\":[0.35555555555555557,0.6444444444444445],\"title\":{\"text\":\"Source\"}},\"yaxis5\":{\"anchor\":\"x5\",\"domain\":[0.0,0.375],\"title\":{\"text\":\"Mean Score\"},\"range\":[0,1]},\"xaxis6\":{\"anchor\":\"y6\",\"domain\":[0.7111111111111111,1.0]},\"yaxis6\":{\"anchor\":\"x6\",\"domain\":[0.0,0.375]},\"annotations\":[{\"font\":{\"size\":16},\"showarrow\":false,\"text\":\"Mean Similarity with GT Defs\",\"x\":0.14444444444444446,\"xanchor\":\"center\",\"xref\":\"paper\",\"y\":1.0,\"yanchor\":\"bottom\",\"yref\":\"paper\"},{\"font\":{\"size\":16},\"showarrow\":false,\"text\":\"Similarity with Mean Embedding of GT Defs\",\"x\":0.5,\"xanchor\":\"center\",\"xref\":\"paper\",\"y\":1.0,\"yanchor\":\"bottom\",\"yref\":\"paper\"},{\"font\":{\"size\":16},\"showarrow\":false,\"text\":\"Max Similarity with GT Defs\",\"x\":0.8555555555555556,\"xanchor\":\"center\",\"xref\":\"paper\",\"y\":1.0,\"yanchor\":\"bottom\",\"yref\":\"paper\"},{\"font\":{\"size\":16},\"showarrow\":false,\"text\":\"Mean Similarity with Other Words\",\"x\":0.14444444444444446,\"xanchor\":\"center\",\"xref\":\"paper\",\"y\":0.375,\"yanchor\":\"bottom\",\"yref\":\"paper\"},{\"font\":{\"size\":16},\"showarrow\":false,\"text\":\"Max Similarity with Other Words\",\"x\":0.5,\"xanchor\":\"center\",\"xref\":\"paper\",\"y\":0.375,\"yanchor\":\"bottom\",\"yref\":\"paper\"}],\"title\":{\"text\":\"Mean Metrics Across Definition Sources\"},\"showlegend\":false,\"height\":800,\"width\":1200},                        {\"responsive\": true}                    ).then(function(){\n",
       "                            \n",
       "var gd = document.getElementById('359a990b-2d12-4e6c-be61-4b6dc94eff5a');\n",
       "var x = new MutationObserver(function (mutations, observer) {{\n",
       "        var display = window.getComputedStyle(gd).display;\n",
       "        if (!display || display === 'none') {{\n",
       "            console.log([gd, 'removed!']);\n",
       "            Plotly.purge(gd);\n",
       "            observer.disconnect();\n",
       "        }}\n",
       "}});\n",
       "\n",
       "// Listen for the removal of the full notebook cells\n",
       "var notebookContainer = gd.closest('#notebook-container');\n",
       "if (notebookContainer) {{\n",
       "    x.observe(notebookContainer, {childList: true});\n",
       "}}\n",
       "\n",
       "// Listen for the clearing of the current output cell\n",
       "var outputEl = gd.closest('.output');\n",
       "if (outputEl) {{\n",
       "    x.observe(outputEl, {childList: true});\n",
       "}}\n",
       "\n",
       "                        })                };                });            </script>        </div>"
      ]
     },
     "metadata": {},
     "output_type": "display_data"
    }
   ],
   "source": [
    "paper_pairs = [[\"de\", \"it\"], [\"nl\", \"fi\"], [\"zh\", \"es\"], [\"es\", \"ru\"], [\"ru\", \"ko\"]]\n",
    "paper_ins = [\"de\", \"nl\", \"zh\", \"es\", \"ru\"]\n",
    "test_pairs = [[\"es\", \"fr\"], [\"es\", \"de\"]]\n",
    "paper_args = [\n",
    "    (test_pairs, \"en\"),\n",
    "    (paper_pairs, \"en\"),\n",
    "    ([[\"en\", \"fr\"]], \"en\"),\n",
    "    [[[l, \"hi\"] for l in paper_ins], \"en\"],\n",
    "]\n",
    "for pargs in paper_args:\n",
    "    figs = experiment(*pargs)\n"
   ]
  }
 ],
 "metadata": {
  "kernelspec": {
   "display_name": "Python 3",
   "language": "python",
   "name": "python3"
  },
  "language_info": {
   "codemirror_mode": {
    "name": "ipython",
    "version": 3
   },
   "file_extension": ".py",
   "mimetype": "text/x-python",
   "name": "python",
   "nbconvert_exporter": "python",
   "pygments_lexer": "ipython3",
   "version": "3.11.9"
  }
 },
 "nbformat": 4,
 "nbformat_minor": 2
}
