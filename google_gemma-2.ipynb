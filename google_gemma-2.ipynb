{
 "cells": [
  {
   "cell_type": "code",
   "execution_count": 1,
   "id": "92d23aab",
   "metadata": {},
   "outputs": [
    {
     "name": "stderr",
     "output_type": "stream",
     "text": [
      "`config.hidden_act` is ignored, you should use `config.hidden_activation` instead.\n",
      "Gemma's activation function will be set to `gelu_pytorch_tanh`. Please, use\n",
      "`config.hidden_activation` if you want to override this behaviour.\n",
      "See https://github.com/huggingface/transformers/pull/29402 for more details.\n"
     ]
    },
    {
     "data": {
      "application/vnd.jupyter.widget-view+json": {
       "model_id": "9b20560df2594aeaafcba14faa1b2e7a",
       "version_major": 2,
       "version_minor": 0
      },
      "text/plain": [
       "Loading checkpoint shards:   0%|          | 0/2 [00:00<?, ?it/s]"
      ]
     },
     "metadata": {},
     "output_type": "display_data"
    },
    {
     "name": "stdout",
     "output_type": "stream",
     "text": [
      "Loaded pretrained model google/gemma-2b into HookedTransformer\n"
     ]
    }
   ],
   "source": [
    "model = \"google/gemma-2b\"\n",
    "device = \"cuda\"\n",
    "batch_size = 64\n",
    "from transformer_lens import HookedTransformer\n",
    "\n",
    "tl_model = HookedTransformer.from_pretrained_no_processing(model, device=device)"
   ]
  },
  {
   "cell_type": "code",
   "execution_count": 1,
   "id": "95e468e8",
   "metadata": {
    "execution": {
     "iopub.execute_input": "2024-08-22T19:39:58.660548Z",
     "iopub.status.busy": "2024-08-22T19:39:58.660253Z",
     "iopub.status.idle": "2024-08-22T19:40:04.147226Z",
     "shell.execute_reply": "2024-08-22T19:40:04.138132Z"
    },
    "papermill": {
     "duration": 5.497426,
     "end_time": "2024-08-22T19:40:04.154138",
     "exception": false,
     "start_time": "2024-08-22T19:39:58.656712",
     "status": "completed"
    },
    "tags": []
   },
   "outputs": [
    {
     "name": "stderr",
     "output_type": "stream",
     "text": [
      "`config.hidden_act` is ignored, you should use `config.hidden_activation` instead.\n",
      "Gemma's activation function will be set to `gelu_pytorch_tanh`. Please, use\n",
      "`config.hidden_activation` if you want to override this behaviour.\n",
      "See https://github.com/huggingface/transformers/pull/29402 for more details.\n"
     ]
    },
    {
     "data": {
      "application/vnd.jupyter.widget-view+json": {
       "model_id": "6b6d8838ae1045c09e8f84842dd31801",
       "version_major": 2,
       "version_minor": 0
      },
      "text/plain": [
       "Loading checkpoint shards:   0%|          | 0/2 [00:00<?, ?it/s]"
      ]
     },
     "metadata": {},
     "output_type": "display_data"
    },
    {
     "name": "stdout",
     "output_type": "stream",
     "text": [
      "Loaded pretrained model google/gemma-2b into HookedTransformer\n"
     ]
    },
    {
     "data": {
      "application/vnd.jupyter.widget-view+json": {
       "model_id": "9613faaf2f1745109261d6d097d61de3",
       "version_major": 2,
       "version_minor": 0
      },
      "text/plain": [
       "Loading checkpoint shards:   0%|          | 0/2 [00:00<?, ?it/s]"
      ]
     },
     "metadata": {},
     "output_type": "display_data"
    },
    {
     "name": "stdout",
     "output_type": "stream",
     "text": [
      "Français: \"mot\" - 中文: \"詞\"\n",
      "Français: \"position\" - 中文: \"地理位置\"\n",
      "Français: \"porte\" - 中文: \"戶\"\n",
      "Français: \"plate-forme\" - 中文: \"月台\"\n",
      "Français: \"onde\" - 中文: \"海浪\"\n",
      "Français: \"temps\" - 中文: \"\n",
      "\n",
      "Français: \"mot\" - 中文: \"詞\"\n",
      "Français: \"position\" - 中文: \"地理位置\"\n",
      "Français: \"porte\" - 中文: \"戶\"\n",
      "Français: \"plate-forme\" - 中文: \"月台\"\n",
      "Français: \"onde\" - 中文: \"\n",
      "\n",
      "Français: \"mot\" - 中文: \"詞\"\n",
      "Français: \"position\" - 中文: \"地理位置\"\n",
      "Français: \"porte\" - 中文: \"戶\"\n",
      "Français: \"plate-forme\" - 中文: \"\n",
      "\n",
      "Français: \"mot\" - 中文: \"詞\"\n",
      "Français: \"position\" - 中文: \"地理位置\"\n",
      "Français: \"porte\" - 中文: \"\n",
      "\n",
      "Français: \"mot\" - 中文: \"詞\"\n",
      "Français: \"position\" - 中文: \"\n",
      "\n",
      "Français: \"mot\" - 中文: \"\n",
      "\n"
     ]
    },
    {
     "data": {
      "application/vnd.jupyter.widget-view+json": {
       "model_id": "02ee1a78184949778ae01975e27f3735",
       "version_major": 2,
       "version_minor": 0
      },
      "text/plain": [
       "  0%|          | 0/1 [00:00<?, ?it/s]"
      ]
     },
     "metadata": {},
     "output_type": "display_data"
    },
    {
     "data": {
      "application/vnd.jupyter.widget-view+json": {
       "model_id": "f395f3a062c84d81a9879f65f0c9715e",
       "version_major": 2,
       "version_minor": 0
      },
      "text/plain": [
       "  0%|          | 0/1 [00:00<?, ?it/s]"
      ]
     },
     "metadata": {},
     "output_type": "display_data"
    },
    {
     "name": "stdout",
     "output_type": "stream",
     "text": [
      "tensor(0.3879)\n"
     ]
    }
   ],
   "source": [
    "import torch as th\n",
    "from tqdm.auto import tqdm\n",
    "\n",
    "_ = th.set_grad_enabled(False)\n",
    "# Parameters\n",
    "model = \"google/gemma-2b\"\n",
    "device = \"cuda\"\n",
    "batch_size = 64\n",
    "from transformer_lens import HookedTransformer\n",
    "\n",
    "tl_model = HookedTransformer.from_pretrained_no_processing(model, device=device)\n",
    "from transformers import AutoModelForCausalLM, AutoTokenizer\n",
    "\n",
    "hf_model = AutoModelForCausalLM.from_pretrained(model, device_map=device)\n",
    "hf_tokenizer = AutoTokenizer.from_pretrained(model)\n",
    "\n",
    "p = '''Français: \"mot\" - 中文: \"詞\"\n",
    "Français: \"position\" - 中文: \"地理位置\"\n",
    "Français: \"porte\" - 中文: \"戶\"\n",
    "Français: \"plate-forme\" - 中文: \"月台\"\n",
    "Français: \"onde\" - 中文: \"海浪\"\n",
    "Français: \"temps\" - 中文: \"'''\n",
    "prompts = []\n",
    "for i in range(6):\n",
    "    prompts.append(p)\n",
    "    print(p)\n",
    "    print(\"\")\n",
    "    p = '\"'.join(\"\\n\".join(p.split(\"\\n\")[:-1]).split('\"')[:-2]) + '\"'\n",
    "\n",
    "tl_probs = []\n",
    "\n",
    "from torch.utils.data import DataLoader\n",
    "\n",
    "data = DataLoader(\n",
    "    prompts,\n",
    "    batch_size=batch_size,\n",
    "    shuffle=False,\n",
    ")\n",
    "for batch in tqdm(data):\n",
    "    tl_probs.append(tl_model(batch)[:, -1].cpu())\n",
    "tl_probs = th.cat(tl_probs)\n",
    "tl_probs = th.softmax(tl_probs, dim=-1)\n",
    "\n",
    "hf_probs = []\n",
    "for batch in tqdm(data):\n",
    "    hf_probs.append(\n",
    "        hf_model(**hf_tokenizer(batch, return_tensors=\"pt\", padding=True).to(device))\n",
    "        .logits[:, -1]\n",
    "        .cpu()\n",
    "    )\n",
    "hf_probs = th.cat(hf_probs)\n",
    "hf_probs = th.softmax(hf_probs, dim=-1)\n",
    "\n",
    "print((tl_probs - hf_probs).abs().max(dim=-1).values.mean())"
   ]
  }
 ],
 "metadata": {
  "kernelspec": {
   "display_name": ".venv",
   "language": "python",
   "name": "python3"
  },
  "language_info": {
   "codemirror_mode": {
    "name": "ipython",
    "version": 3
   },
   "file_extension": ".py",
   "mimetype": "text/x-python",
   "name": "python",
   "nbconvert_exporter": "python",
   "pygments_lexer": "ipython3",
   "version": "3.11.9"
  },
  "papermill": {
   "default_parameters": {},
   "duration": 152.521177,
   "end_time": "2024-08-22T19:42:26.993370",
   "environment_variables": {},
   "exception": null,
   "input_path": "/mnt/dlabscratch1/cdumas/thinking-lang/notebooks/obj_patch_translation.ipynb",
   "output_path": "/mnt/dlabscratch1/cdumas/thinking-lang/results/obj_patch_translation/google_gemma-2b_1724355594_petite-anaconda.ipynb",
   "parameters": {
    "batch_size": 64,
    "device": "auto",
    "exp_id": "1724355594_petite-anaconda",
    "extra_args": [],
    "model": "google/gemma-2b",
    "model_path": null,
    "num_few_shot": 5,
    "remote": false,
    "trust_remote_code": false,
    "use_tl": false
   },
   "start_time": "2024-08-22T19:39:54.472193",
   "version": "2.6.0"
  },
  "widgets": {
   "application/vnd.jupyter.widget-state+json": {
    "state": {
     "04327ee967e0424b8b247a870cd4338c": {
      "model_module": "@jupyter-widgets/base",
      "model_module_version": "2.0.0",
      "model_name": "LayoutModel",
      "state": {
       "_model_module": "@jupyter-widgets/base",
       "_model_module_version": "2.0.0",
       "_model_name": "LayoutModel",
       "_view_count": null,
       "_view_module": "@jupyter-widgets/base",
       "_view_module_version": "2.0.0",
       "_view_name": "LayoutView",
       "align_content": null,
       "align_items": null,
       "align_self": null,
       "border_bottom": null,
       "border_left": null,
       "border_right": null,
       "border_top": null,
       "bottom": null,
       "display": null,
       "flex": null,
       "flex_flow": null,
       "grid_area": null,
       "grid_auto_columns": null,
       "grid_auto_flow": null,
       "grid_auto_rows": null,
       "grid_column": null,
       "grid_gap": null,
       "grid_row": null,
       "grid_template_areas": null,
       "grid_template_columns": null,
       "grid_template_rows": null,
       "height": null,
       "justify_content": null,
       "justify_items": null,
       "left": null,
       "margin": null,
       "max_height": null,
       "max_width": null,
       "min_height": null,
       "min_width": null,
       "object_fit": null,
       "object_position": null,
       "order": null,
       "overflow": null,
       "padding": null,
       "right": null,
       "top": null,
       "visibility": null,
       "width": null
      }
     },
     "2366f8729c65473d8e4aae502caed83f": {
      "model_module": "@jupyter-widgets/controls",
      "model_module_version": "2.0.0",
      "model_name": "FloatProgressModel",
      "state": {
       "_dom_classes": [],
       "_model_module": "@jupyter-widgets/controls",
       "_model_module_version": "2.0.0",
       "_model_name": "FloatProgressModel",
       "_view_count": null,
       "_view_module": "@jupyter-widgets/controls",
       "_view_module_version": "2.0.0",
       "_view_name": "ProgressView",
       "bar_style": "success",
       "description": "",
       "description_allow_html": false,
       "layout": "IPY_MODEL_6e7909a885774c2fb80b9c62802fdc5c",
       "max": 2,
       "min": 0,
       "orientation": "horizontal",
       "style": "IPY_MODEL_be8b11cbb6b14a30ace009c7a485150a",
       "tabbable": null,
       "tooltip": null,
       "value": 2
      }
     },
     "2ea2b103247343a995794a7b3301c0c4": {
      "model_module": "@jupyter-widgets/base",
      "model_module_version": "2.0.0",
      "model_name": "LayoutModel",
      "state": {
       "_model_module": "@jupyter-widgets/base",
       "_model_module_version": "2.0.0",
       "_model_name": "LayoutModel",
       "_view_count": null,
       "_view_module": "@jupyter-widgets/base",
       "_view_module_version": "2.0.0",
       "_view_name": "LayoutView",
       "align_content": null,
       "align_items": null,
       "align_self": null,
       "border_bottom": null,
       "border_left": null,
       "border_right": null,
       "border_top": null,
       "bottom": null,
       "display": null,
       "flex": null,
       "flex_flow": null,
       "grid_area": null,
       "grid_auto_columns": null,
       "grid_auto_flow": null,
       "grid_auto_rows": null,
       "grid_column": null,
       "grid_gap": null,
       "grid_row": null,
       "grid_template_areas": null,
       "grid_template_columns": null,
       "grid_template_rows": null,
       "height": null,
       "justify_content": null,
       "justify_items": null,
       "left": null,
       "margin": null,
       "max_height": null,
       "max_width": null,
       "min_height": null,
       "min_width": null,
       "object_fit": null,
       "object_position": null,
       "order": null,
       "overflow": null,
       "padding": null,
       "right": null,
       "top": null,
       "visibility": null,
       "width": null
      }
     },
     "400d1d51f9a84850bf39d51725645f04": {
      "model_module": "@jupyter-widgets/controls",
      "model_module_version": "2.0.0",
      "model_name": "HTMLModel",
      "state": {
       "_dom_classes": [],
       "_model_module": "@jupyter-widgets/controls",
       "_model_module_version": "2.0.0",
       "_model_name": "HTMLModel",
       "_view_count": null,
       "_view_module": "@jupyter-widgets/controls",
       "_view_module_version": "2.0.0",
       "_view_name": "HTMLView",
       "description": "",
       "description_allow_html": false,
       "layout": "IPY_MODEL_2ea2b103247343a995794a7b3301c0c4",
       "placeholder": "​",
       "style": "IPY_MODEL_9169740e6b0c4e44afbd1108ce8d0e2e",
       "tabbable": null,
       "tooltip": null,
       "value": " 2/2 [00:02&lt;00:00,  1.03it/s]"
      }
     },
     "6e7909a885774c2fb80b9c62802fdc5c": {
      "model_module": "@jupyter-widgets/base",
      "model_module_version": "2.0.0",
      "model_name": "LayoutModel",
      "state": {
       "_model_module": "@jupyter-widgets/base",
       "_model_module_version": "2.0.0",
       "_model_name": "LayoutModel",
       "_view_count": null,
       "_view_module": "@jupyter-widgets/base",
       "_view_module_version": "2.0.0",
       "_view_name": "LayoutView",
       "align_content": null,
       "align_items": null,
       "align_self": null,
       "border_bottom": null,
       "border_left": null,
       "border_right": null,
       "border_top": null,
       "bottom": null,
       "display": null,
       "flex": null,
       "flex_flow": null,
       "grid_area": null,
       "grid_auto_columns": null,
       "grid_auto_flow": null,
       "grid_auto_rows": null,
       "grid_column": null,
       "grid_gap": null,
       "grid_row": null,
       "grid_template_areas": null,
       "grid_template_columns": null,
       "grid_template_rows": null,
       "height": null,
       "justify_content": null,
       "justify_items": null,
       "left": null,
       "margin": null,
       "max_height": null,
       "max_width": null,
       "min_height": null,
       "min_width": null,
       "object_fit": null,
       "object_position": null,
       "order": null,
       "overflow": null,
       "padding": null,
       "right": null,
       "top": null,
       "visibility": null,
       "width": null
      }
     },
     "9169740e6b0c4e44afbd1108ce8d0e2e": {
      "model_module": "@jupyter-widgets/controls",
      "model_module_version": "2.0.0",
      "model_name": "HTMLStyleModel",
      "state": {
       "_model_module": "@jupyter-widgets/controls",
       "_model_module_version": "2.0.0",
       "_model_name": "HTMLStyleModel",
       "_view_count": null,
       "_view_module": "@jupyter-widgets/base",
       "_view_module_version": "2.0.0",
       "_view_name": "StyleView",
       "background": null,
       "description_width": "",
       "font_size": null,
       "text_color": null
      }
     },
     "97733a17fab744d689d6e12c68205430": {
      "model_module": "@jupyter-widgets/base",
      "model_module_version": "2.0.0",
      "model_name": "LayoutModel",
      "state": {
       "_model_module": "@jupyter-widgets/base",
       "_model_module_version": "2.0.0",
       "_model_name": "LayoutModel",
       "_view_count": null,
       "_view_module": "@jupyter-widgets/base",
       "_view_module_version": "2.0.0",
       "_view_name": "LayoutView",
       "align_content": null,
       "align_items": null,
       "align_self": null,
       "border_bottom": null,
       "border_left": null,
       "border_right": null,
       "border_top": null,
       "bottom": null,
       "display": null,
       "flex": null,
       "flex_flow": null,
       "grid_area": null,
       "grid_auto_columns": null,
       "grid_auto_flow": null,
       "grid_auto_rows": null,
       "grid_column": null,
       "grid_gap": null,
       "grid_row": null,
       "grid_template_areas": null,
       "grid_template_columns": null,
       "grid_template_rows": null,
       "height": null,
       "justify_content": null,
       "justify_items": null,
       "left": null,
       "margin": null,
       "max_height": null,
       "max_width": null,
       "min_height": null,
       "min_width": null,
       "object_fit": null,
       "object_position": null,
       "order": null,
       "overflow": null,
       "padding": null,
       "right": null,
       "top": null,
       "visibility": null,
       "width": null
      }
     },
     "9b9ba8f3daea490ea81074fd94866881": {
      "model_module": "@jupyter-widgets/controls",
      "model_module_version": "2.0.0",
      "model_name": "HTMLModel",
      "state": {
       "_dom_classes": [],
       "_model_module": "@jupyter-widgets/controls",
       "_model_module_version": "2.0.0",
       "_model_name": "HTMLModel",
       "_view_count": null,
       "_view_module": "@jupyter-widgets/controls",
       "_view_module_version": "2.0.0",
       "_view_name": "HTMLView",
       "description": "",
       "description_allow_html": false,
       "layout": "IPY_MODEL_04327ee967e0424b8b247a870cd4338c",
       "placeholder": "​",
       "style": "IPY_MODEL_d78617391be6482f94711224f0f291b6",
       "tabbable": null,
       "tooltip": null,
       "value": "Loading checkpoint shards: 100%"
      }
     },
     "be8b11cbb6b14a30ace009c7a485150a": {
      "model_module": "@jupyter-widgets/controls",
      "model_module_version": "2.0.0",
      "model_name": "ProgressStyleModel",
      "state": {
       "_model_module": "@jupyter-widgets/controls",
       "_model_module_version": "2.0.0",
       "_model_name": "ProgressStyleModel",
       "_view_count": null,
       "_view_module": "@jupyter-widgets/base",
       "_view_module_version": "2.0.0",
       "_view_name": "StyleView",
       "bar_color": null,
       "description_width": ""
      }
     },
     "d78617391be6482f94711224f0f291b6": {
      "model_module": "@jupyter-widgets/controls",
      "model_module_version": "2.0.0",
      "model_name": "HTMLStyleModel",
      "state": {
       "_model_module": "@jupyter-widgets/controls",
       "_model_module_version": "2.0.0",
       "_model_name": "HTMLStyleModel",
       "_view_count": null,
       "_view_module": "@jupyter-widgets/base",
       "_view_module_version": "2.0.0",
       "_view_name": "StyleView",
       "background": null,
       "description_width": "",
       "font_size": null,
       "text_color": null
      }
     },
     "e2df5331b89043c1ab2f9e3aa41405b9": {
      "model_module": "@jupyter-widgets/controls",
      "model_module_version": "2.0.0",
      "model_name": "HBoxModel",
      "state": {
       "_dom_classes": [],
       "_model_module": "@jupyter-widgets/controls",
       "_model_module_version": "2.0.0",
       "_model_name": "HBoxModel",
       "_view_count": null,
       "_view_module": "@jupyter-widgets/controls",
       "_view_module_version": "2.0.0",
       "_view_name": "HBoxView",
       "box_style": "",
       "children": [
        "IPY_MODEL_9b9ba8f3daea490ea81074fd94866881",
        "IPY_MODEL_2366f8729c65473d8e4aae502caed83f",
        "IPY_MODEL_400d1d51f9a84850bf39d51725645f04"
       ],
       "layout": "IPY_MODEL_97733a17fab744d689d6e12c68205430",
       "tabbable": null,
       "tooltip": null
      }
     }
    },
    "version_major": 2,
    "version_minor": 0
   }
  }
 },
 "nbformat": 4,
 "nbformat_minor": 5
}
